{
 "metadata": {
  "language_info": {
   "codemirror_mode": {
    "name": "ipython",
    "version": 3
   },
   "file_extension": ".py",
   "mimetype": "text/x-python",
   "name": "python",
   "nbconvert_exporter": "python",
   "pygments_lexer": "ipython3",
   "version": 3
  },
  "orig_nbformat": 2,
  "kernelspec": {
   "name": "python_defaultSpec_1595701400174",
   "display_name": "Python 3.7.3 64-bit ('base': conda)"
  }
 },
 "nbformat": 4,
 "nbformat_minor": 2,
 "cells": [
  {
   "cell_type": "markdown",
   "metadata": {},
   "source": [
    "# Tweede kamer Topic modeling"
   ]
  },
  {
   "cell_type": "code",
   "execution_count": 1,
   "metadata": {},
   "outputs": [],
   "source": [
    "import pandas as pd\n",
    "import numpy as np\n",
    "import gensim\n",
    "import plotly.express as px\n",
    "import seaborn as sns\n",
    "from wordcloud import WordCloud, STOPWORDS, ImageColorGenerator\n",
    "import matplotlib.pyplot as plt\n",
    "from sklearn.feature_extraction.text import CountVectorizer\n",
    "\n",
    "import umap\n",
    "\n",
    "\n",
    "# Gensim\n",
    "import gensim.corpora as corpora\n",
    "from gensim.utils import simple_preprocess\n",
    "from gensim.models.ldamodel import LdaModel\n",
    "import pyLDAvis.gensim"
   ]
  },
  {
   "cell_type": "markdown",
   "metadata": {},
   "source": [
    "## Import data"
   ]
  },
  {
   "cell_type": "code",
   "execution_count": null,
   "metadata": {},
   "outputs": [],
   "source": [
    "## put data chuncks in one zip file\n",
    "!cat data/CorpusTweedeKamer* > CorpusTweedeKamer.zip"
   ]
  },
  {
   "cell_type": "code",
   "execution_count": 3,
   "metadata": {
    "tags": []
   },
   "outputs": [
    {
     "output_type": "stream",
     "name": "stdout",
     "text": "CPU times: user 13.2 s, sys: 890 ms, total: 14.1 s\nWall time: 14.4 s\n"
    }
   ],
   "source": [
    "%%time\n",
    "tweede_kamer = pd.read_csv(\"CorpusTweedeKamer.zip\")\n",
    "tweede_kamer = (\n",
    "    tweede_kamer\n",
    "    .assign(datum = pd.to_datetime(tweede_kamer.date))\n",
    "    .assign(speaker = tweede_kamer.speaker.str.lower())\n",
    ")"
   ]
  },
  {
   "cell_type": "code",
   "execution_count": 4,
   "metadata": {},
   "outputs": [
    {
     "output_type": "execute_result",
     "data": {
      "text/plain": "(1143366, 12)"
     },
     "metadata": {},
     "execution_count": 4
    }
   ],
   "source": [
    "tweede_kamer.shape"
   ]
  },
  {
   "cell_type": "code",
   "execution_count": 8,
   "metadata": {},
   "outputs": [
    {
     "output_type": "execute_result",
     "data": {
      "text/plain": "               date  agenda  speechnumber         speaker  party  \\\n274583   2001-12-06     NaN           194          de wit     SP   \n958394   2016-10-26     NaN           520   de heer elias    VVD   \n356298   2004-04-21     NaN           508      van velzen     SP   \n741743   2012-12-04     NaN           121     anne mulder    VVD   \n786064   2013-10-08     NaN           221           klein  other   \n964470   2016-11-16     NaN           276  de heer öztürk  other   \n68623    1996-10-17     NaN             1     rosenmöller     GL   \n738776   2012-11-21     NaN           291       verheijen    VVD   \n255890   2001-06-19     NaN           118      voorzitter  other   \n1084326  2018-10-31     NaN          1056  de heer klaver     GL   \n\n         party.facts.id  chair  terms  \\\n274583           1363.0  False     27   \n958394            828.0  False      2   \n356298           1363.0  False    372   \n741743            828.0  False    372   \n786064              NaN  False     79   \n964470              NaN  False      5   \n68623            1537.0  False   1352   \n738776            828.0  False    169   \n255890              NaN   True     28   \n1084326          1537.0  False     59   \n\n                                                      text      parliament  \\\n274583   Maar moet dat niet vaststaan voordat wij hier ...  NL-TweedeKamer   \n958394                            Of houdstermaatschappij.  NL-TweedeKamer   \n356298   Voorzitter. De minister van LNV heeft per brie...  NL-TweedeKamer   \n741743   Dat gebeurt al, want sterftecijfers worden ges...  NL-TweedeKamer   \n786064   Ik ben in dit verband even de weg kwijt. De he...  NL-TweedeKamer   \n964470                          Dan moet u goed luisteren.  NL-TweedeKamer   \n68623    Voorzitter! De Nederlandse politiek dreigt de ...  NL-TweedeKamer   \n738776   Het staat verderop in mijn tekst, die ik dan n...  NL-TweedeKamer   \n255890   Deze motie is voorgesteld door de leden Passto...  NL-TweedeKamer   \n1084326  Om half één 's nachts zitten er vast hordes me...  NL-TweedeKamer   \n\n        iso3country      datum  \n274583          NLD 2001-12-06  \n958394          NLD 2016-10-26  \n356298          NLD 2004-04-21  \n741743          NLD 2012-12-04  \n786064          NLD 2013-10-08  \n964470          NLD 2016-11-16  \n68623           NLD 1996-10-17  \n738776          NLD 2012-11-21  \n255890          NLD 2001-06-19  \n1084326         NLD 2018-10-31  ",
      "text/html": "<div>\n<style scoped>\n    .dataframe tbody tr th:only-of-type {\n        vertical-align: middle;\n    }\n\n    .dataframe tbody tr th {\n        vertical-align: top;\n    }\n\n    .dataframe thead th {\n        text-align: right;\n    }\n</style>\n<table border=\"1\" class=\"dataframe\">\n  <thead>\n    <tr style=\"text-align: right;\">\n      <th></th>\n      <th>date</th>\n      <th>agenda</th>\n      <th>speechnumber</th>\n      <th>speaker</th>\n      <th>party</th>\n      <th>party.facts.id</th>\n      <th>chair</th>\n      <th>terms</th>\n      <th>text</th>\n      <th>parliament</th>\n      <th>iso3country</th>\n      <th>datum</th>\n    </tr>\n  </thead>\n  <tbody>\n    <tr>\n      <th>274583</th>\n      <td>2001-12-06</td>\n      <td>NaN</td>\n      <td>194</td>\n      <td>de wit</td>\n      <td>SP</td>\n      <td>1363.0</td>\n      <td>False</td>\n      <td>27</td>\n      <td>Maar moet dat niet vaststaan voordat wij hier ...</td>\n      <td>NL-TweedeKamer</td>\n      <td>NLD</td>\n      <td>2001-12-06</td>\n    </tr>\n    <tr>\n      <th>958394</th>\n      <td>2016-10-26</td>\n      <td>NaN</td>\n      <td>520</td>\n      <td>de heer elias</td>\n      <td>VVD</td>\n      <td>828.0</td>\n      <td>False</td>\n      <td>2</td>\n      <td>Of houdstermaatschappij.</td>\n      <td>NL-TweedeKamer</td>\n      <td>NLD</td>\n      <td>2016-10-26</td>\n    </tr>\n    <tr>\n      <th>356298</th>\n      <td>2004-04-21</td>\n      <td>NaN</td>\n      <td>508</td>\n      <td>van velzen</td>\n      <td>SP</td>\n      <td>1363.0</td>\n      <td>False</td>\n      <td>372</td>\n      <td>Voorzitter. De minister van LNV heeft per brie...</td>\n      <td>NL-TweedeKamer</td>\n      <td>NLD</td>\n      <td>2004-04-21</td>\n    </tr>\n    <tr>\n      <th>741743</th>\n      <td>2012-12-04</td>\n      <td>NaN</td>\n      <td>121</td>\n      <td>anne mulder</td>\n      <td>VVD</td>\n      <td>828.0</td>\n      <td>False</td>\n      <td>372</td>\n      <td>Dat gebeurt al, want sterftecijfers worden ges...</td>\n      <td>NL-TweedeKamer</td>\n      <td>NLD</td>\n      <td>2012-12-04</td>\n    </tr>\n    <tr>\n      <th>786064</th>\n      <td>2013-10-08</td>\n      <td>NaN</td>\n      <td>221</td>\n      <td>klein</td>\n      <td>other</td>\n      <td>NaN</td>\n      <td>False</td>\n      <td>79</td>\n      <td>Ik ben in dit verband even de weg kwijt. De he...</td>\n      <td>NL-TweedeKamer</td>\n      <td>NLD</td>\n      <td>2013-10-08</td>\n    </tr>\n    <tr>\n      <th>964470</th>\n      <td>2016-11-16</td>\n      <td>NaN</td>\n      <td>276</td>\n      <td>de heer öztürk</td>\n      <td>other</td>\n      <td>NaN</td>\n      <td>False</td>\n      <td>5</td>\n      <td>Dan moet u goed luisteren.</td>\n      <td>NL-TweedeKamer</td>\n      <td>NLD</td>\n      <td>2016-11-16</td>\n    </tr>\n    <tr>\n      <th>68623</th>\n      <td>1996-10-17</td>\n      <td>NaN</td>\n      <td>1</td>\n      <td>rosenmöller</td>\n      <td>GL</td>\n      <td>1537.0</td>\n      <td>False</td>\n      <td>1352</td>\n      <td>Voorzitter! De Nederlandse politiek dreigt de ...</td>\n      <td>NL-TweedeKamer</td>\n      <td>NLD</td>\n      <td>1996-10-17</td>\n    </tr>\n    <tr>\n      <th>738776</th>\n      <td>2012-11-21</td>\n      <td>NaN</td>\n      <td>291</td>\n      <td>verheijen</td>\n      <td>VVD</td>\n      <td>828.0</td>\n      <td>False</td>\n      <td>169</td>\n      <td>Het staat verderop in mijn tekst, die ik dan n...</td>\n      <td>NL-TweedeKamer</td>\n      <td>NLD</td>\n      <td>2012-11-21</td>\n    </tr>\n    <tr>\n      <th>255890</th>\n      <td>2001-06-19</td>\n      <td>NaN</td>\n      <td>118</td>\n      <td>voorzitter</td>\n      <td>other</td>\n      <td>NaN</td>\n      <td>True</td>\n      <td>28</td>\n      <td>Deze motie is voorgesteld door de leden Passto...</td>\n      <td>NL-TweedeKamer</td>\n      <td>NLD</td>\n      <td>2001-06-19</td>\n    </tr>\n    <tr>\n      <th>1084326</th>\n      <td>2018-10-31</td>\n      <td>NaN</td>\n      <td>1056</td>\n      <td>de heer klaver</td>\n      <td>GL</td>\n      <td>1537.0</td>\n      <td>False</td>\n      <td>59</td>\n      <td>Om half één 's nachts zitten er vast hordes me...</td>\n      <td>NL-TweedeKamer</td>\n      <td>NLD</td>\n      <td>2018-10-31</td>\n    </tr>\n  </tbody>\n</table>\n</div>"
     },
     "metadata": {},
     "execution_count": 8
    }
   ],
   "source": [
    "tweede_kamer.sample(10)"
   ]
  },
  {
   "cell_type": "markdown",
   "metadata": {},
   "source": [
    "### Embded"
   ]
  },
  {
   "cell_type": "code",
   "execution_count": null,
   "metadata": {},
   "outputs": [],
   "source": []
  }
 ]
}