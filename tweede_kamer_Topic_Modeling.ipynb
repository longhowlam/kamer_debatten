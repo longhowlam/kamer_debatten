{
 "metadata": {
  "language_info": {
   "codemirror_mode": {
    "name": "ipython",
    "version": 3
   },
   "file_extension": ".py",
   "mimetype": "text/x-python",
   "name": "python",
   "nbconvert_exporter": "python",
   "pygments_lexer": "ipython3",
   "version": 3
  },
  "orig_nbformat": 2,
  "kernelspec": {
   "name": "python_defaultSpec_1596539039746",
   "display_name": "Python 3.7.3 64-bit ('base': conda)"
  }
 },
 "nbformat": 4,
 "nbformat_minor": 2,
 "cells": [
  {
   "cell_type": "markdown",
   "metadata": {},
   "source": [
    "# Tweede kamer Topic modeling"
   ]
  },
  {
   "cell_type": "code",
   "execution_count": 9,
   "metadata": {},
   "outputs": [],
   "source": [
    "import pandas as pd\n",
    "import numpy as np\n",
    "import gensim\n",
    "import plotly.express as px\n",
    "import seaborn as sns\n",
    "from wordcloud import WordCloud, STOPWORDS, ImageColorGenerator\n",
    "import matplotlib.pyplot as plt\n",
    "from sklearn.feature_extraction.text import CountVectorizer\n",
    "\n",
    "import umap\n",
    "\n",
    "import spacy\n",
    "nlp = spacy.load(\"nl\")\n",
    "\n",
    "# Gensim\n",
    "import gensim.corpora as corpora\n",
    "from gensim.utils import simple_preprocess\n",
    "from gensim.models.ldamodel import LdaModel\n",
    "import pyLDAvis.gensim"
   ]
  },
  {
   "cell_type": "markdown",
   "metadata": {},
   "source": [
    "## Import data"
   ]
  },
  {
   "cell_type": "code",
   "execution_count": null,
   "metadata": {},
   "outputs": [],
   "source": [
    "## put data chuncks in one zip file\n",
    "#!cat data/CorpusTweedeKamer* > CorpusTweedeKamer.zip"
   ]
  },
  {
   "cell_type": "code",
   "execution_count": 3,
   "metadata": {
    "tags": []
   },
   "outputs": [
    {
     "output_type": "stream",
     "name": "stdout",
     "text": "CPU times: user 13.3 s, sys: 1.27 s, total: 14.6 s\nWall time: 15 s\n"
    }
   ],
   "source": [
    "%%time\n",
    "tweede_kamer = pd.read_csv(\"CorpusTweedeKamer.zip\")\n",
    "tweede_kamer = (\n",
    "    tweede_kamer\n",
    "    .assign(datum = pd.to_datetime(tweede_kamer.date))\n",
    "    .assign(speaker = tweede_kamer.speaker.str.lower())\n",
    ")"
   ]
  },
  {
   "cell_type": "code",
   "execution_count": 4,
   "metadata": {},
   "outputs": [
    {
     "output_type": "execute_result",
     "data": {
      "text/plain": "(1143366, 12)"
     },
     "metadata": {},
     "execution_count": 4
    }
   ],
   "source": [
    "tweede_kamer.shape"
   ]
  },
  {
   "cell_type": "code",
   "execution_count": 5,
   "metadata": {},
   "outputs": [
    {
     "output_type": "execute_result",
     "data": {
      "text/plain": "              date  agenda  speechnumber               speaker party  \\\n659615  2011-04-21     NaN           362              zijlstra   VVD   \n477094  2007-10-04     NaN           127                  kant    SP   \n103218  1997-06-19     NaN            23  oedayraj singh varma    GL   \n77785   1996-11-20     NaN            87       noorman-den uyl  PvdA   \n743885  2012-12-11     NaN           341              kerstens  PvdA   \n276049  2001-12-13     NaN            38                  slob    CU   \n940225  2016-06-15     NaN           442      de heer bisschop   SGP   \n295218  2002-09-25     NaN            55              de graaf   D66   \n360245  2004-06-03     NaN           208             schippers   VVD   \n868394  2015-04-07     NaN           153                segers    CU   \n\n        party.facts.id  chair  terms  \\\n659615           828.0  False     21   \n477094          1363.0  False     53   \n103218          1537.0  False     51   \n77785           1234.0  False   1185   \n743885          1234.0  False    106   \n276049          1459.0  False    219   \n940225          1178.0  False    119   \n295218            45.0  False     99   \n360245           828.0  False     21   \n868394          1459.0  False    144   \n\n                                                     text      parliament  \\\n659615                          Dat was mij niet ontgaan.  NL-TweedeKamer   \n477094  Daarmee zijn wij weer terug bij de doelstellin...  NL-TweedeKamer   \n103218  De heer Van Boxtel noemt de ons omringende lan...  NL-TweedeKamer   \n77785   Voorzitter! Ik vraag de minister in dit kader,...  NL-TweedeKamer   \n743885  Dat zijn twee vragen. De eerste vraag dacht ik...  NL-TweedeKamer   \n276049  Op uw eerste vraag antwoord ik heel nadrukkeli...  NL-TweedeKamer   \n940225  Ik zou niet weten hoe de SGP-fractie in de Eer...  NL-TweedeKamer   \n295218  Voorzitter. Het zou niet in mij opkomen om de ...  NL-TweedeKamer   \n360245  Dat geldt ook voor de apotheken die soms in ei...  NL-TweedeKamer   \n868394  De zorgen in 2008 waren als volgt. Is het prop...  NL-TweedeKamer   \n\n       iso3country      datum  \n659615         NLD 2011-04-21  \n477094         NLD 2007-10-04  \n103218         NLD 1997-06-19  \n77785          NLD 1996-11-20  \n743885         NLD 2012-12-11  \n276049         NLD 2001-12-13  \n940225         NLD 2016-06-15  \n295218         NLD 2002-09-25  \n360245         NLD 2004-06-03  \n868394         NLD 2015-04-07  ",
      "text/html": "<div>\n<style scoped>\n    .dataframe tbody tr th:only-of-type {\n        vertical-align: middle;\n    }\n\n    .dataframe tbody tr th {\n        vertical-align: top;\n    }\n\n    .dataframe thead th {\n        text-align: right;\n    }\n</style>\n<table border=\"1\" class=\"dataframe\">\n  <thead>\n    <tr style=\"text-align: right;\">\n      <th></th>\n      <th>date</th>\n      <th>agenda</th>\n      <th>speechnumber</th>\n      <th>speaker</th>\n      <th>party</th>\n      <th>party.facts.id</th>\n      <th>chair</th>\n      <th>terms</th>\n      <th>text</th>\n      <th>parliament</th>\n      <th>iso3country</th>\n      <th>datum</th>\n    </tr>\n  </thead>\n  <tbody>\n    <tr>\n      <th>659615</th>\n      <td>2011-04-21</td>\n      <td>NaN</td>\n      <td>362</td>\n      <td>zijlstra</td>\n      <td>VVD</td>\n      <td>828.0</td>\n      <td>False</td>\n      <td>21</td>\n      <td>Dat was mij niet ontgaan.</td>\n      <td>NL-TweedeKamer</td>\n      <td>NLD</td>\n      <td>2011-04-21</td>\n    </tr>\n    <tr>\n      <th>477094</th>\n      <td>2007-10-04</td>\n      <td>NaN</td>\n      <td>127</td>\n      <td>kant</td>\n      <td>SP</td>\n      <td>1363.0</td>\n      <td>False</td>\n      <td>53</td>\n      <td>Daarmee zijn wij weer terug bij de doelstellin...</td>\n      <td>NL-TweedeKamer</td>\n      <td>NLD</td>\n      <td>2007-10-04</td>\n    </tr>\n    <tr>\n      <th>103218</th>\n      <td>1997-06-19</td>\n      <td>NaN</td>\n      <td>23</td>\n      <td>oedayraj singh varma</td>\n      <td>GL</td>\n      <td>1537.0</td>\n      <td>False</td>\n      <td>51</td>\n      <td>De heer Van Boxtel noemt de ons omringende lan...</td>\n      <td>NL-TweedeKamer</td>\n      <td>NLD</td>\n      <td>1997-06-19</td>\n    </tr>\n    <tr>\n      <th>77785</th>\n      <td>1996-11-20</td>\n      <td>NaN</td>\n      <td>87</td>\n      <td>noorman-den uyl</td>\n      <td>PvdA</td>\n      <td>1234.0</td>\n      <td>False</td>\n      <td>1185</td>\n      <td>Voorzitter! Ik vraag de minister in dit kader,...</td>\n      <td>NL-TweedeKamer</td>\n      <td>NLD</td>\n      <td>1996-11-20</td>\n    </tr>\n    <tr>\n      <th>743885</th>\n      <td>2012-12-11</td>\n      <td>NaN</td>\n      <td>341</td>\n      <td>kerstens</td>\n      <td>PvdA</td>\n      <td>1234.0</td>\n      <td>False</td>\n      <td>106</td>\n      <td>Dat zijn twee vragen. De eerste vraag dacht ik...</td>\n      <td>NL-TweedeKamer</td>\n      <td>NLD</td>\n      <td>2012-12-11</td>\n    </tr>\n    <tr>\n      <th>276049</th>\n      <td>2001-12-13</td>\n      <td>NaN</td>\n      <td>38</td>\n      <td>slob</td>\n      <td>CU</td>\n      <td>1459.0</td>\n      <td>False</td>\n      <td>219</td>\n      <td>Op uw eerste vraag antwoord ik heel nadrukkeli...</td>\n      <td>NL-TweedeKamer</td>\n      <td>NLD</td>\n      <td>2001-12-13</td>\n    </tr>\n    <tr>\n      <th>940225</th>\n      <td>2016-06-15</td>\n      <td>NaN</td>\n      <td>442</td>\n      <td>de heer bisschop</td>\n      <td>SGP</td>\n      <td>1178.0</td>\n      <td>False</td>\n      <td>119</td>\n      <td>Ik zou niet weten hoe de SGP-fractie in de Eer...</td>\n      <td>NL-TweedeKamer</td>\n      <td>NLD</td>\n      <td>2016-06-15</td>\n    </tr>\n    <tr>\n      <th>295218</th>\n      <td>2002-09-25</td>\n      <td>NaN</td>\n      <td>55</td>\n      <td>de graaf</td>\n      <td>D66</td>\n      <td>45.0</td>\n      <td>False</td>\n      <td>99</td>\n      <td>Voorzitter. Het zou niet in mij opkomen om de ...</td>\n      <td>NL-TweedeKamer</td>\n      <td>NLD</td>\n      <td>2002-09-25</td>\n    </tr>\n    <tr>\n      <th>360245</th>\n      <td>2004-06-03</td>\n      <td>NaN</td>\n      <td>208</td>\n      <td>schippers</td>\n      <td>VVD</td>\n      <td>828.0</td>\n      <td>False</td>\n      <td>21</td>\n      <td>Dat geldt ook voor de apotheken die soms in ei...</td>\n      <td>NL-TweedeKamer</td>\n      <td>NLD</td>\n      <td>2004-06-03</td>\n    </tr>\n    <tr>\n      <th>868394</th>\n      <td>2015-04-07</td>\n      <td>NaN</td>\n      <td>153</td>\n      <td>segers</td>\n      <td>CU</td>\n      <td>1459.0</td>\n      <td>False</td>\n      <td>144</td>\n      <td>De zorgen in 2008 waren als volgt. Is het prop...</td>\n      <td>NL-TweedeKamer</td>\n      <td>NLD</td>\n      <td>2015-04-07</td>\n    </tr>\n  </tbody>\n</table>\n</div>"
     },
     "metadata": {},
     "execution_count": 5
    }
   ],
   "source": [
    "tweede_kamer.sample(10)"
   ]
  },
  {
   "cell_type": "markdown",
   "metadata": {},
   "source": [
    "## TOPIC Modeling"
   ]
  },
  {
   "cell_type": "markdown",
   "metadata": {},
   "source": [
    "### selection of more recent speeches that are longer"
   ]
  },
  {
   "cell_type": "code",
   "execution_count": 14,
   "metadata": {},
   "outputs": [],
   "source": [
    "recente_speeches = (\n",
    "    tweede_kamer\n",
    "    .query('datum > \"2019-01-01\"')\n",
    "    .query('terms > 30')\n",
    ")"
   ]
  },
  {
   "cell_type": "code",
   "execution_count": 18,
   "metadata": {},
   "outputs": [
    {
     "output_type": "execute_result",
     "data": {
      "text/plain": "               date  agenda  speechnumber                         speaker  \\\n1101585  2019-01-15     NaN             4                  de heer klaver   \n1101587  2019-01-15     NaN             6                  minister rutte   \n1101588  2019-01-15     NaN             7                  de heer klaver   \n1101589  2019-01-15     NaN             8                  minister rutte   \n1101591  2019-01-15     NaN            10                  de heer klaver   \n...             ...     ...           ...                             ...   \n1143358  2019-07-04     NaN           962                de heer van ojik   \n1143359  2019-07-04     NaN           963  staatssecretaris broekers-knol   \n1143361  2019-07-04     NaN           965  staatssecretaris broekers-knol   \n1143363  2019-07-04     NaN           967                   de voorzitter   \n1143365  2019-07-04     NaN           969                   de voorzitter   \n\n        party  party.facts.id  chair  terms  \\\n1101585    GL          1537.0  False    327   \n1101587   NaN             NaN  False    485   \n1101588    GL          1537.0  False    276   \n1101589   NaN             NaN  False    275   \n1101591    GL          1537.0  False    204   \n...       ...             ...    ...    ...   \n1143358    GL          1537.0  False     65   \n1143359   NaN             NaN  False    290   \n1143361   NaN             NaN  False    142   \n1143363   NaN             NaN   True     62   \n1143365   NaN             NaN   True     75   \n\n                                                      text      parliament  \\\n1101585  Voorzitter. Als deze premier naar het grote be...  NL-TweedeKamer   \n1101587  Voorzitter. Het doel, in de Klimaatwet, waarva...  NL-TweedeKamer   \n1101588  Ik hoor hier randvoorwaarden. Dat kon je vorig...  NL-TweedeKamer   \n1101589  Op het tweede punt heb ik al geantwoord dat ik...  NL-TweedeKamer   \n1101591  Om ervoor te zorgen dat er zo breed mogelijk d...  NL-TweedeKamer   \n...                                                    ...             ...   \n1143358  Ik zou graag weten op basis waarvan de staatss...  NL-TweedeKamer   \n1143359  Ik ga uit van de gegevens die wij hebben gekre...  NL-TweedeKamer   \n1143361  Dan de motie op stuk nr. 2519 van de heer Hidd...  NL-TweedeKamer   \n1143363  Over exact 60 minuten gaan wij stemmen over de...  NL-TweedeKamer   \n1143365  Ja, wat mij betreft zou ik 60 seconden willen ...  NL-TweedeKamer   \n\n        iso3country      datum  \n1101585         NLD 2019-01-15  \n1101587         NLD 2019-01-15  \n1101588         NLD 2019-01-15  \n1101589         NLD 2019-01-15  \n1101591         NLD 2019-01-15  \n...             ...        ...  \n1143358         NLD 2019-07-04  \n1143359         NLD 2019-07-04  \n1143361         NLD 2019-07-04  \n1143363         NLD 2019-07-04  \n1143365         NLD 2019-07-04  \n\n[23973 rows x 12 columns]",
      "text/html": "<div>\n<style scoped>\n    .dataframe tbody tr th:only-of-type {\n        vertical-align: middle;\n    }\n\n    .dataframe tbody tr th {\n        vertical-align: top;\n    }\n\n    .dataframe thead th {\n        text-align: right;\n    }\n</style>\n<table border=\"1\" class=\"dataframe\">\n  <thead>\n    <tr style=\"text-align: right;\">\n      <th></th>\n      <th>date</th>\n      <th>agenda</th>\n      <th>speechnumber</th>\n      <th>speaker</th>\n      <th>party</th>\n      <th>party.facts.id</th>\n      <th>chair</th>\n      <th>terms</th>\n      <th>text</th>\n      <th>parliament</th>\n      <th>iso3country</th>\n      <th>datum</th>\n    </tr>\n  </thead>\n  <tbody>\n    <tr>\n      <th>1101585</th>\n      <td>2019-01-15</td>\n      <td>NaN</td>\n      <td>4</td>\n      <td>de heer klaver</td>\n      <td>GL</td>\n      <td>1537.0</td>\n      <td>False</td>\n      <td>327</td>\n      <td>Voorzitter. Als deze premier naar het grote be...</td>\n      <td>NL-TweedeKamer</td>\n      <td>NLD</td>\n      <td>2019-01-15</td>\n    </tr>\n    <tr>\n      <th>1101587</th>\n      <td>2019-01-15</td>\n      <td>NaN</td>\n      <td>6</td>\n      <td>minister rutte</td>\n      <td>NaN</td>\n      <td>NaN</td>\n      <td>False</td>\n      <td>485</td>\n      <td>Voorzitter. Het doel, in de Klimaatwet, waarva...</td>\n      <td>NL-TweedeKamer</td>\n      <td>NLD</td>\n      <td>2019-01-15</td>\n    </tr>\n    <tr>\n      <th>1101588</th>\n      <td>2019-01-15</td>\n      <td>NaN</td>\n      <td>7</td>\n      <td>de heer klaver</td>\n      <td>GL</td>\n      <td>1537.0</td>\n      <td>False</td>\n      <td>276</td>\n      <td>Ik hoor hier randvoorwaarden. Dat kon je vorig...</td>\n      <td>NL-TweedeKamer</td>\n      <td>NLD</td>\n      <td>2019-01-15</td>\n    </tr>\n    <tr>\n      <th>1101589</th>\n      <td>2019-01-15</td>\n      <td>NaN</td>\n      <td>8</td>\n      <td>minister rutte</td>\n      <td>NaN</td>\n      <td>NaN</td>\n      <td>False</td>\n      <td>275</td>\n      <td>Op het tweede punt heb ik al geantwoord dat ik...</td>\n      <td>NL-TweedeKamer</td>\n      <td>NLD</td>\n      <td>2019-01-15</td>\n    </tr>\n    <tr>\n      <th>1101591</th>\n      <td>2019-01-15</td>\n      <td>NaN</td>\n      <td>10</td>\n      <td>de heer klaver</td>\n      <td>GL</td>\n      <td>1537.0</td>\n      <td>False</td>\n      <td>204</td>\n      <td>Om ervoor te zorgen dat er zo breed mogelijk d...</td>\n      <td>NL-TweedeKamer</td>\n      <td>NLD</td>\n      <td>2019-01-15</td>\n    </tr>\n    <tr>\n      <th>...</th>\n      <td>...</td>\n      <td>...</td>\n      <td>...</td>\n      <td>...</td>\n      <td>...</td>\n      <td>...</td>\n      <td>...</td>\n      <td>...</td>\n      <td>...</td>\n      <td>...</td>\n      <td>...</td>\n      <td>...</td>\n    </tr>\n    <tr>\n      <th>1143358</th>\n      <td>2019-07-04</td>\n      <td>NaN</td>\n      <td>962</td>\n      <td>de heer van ojik</td>\n      <td>GL</td>\n      <td>1537.0</td>\n      <td>False</td>\n      <td>65</td>\n      <td>Ik zou graag weten op basis waarvan de staatss...</td>\n      <td>NL-TweedeKamer</td>\n      <td>NLD</td>\n      <td>2019-07-04</td>\n    </tr>\n    <tr>\n      <th>1143359</th>\n      <td>2019-07-04</td>\n      <td>NaN</td>\n      <td>963</td>\n      <td>staatssecretaris broekers-knol</td>\n      <td>NaN</td>\n      <td>NaN</td>\n      <td>False</td>\n      <td>290</td>\n      <td>Ik ga uit van de gegevens die wij hebben gekre...</td>\n      <td>NL-TweedeKamer</td>\n      <td>NLD</td>\n      <td>2019-07-04</td>\n    </tr>\n    <tr>\n      <th>1143361</th>\n      <td>2019-07-04</td>\n      <td>NaN</td>\n      <td>965</td>\n      <td>staatssecretaris broekers-knol</td>\n      <td>NaN</td>\n      <td>NaN</td>\n      <td>False</td>\n      <td>142</td>\n      <td>Dan de motie op stuk nr. 2519 van de heer Hidd...</td>\n      <td>NL-TweedeKamer</td>\n      <td>NLD</td>\n      <td>2019-07-04</td>\n    </tr>\n    <tr>\n      <th>1143363</th>\n      <td>2019-07-04</td>\n      <td>NaN</td>\n      <td>967</td>\n      <td>de voorzitter</td>\n      <td>NaN</td>\n      <td>NaN</td>\n      <td>True</td>\n      <td>62</td>\n      <td>Over exact 60 minuten gaan wij stemmen over de...</td>\n      <td>NL-TweedeKamer</td>\n      <td>NLD</td>\n      <td>2019-07-04</td>\n    </tr>\n    <tr>\n      <th>1143365</th>\n      <td>2019-07-04</td>\n      <td>NaN</td>\n      <td>969</td>\n      <td>de voorzitter</td>\n      <td>NaN</td>\n      <td>NaN</td>\n      <td>True</td>\n      <td>75</td>\n      <td>Ja, wat mij betreft zou ik 60 seconden willen ...</td>\n      <td>NL-TweedeKamer</td>\n      <td>NLD</td>\n      <td>2019-07-04</td>\n    </tr>\n  </tbody>\n</table>\n<p>23973 rows × 12 columns</p>\n</div>"
     },
     "metadata": {},
     "execution_count": 18
    }
   ],
   "source": [
    "recente_speeches"
   ]
  },
  {
   "cell_type": "markdown",
   "metadata": {},
   "source": [
    "### clean up\n",
    "\n",
    "stopwords\n",
    "\n",
    "digits"
   ]
  },
  {
   "cell_type": "code",
   "execution_count": 21,
   "metadata": {
    "tags": []
   },
   "outputs": [
    {
     "output_type": "stream",
     "name": "stdout",
     "text": "CPU times: user 977 ms, sys: 98.5 ms, total: 1.08 s\nWall time: 1.11 s\n"
    }
   ],
   "source": [
    "%%time \n",
    "\n",
    "from pprint import pprint\n",
    "from collections import defaultdict\n",
    "\n",
    "# remove common words and tokenize\n",
    "nlstop = spacy.lang.nl.stop_words.STOP_WORDS\n",
    "\n",
    "texts = [\n",
    "    [word for word in document.lower().split() if word not in nlstop]\n",
    "    for document in recente_speeches.text\n",
    "]"
   ]
  },
  {
   "cell_type": "code",
   "execution_count": 25,
   "metadata": {
    "tags": []
   },
   "outputs": [
    {
     "output_type": "stream",
     "name": "stdout",
     "text": "Dictionary(110891 unique tokens: ['150', '2018', '2018,', '2019', '2030']...)\nDictionary(25002 unique tokens: ['150', '2018', '2018,', '2019', '2030']...)\nCPU times: user 2.6 s, sys: 48.2 ms, total: 2.65 s\nWall time: 2.67 s\n"
    }
   ],
   "source": [
    "%%time \n",
    "\n",
    "dictionary = corpora.Dictionary(texts)\n",
    "print(dictionary)\n",
    "\n",
    "#### filter out extremes too little or too much frequencies.....\n",
    "dictionary.filter_extremes(\n",
    "    no_below = 5,\n",
    "    no_above = 0.95\n",
    ")\n",
    "print(dictionary)\n"
   ]
  },
  {
   "cell_type": "code",
   "execution_count": null,
   "metadata": {},
   "outputs": [],
   "source": []
  }
 ]
}