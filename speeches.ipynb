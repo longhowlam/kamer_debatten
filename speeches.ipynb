{
 "cells": [
  {
   "cell_type": "markdown",
   "metadata": {},
   "source": [
    "# Tweede kamer speeches\n",
    "\n",
    "\n",
    "Alle tweede kamer parlementaire debatten van 1995 t/m juni-2019 [zie deze site](https://dataverse.harvard.edu/dataset.xhtml?persistentId=doi:10.7910/DVN/L4OAKN) zijn in een data file bewaard.\n",
    "\n",
    "Analyze mogelijkheden\n",
    "\n",
    "* Metadata anlyse\n",
    "* Topic modeling\n",
    "* Word2Vec\n",
    "* CLassificatie naar partij\n",
    "\n"
   ]
  },
  {
   "cell_type": "code",
   "execution_count": null,
   "metadata": {},
   "outputs": [],
   "source": [
    "import pandas as pd\n",
    "import datatable as dt\n",
    "import gensim\n"
   ]
  },
  {
   "cell_type": "code",
   "execution_count": 15,
   "metadata": {},
   "outputs": [
    {
     "output_type": "stream",
     "name": "stdout",
     "text": "CPU times: user 13.5 s, sys: 3.28 s, total: 16.8 s\nWall time: 10.5 s\n"
    }
   ],
   "source": [
    "%%time\n",
    "### fread from the datatable package reads zipped file directly, we can then create a pandas data frame\n",
    "tweede_kamer = dt.fread(\"Corp_TweedeKamer.csv.zip\").to_pandas()"
   ]
  },
  {
   "cell_type": "code",
   "execution_count": 21,
   "metadata": {},
   "outputs": [
    {
     "output_type": "execute_result",
     "data": {
      "text/plain": "          date agenda  speechnumber         speaker party  party.facts.id  \\\n0   1994-12-20    NaN             1     Marijnissen    SP          1363.0   \n1   1994-12-20    NaN             2         Melkert  PvdA          1234.0   \n2   1994-12-20    NaN             3     Marijnissen    SP          1363.0   \n3   1994-12-20    NaN             4         Melkert  PvdA          1234.0   \n4   1994-12-20    NaN             5     Rosenmöller    GL          1537.0   \n..         ...    ...           ...             ...   ...             ...   \n95  1994-12-20    NaN            96         Lansink   CDA          1157.0   \n96  1994-12-20    NaN            97  Van Middelkoop   GPV          1602.0   \n97  1994-12-20    NaN            98         Lansink   CDA          1157.0   \n98  1994-12-20    NaN            99           Crone  PvdA          1234.0   \n99  1994-12-20    NaN           100          Remkes   VVD           828.0   \n\n    chair  terms                                               text  \\\n0   False    561  Mijnheer de voorzitter! Ik vertel de minister ...   \n1   False    706  Mijnheer de voorzitter! Mag ik allereerst de h...   \n2   False    304  Mijnheer de voorzitter! Hoewel ik het antwoord...   \n3   False    374  Mijnheer de voorzitter! Wat is onrechtvaardig?...   \n4   False    412  Voorzitter! Afgelopen zaterdag stond in NRC Ha...   \n..    ...    ...                                                ...   \n95  False     39  Wij kunnen altijd praten en discussiëren, tot ...   \n96  False      9                                         Volhouden!   \n97  False     43  De heer Crone is hypocriet als hij inkomende k...   \n98  False    109  Ik vind het gebruik van dit soort woorden buit...   \n99  False     95  Dat is voor een deel geen Europese aanpak, wan...   \n\n        parliament iso3country  \n0   NL-TweedeKamer         NLD  \n1   NL-TweedeKamer         NLD  \n2   NL-TweedeKamer         NLD  \n3   NL-TweedeKamer         NLD  \n4   NL-TweedeKamer         NLD  \n..             ...         ...  \n95  NL-TweedeKamer         NLD  \n96  NL-TweedeKamer         NLD  \n97  NL-TweedeKamer         NLD  \n98  NL-TweedeKamer         NLD  \n99  NL-TweedeKamer         NLD  \n\n[100 rows x 11 columns]",
      "text/html": "<div>\n<style scoped>\n    .dataframe tbody tr th:only-of-type {\n        vertical-align: middle;\n    }\n\n    .dataframe tbody tr th {\n        vertical-align: top;\n    }\n\n    .dataframe thead th {\n        text-align: right;\n    }\n</style>\n<table border=\"1\" class=\"dataframe\">\n  <thead>\n    <tr style=\"text-align: right;\">\n      <th></th>\n      <th>date</th>\n      <th>agenda</th>\n      <th>speechnumber</th>\n      <th>speaker</th>\n      <th>party</th>\n      <th>party.facts.id</th>\n      <th>chair</th>\n      <th>terms</th>\n      <th>text</th>\n      <th>parliament</th>\n      <th>iso3country</th>\n    </tr>\n  </thead>\n  <tbody>\n    <tr>\n      <th>0</th>\n      <td>1994-12-20</td>\n      <td>NaN</td>\n      <td>1</td>\n      <td>Marijnissen</td>\n      <td>SP</td>\n      <td>1363.0</td>\n      <td>False</td>\n      <td>561</td>\n      <td>Mijnheer de voorzitter! Ik vertel de minister ...</td>\n      <td>NL-TweedeKamer</td>\n      <td>NLD</td>\n    </tr>\n    <tr>\n      <th>1</th>\n      <td>1994-12-20</td>\n      <td>NaN</td>\n      <td>2</td>\n      <td>Melkert</td>\n      <td>PvdA</td>\n      <td>1234.0</td>\n      <td>False</td>\n      <td>706</td>\n      <td>Mijnheer de voorzitter! Mag ik allereerst de h...</td>\n      <td>NL-TweedeKamer</td>\n      <td>NLD</td>\n    </tr>\n    <tr>\n      <th>2</th>\n      <td>1994-12-20</td>\n      <td>NaN</td>\n      <td>3</td>\n      <td>Marijnissen</td>\n      <td>SP</td>\n      <td>1363.0</td>\n      <td>False</td>\n      <td>304</td>\n      <td>Mijnheer de voorzitter! Hoewel ik het antwoord...</td>\n      <td>NL-TweedeKamer</td>\n      <td>NLD</td>\n    </tr>\n    <tr>\n      <th>3</th>\n      <td>1994-12-20</td>\n      <td>NaN</td>\n      <td>4</td>\n      <td>Melkert</td>\n      <td>PvdA</td>\n      <td>1234.0</td>\n      <td>False</td>\n      <td>374</td>\n      <td>Mijnheer de voorzitter! Wat is onrechtvaardig?...</td>\n      <td>NL-TweedeKamer</td>\n      <td>NLD</td>\n    </tr>\n    <tr>\n      <th>4</th>\n      <td>1994-12-20</td>\n      <td>NaN</td>\n      <td>5</td>\n      <td>Rosenmöller</td>\n      <td>GL</td>\n      <td>1537.0</td>\n      <td>False</td>\n      <td>412</td>\n      <td>Voorzitter! Afgelopen zaterdag stond in NRC Ha...</td>\n      <td>NL-TweedeKamer</td>\n      <td>NLD</td>\n    </tr>\n    <tr>\n      <th>...</th>\n      <td>...</td>\n      <td>...</td>\n      <td>...</td>\n      <td>...</td>\n      <td>...</td>\n      <td>...</td>\n      <td>...</td>\n      <td>...</td>\n      <td>...</td>\n      <td>...</td>\n      <td>...</td>\n    </tr>\n    <tr>\n      <th>95</th>\n      <td>1994-12-20</td>\n      <td>NaN</td>\n      <td>96</td>\n      <td>Lansink</td>\n      <td>CDA</td>\n      <td>1157.0</td>\n      <td>False</td>\n      <td>39</td>\n      <td>Wij kunnen altijd praten en discussiëren, tot ...</td>\n      <td>NL-TweedeKamer</td>\n      <td>NLD</td>\n    </tr>\n    <tr>\n      <th>96</th>\n      <td>1994-12-20</td>\n      <td>NaN</td>\n      <td>97</td>\n      <td>Van Middelkoop</td>\n      <td>GPV</td>\n      <td>1602.0</td>\n      <td>False</td>\n      <td>9</td>\n      <td>Volhouden!</td>\n      <td>NL-TweedeKamer</td>\n      <td>NLD</td>\n    </tr>\n    <tr>\n      <th>97</th>\n      <td>1994-12-20</td>\n      <td>NaN</td>\n      <td>98</td>\n      <td>Lansink</td>\n      <td>CDA</td>\n      <td>1157.0</td>\n      <td>False</td>\n      <td>43</td>\n      <td>De heer Crone is hypocriet als hij inkomende k...</td>\n      <td>NL-TweedeKamer</td>\n      <td>NLD</td>\n    </tr>\n    <tr>\n      <th>98</th>\n      <td>1994-12-20</td>\n      <td>NaN</td>\n      <td>99</td>\n      <td>Crone</td>\n      <td>PvdA</td>\n      <td>1234.0</td>\n      <td>False</td>\n      <td>109</td>\n      <td>Ik vind het gebruik van dit soort woorden buit...</td>\n      <td>NL-TweedeKamer</td>\n      <td>NLD</td>\n    </tr>\n    <tr>\n      <th>99</th>\n      <td>1994-12-20</td>\n      <td>NaN</td>\n      <td>100</td>\n      <td>Remkes</td>\n      <td>VVD</td>\n      <td>828.0</td>\n      <td>False</td>\n      <td>95</td>\n      <td>Dat is voor een deel geen Europese aanpak, wan...</td>\n      <td>NL-TweedeKamer</td>\n      <td>NLD</td>\n    </tr>\n  </tbody>\n</table>\n<p>100 rows × 11 columns</p>\n</div>"
     },
     "metadata": {},
     "execution_count": 21
    }
   ],
   "source": [
    "tweede_kamer.head(100)"
   ]
  },
  {
   "cell_type": "markdown",
   "metadata": {},
   "source": [
    "## Metadata analyse"
   ]
  },
  {
   "cell_type": "code",
   "execution_count": 17,
   "metadata": {},
   "outputs": [
    {
     "output_type": "execute_result",
     "data": {
      "text/plain": "VVD       168276\nPvdA      165516\nCDA       161799\nother     131339\n          111633\nD66       103579\nSP         87637\nGL         81225\nPVV        38495\nCU         34177\nSGP        23460\nPvdD       10242\nLPF         6573\nRPF         5860\nGPV         5279\n50PLUS      3221\nDENK        3021\nFvD         2034\nName: party, dtype: int64"
     },
     "metadata": {},
     "execution_count": 17
    }
   ],
   "source": [
    "tweede_kamer.party.value_counts()"
   ]
  },
  {
   "cell_type": "code",
   "execution_count": 19,
   "metadata": {},
   "outputs": [],
   "source": [
    "speakers = tweede_kamer.speaker.value_counts()"
   ]
  },
  {
   "cell_type": "code",
   "execution_count": 20,
   "metadata": {},
   "outputs": [
    {
     "output_type": "execute_result",
     "data": {
      "text/plain": "NLD    1143366\nName: iso3country, dtype: int64"
     },
     "metadata": {},
     "execution_count": 20
    }
   ],
   "source": [
    "tweede_kamer.iso3country.value_counts()"
   ]
  },
  {
   "cell_type": "code",
   "execution_count": null,
   "metadata": {},
   "outputs": [],
   "source": []
  }
 ],
 "metadata": {
  "language_info": {
   "codemirror_mode": {
    "name": "ipython",
    "version": 3
   },
   "file_extension": ".py",
   "mimetype": "text/x-python",
   "name": "python",
   "nbconvert_exporter": "python",
   "pygments_lexer": "ipython3",
   "version": "3.7.3-final"
  },
  "orig_nbformat": 2,
  "kernelspec": {
   "name": "python37364bitbaseconda237d47ed00c34faa8bb5ab0c5c219e3a",
   "display_name": "Python 3.7.3 64-bit ('base': conda)"
  }
 },
 "nbformat": 4,
 "nbformat_minor": 2
}