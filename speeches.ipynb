{
 "cells": [
  {
   "cell_type": "markdown",
   "metadata": {},
   "source": [
    "# Tweede kamer speeches\n",
    "\n",
    "\n",
    "Alle tweede kamer parlementaire debatten van 1995 t/m juni-2019 [zie deze site](https://dataverse.harvard.edu/dataset.xhtml?persistentId=doi:10.7910/DVN/L4OAKN) zijn in een data file bewaard.\n",
    "\n",
    "Analyze mogelijkheden\n",
    "\n",
    "* Metadata anlyse\n",
    "* Topic modeling\n",
    "* Word2Vec\n",
    "* CLassificatie naar partij\n",
    "\n"
   ]
  },
  {
   "cell_type": "code",
   "execution_count": 2,
   "metadata": {},
   "outputs": [],
   "source": [
    "import pandas as pd\n",
    "import datatable as dt\n",
    "import gensim\n"
   ]
  },
  {
   "cell_type": "code",
   "execution_count": 3,
   "metadata": {},
   "outputs": [
    {
     "output_type": "stream",
     "name": "stdout",
     "text": "CPU times: user 13.4 s, sys: 2.84 s, total: 16.3 s\nWall time: 9.94 s\n"
    }
   ],
   "source": [
    "%%time\n",
    "### fread from the datatable package reads zipped file directly, we can then create a pandas data frame\n",
    "tweede_kamer = dt.fread(\"Corp_TweedeKamer.csv.zip\").to_pandas()"
   ]
  },
  {
   "cell_type": "code",
   "execution_count": 4,
   "metadata": {},
   "outputs": [
    {
     "output_type": "execute_result",
     "data": {
      "text/plain": "               date agenda  speechnumber                 speaker party  \\\n75106    1996-11-07    NaN           535                Van Hoof   VVD   \n409795   2005-11-02    NaN            72                 De Geus   CDA   \n975255   2017-01-18    NaN           234           De voorzitter         \n502431   2008-03-12    NaN           451                 Verburg   CDA   \n1063540  2018-06-27    NaN           111       De heer Raemakers   D66   \n940421   2016-06-15    NaN           638  Minister Van der Steur         \n118884   1997-10-30    NaN           481             Rosenmöller    GL   \n499647   2008-02-28    NaN           261                Ulenbelt    SP   \n933439   2016-05-19    NaN           298  De heer Otwin van Dijk  PvdA   \n893145   2015-10-08    NaN           444                   Rutte   VVD   \n\n         party.facts.id  chair  terms  \\\n75106             828.0  False    111   \n409795           1157.0  False    132   \n975255              NaN   True     12   \n502431           1157.0  False    216   \n1063540            45.0  False     85   \n940421              NaN  False    101   \n118884           1537.0  False     62   \n499647           1363.0  False     37   \n933439           1234.0  False     18   \n893145            828.0  False    172   \n\n                                                      text      parliament  \\\n75106    Misschien mag ik antwoorden? Als men de tekst ...  NL-TweedeKamer   \n409795   Over dat onderzoek heb ik u al eerder geschrev...  NL-TweedeKamer   \n975255   Ik zie dat de heer Klein direct kan antwoorden...  NL-TweedeKamer   \n502431   In eerste instantie moet er de bereidheid zijn...  NL-TweedeKamer   \n1063540  Precies het feit dat we natuurlijk liever hebb...  NL-TweedeKamer   \n940421   Dat blijkt uit het feit dat ik zeer goede gesp...  NL-TweedeKamer   \n118884   Veel mensen die dit beleidsterrein van de mini...  NL-TweedeKamer   \n499647   Dat vroeg ik niet. Ik vroeg of u uitsluit, los...  NL-TweedeKamer   \n933439   Ik vier helemaal niets. Mijn oproep aan de sta...  NL-TweedeKamer   \n893145   Ik ben op geen enkele manier uit op het aantas...  NL-TweedeKamer   \n\n        iso3country  \n75106           NLD  \n409795          NLD  \n975255          NLD  \n502431          NLD  \n1063540         NLD  \n940421          NLD  \n118884          NLD  \n499647          NLD  \n933439          NLD  \n893145          NLD  ",
      "text/html": "<div>\n<style scoped>\n    .dataframe tbody tr th:only-of-type {\n        vertical-align: middle;\n    }\n\n    .dataframe tbody tr th {\n        vertical-align: top;\n    }\n\n    .dataframe thead th {\n        text-align: right;\n    }\n</style>\n<table border=\"1\" class=\"dataframe\">\n  <thead>\n    <tr style=\"text-align: right;\">\n      <th></th>\n      <th>date</th>\n      <th>agenda</th>\n      <th>speechnumber</th>\n      <th>speaker</th>\n      <th>party</th>\n      <th>party.facts.id</th>\n      <th>chair</th>\n      <th>terms</th>\n      <th>text</th>\n      <th>parliament</th>\n      <th>iso3country</th>\n    </tr>\n  </thead>\n  <tbody>\n    <tr>\n      <th>75106</th>\n      <td>1996-11-07</td>\n      <td>NaN</td>\n      <td>535</td>\n      <td>Van Hoof</td>\n      <td>VVD</td>\n      <td>828.0</td>\n      <td>False</td>\n      <td>111</td>\n      <td>Misschien mag ik antwoorden? Als men de tekst ...</td>\n      <td>NL-TweedeKamer</td>\n      <td>NLD</td>\n    </tr>\n    <tr>\n      <th>409795</th>\n      <td>2005-11-02</td>\n      <td>NaN</td>\n      <td>72</td>\n      <td>De Geus</td>\n      <td>CDA</td>\n      <td>1157.0</td>\n      <td>False</td>\n      <td>132</td>\n      <td>Over dat onderzoek heb ik u al eerder geschrev...</td>\n      <td>NL-TweedeKamer</td>\n      <td>NLD</td>\n    </tr>\n    <tr>\n      <th>975255</th>\n      <td>2017-01-18</td>\n      <td>NaN</td>\n      <td>234</td>\n      <td>De voorzitter</td>\n      <td></td>\n      <td>NaN</td>\n      <td>True</td>\n      <td>12</td>\n      <td>Ik zie dat de heer Klein direct kan antwoorden...</td>\n      <td>NL-TweedeKamer</td>\n      <td>NLD</td>\n    </tr>\n    <tr>\n      <th>502431</th>\n      <td>2008-03-12</td>\n      <td>NaN</td>\n      <td>451</td>\n      <td>Verburg</td>\n      <td>CDA</td>\n      <td>1157.0</td>\n      <td>False</td>\n      <td>216</td>\n      <td>In eerste instantie moet er de bereidheid zijn...</td>\n      <td>NL-TweedeKamer</td>\n      <td>NLD</td>\n    </tr>\n    <tr>\n      <th>1063540</th>\n      <td>2018-06-27</td>\n      <td>NaN</td>\n      <td>111</td>\n      <td>De heer Raemakers</td>\n      <td>D66</td>\n      <td>45.0</td>\n      <td>False</td>\n      <td>85</td>\n      <td>Precies het feit dat we natuurlijk liever hebb...</td>\n      <td>NL-TweedeKamer</td>\n      <td>NLD</td>\n    </tr>\n    <tr>\n      <th>940421</th>\n      <td>2016-06-15</td>\n      <td>NaN</td>\n      <td>638</td>\n      <td>Minister Van der Steur</td>\n      <td></td>\n      <td>NaN</td>\n      <td>False</td>\n      <td>101</td>\n      <td>Dat blijkt uit het feit dat ik zeer goede gesp...</td>\n      <td>NL-TweedeKamer</td>\n      <td>NLD</td>\n    </tr>\n    <tr>\n      <th>118884</th>\n      <td>1997-10-30</td>\n      <td>NaN</td>\n      <td>481</td>\n      <td>Rosenmöller</td>\n      <td>GL</td>\n      <td>1537.0</td>\n      <td>False</td>\n      <td>62</td>\n      <td>Veel mensen die dit beleidsterrein van de mini...</td>\n      <td>NL-TweedeKamer</td>\n      <td>NLD</td>\n    </tr>\n    <tr>\n      <th>499647</th>\n      <td>2008-02-28</td>\n      <td>NaN</td>\n      <td>261</td>\n      <td>Ulenbelt</td>\n      <td>SP</td>\n      <td>1363.0</td>\n      <td>False</td>\n      <td>37</td>\n      <td>Dat vroeg ik niet. Ik vroeg of u uitsluit, los...</td>\n      <td>NL-TweedeKamer</td>\n      <td>NLD</td>\n    </tr>\n    <tr>\n      <th>933439</th>\n      <td>2016-05-19</td>\n      <td>NaN</td>\n      <td>298</td>\n      <td>De heer Otwin van Dijk</td>\n      <td>PvdA</td>\n      <td>1234.0</td>\n      <td>False</td>\n      <td>18</td>\n      <td>Ik vier helemaal niets. Mijn oproep aan de sta...</td>\n      <td>NL-TweedeKamer</td>\n      <td>NLD</td>\n    </tr>\n    <tr>\n      <th>893145</th>\n      <td>2015-10-08</td>\n      <td>NaN</td>\n      <td>444</td>\n      <td>Rutte</td>\n      <td>VVD</td>\n      <td>828.0</td>\n      <td>False</td>\n      <td>172</td>\n      <td>Ik ben op geen enkele manier uit op het aantas...</td>\n      <td>NL-TweedeKamer</td>\n      <td>NLD</td>\n    </tr>\n  </tbody>\n</table>\n</div>"
     },
     "metadata": {},
     "execution_count": 4
    }
   ],
   "source": [
    "tweede_kamer.sample(10)"
   ]
  },
  {
   "cell_type": "markdown",
   "metadata": {},
   "source": [
    "## Metadata analyse"
   ]
  },
  {
   "cell_type": "code",
   "execution_count": 17,
   "metadata": {},
   "outputs": [
    {
     "output_type": "execute_result",
     "data": {
      "text/plain": "VVD       168276\nPvdA      165516\nCDA       161799\nother     131339\n          111633\nD66       103579\nSP         87637\nGL         81225\nPVV        38495\nCU         34177\nSGP        23460\nPvdD       10242\nLPF         6573\nRPF         5860\nGPV         5279\n50PLUS      3221\nDENK        3021\nFvD         2034\nName: party, dtype: int64"
     },
     "metadata": {},
     "execution_count": 17
    }
   ],
   "source": [
    "tweede_kamer.party.value_counts()"
   ]
  },
  {
   "cell_type": "code",
   "execution_count": 19,
   "metadata": {},
   "outputs": [],
   "source": [
    "speakers = tweede_kamer.speaker.value_counts()"
   ]
  },
  {
   "cell_type": "code",
   "execution_count": 20,
   "metadata": {},
   "outputs": [
    {
     "output_type": "execute_result",
     "data": {
      "text/plain": "NLD    1143366\nName: iso3country, dtype: int64"
     },
     "metadata": {},
     "execution_count": 20
    }
   ],
   "source": [
    "tweede_kamer.iso3country.value_counts()"
   ]
  },
  {
   "cell_type": "code",
   "execution_count": null,
   "metadata": {},
   "outputs": [],
   "source": []
  }
 ],
 "metadata": {
  "language_info": {
   "codemirror_mode": {
    "name": "ipython",
    "version": 3
   },
   "file_extension": ".py",
   "mimetype": "text/x-python",
   "name": "python",
   "nbconvert_exporter": "python",
   "pygments_lexer": "ipython3",
   "version": "3.7.3-final"
  },
  "orig_nbformat": 2,
  "kernelspec": {
   "name": "python37364bitbaseconda237d47ed00c34faa8bb5ab0c5c219e3a",
   "display_name": "Python 3.7.3 64-bit ('base': conda)"
  }
 },
 "nbformat": 4,
 "nbformat_minor": 2
}