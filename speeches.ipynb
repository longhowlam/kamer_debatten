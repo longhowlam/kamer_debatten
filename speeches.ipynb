{
 "cells": [
  {
   "cell_type": "markdown",
   "metadata": {},
   "source": [
    "# Tweede Kamer speeches\n",
    "\n",
    "\n",
    "Alle Tweede Kamer parlementaire debatten van 1995 t/m juni-2019 zijn in een data set verzameld. Dat is het werk van:\n",
    "\n",
    "Rauh, Christian; Schwalbach, Jan, 2020, \"0_RauhSchwalbach_2020_ParlSpeechV2_ReleaseNote.pdf\", The ParlSpeech V2 data set: Full-text corpora of 6.3 million parliamentary speeches in the key legislative chambers of nine representative democracies, https://doi.org/10.7910/DVN/L4OAKN/C2TWCZ, Harvard Dataverse, V1\n",
    "\n",
    "Voor meer informatie [zie deze site](https://dataverse.harvard.edu/dataset.xhtml?persistentId=doi:10.7910/DVN/L4OAKN).\n",
    "\n",
    "## Analyze mogelijkheden\n",
    "\n",
    "* Metadata anlyse\n",
    "* Topic modeling\n",
    "* Word2Vec\n",
    "* CLassificatie naar partij\n",
    "\n"
   ]
  },
  {
   "cell_type": "code",
   "execution_count": 3,
   "metadata": {},
   "outputs": [],
   "source": [
    "import pandas as pd\n",
    "import datatable as dt\n",
    "import gensim\n"
   ]
  },
  {
   "cell_type": "markdown",
   "metadata": {},
   "source": [
    "The original data on the webiste was an R rds file, I imported that in R and saved it as csv, then zipped it. But the zip file was too large to put on GitHub so I used the command line tool `split` to create 24 Mb chuncks. CorpusTweedeKamera .... CorpusTweedekamerl. You need to put those chuncks to one zip again."
   ]
  },
  {
   "cell_type": "code",
   "execution_count": 1,
   "metadata": {},
   "outputs": [],
   "source": [
    "!cat CorpusTweedeKamer* > CorpusTweedeKamer.zip"
   ]
  },
  {
   "cell_type": "code",
   "execution_count": 4,
   "metadata": {},
   "outputs": [
    {
     "output_type": "stream",
     "name": "stdout",
     "text": "CPU times: user 13.4 s, sys: 4.64 s, total: 18 s\nWall time: 12.1 s\n"
    }
   ],
   "source": [
    "%%time\n",
    "### fread from the datatable package reads zipped CSV files directly without unzipping them\n",
    "### we can then create a pandas data frame\n",
    "tweede_kamer = dt.fread(\"CorpusTweedeKamer.zip\").to_pandas()"
   ]
  },
  {
   "cell_type": "code",
   "execution_count": 5,
   "metadata": {},
   "outputs": [
    {
     "output_type": "execute_result",
     "data": {
      "text/plain": "              date agenda  speechnumber         speaker  party  \\\n195131  1999-11-04    NaN           659      Balkenende    CDA   \n418621  2005-12-13    NaN           443         Verburg    CDA   \n777213  2013-06-19    NaN           496           Klein  other   \n900580  2015-11-17    NaN           295         Omtzigt    CDA   \n311539  2002-12-18    NaN           146          Meijer    CDA   \n773337  2013-05-29    NaN           464  Aukje de Vries    VVD   \n599805  2010-01-20    NaN           500        Plasterk   PvdA   \n431426  2006-04-19    NaN           336     Hoogervorst    VVD   \n709701  2012-03-07    NaN           443       Schippers    VVD   \n142555  1998-03-26    NaN            91     Rosenmöller     GL   \n\n        party.facts.id  chair  terms  \\\n195131          1157.0  False    409   \n418621          1157.0  False    417   \n777213             NaN  False    125   \n900580          1157.0  False    144   \n311539          1157.0  False    104   \n773337           828.0  False    604   \n599805          1234.0  False     82   \n431426           828.0  False    555   \n709701           828.0  False     86   \n142555          1537.0  False     58   \n\n                                                     text      parliament  \\\n195131  Voorzitter! Ik zeg de staatssecretaris graag d...  NL-TweedeKamer   \n418621  Hoewel mijn collega Aad Mosterd zijn bijdrage ...  NL-TweedeKamer   \n777213  Dat geldt voor het laatste wel, want dat waren...  NL-TweedeKamer   \n900580  Ik heb een vraag voor de Partij van de Arbeid....  NL-TweedeKamer   \n311539  Voorzitter. Wij danken de staatssecretaris voo...  NL-TweedeKamer   \n773337  Voorzitter. Ik heb niets tegen het Fries, als ...  NL-TweedeKamer   \n599805  Ja, dat is een consequentie. Ik ga ervan uit d...  NL-TweedeKamer   \n431426  Mevrouw de voorzitter. Ik dank de Kamer voor h...  NL-TweedeKamer   \n709701  \"Op een bepaald moment formuleren\", dat ben ik...  NL-TweedeKamer   \n142555  Voorzitter! Hoewel het een debat met de minist...  NL-TweedeKamer   \n\n       iso3country  \n195131         NLD  \n418621         NLD  \n777213         NLD  \n900580         NLD  \n311539         NLD  \n773337         NLD  \n599805         NLD  \n431426         NLD  \n709701         NLD  \n142555         NLD  ",
      "text/html": "<div>\n<style scoped>\n    .dataframe tbody tr th:only-of-type {\n        vertical-align: middle;\n    }\n\n    .dataframe tbody tr th {\n        vertical-align: top;\n    }\n\n    .dataframe thead th {\n        text-align: right;\n    }\n</style>\n<table border=\"1\" class=\"dataframe\">\n  <thead>\n    <tr style=\"text-align: right;\">\n      <th></th>\n      <th>date</th>\n      <th>agenda</th>\n      <th>speechnumber</th>\n      <th>speaker</th>\n      <th>party</th>\n      <th>party.facts.id</th>\n      <th>chair</th>\n      <th>terms</th>\n      <th>text</th>\n      <th>parliament</th>\n      <th>iso3country</th>\n    </tr>\n  </thead>\n  <tbody>\n    <tr>\n      <th>195131</th>\n      <td>1999-11-04</td>\n      <td>NaN</td>\n      <td>659</td>\n      <td>Balkenende</td>\n      <td>CDA</td>\n      <td>1157.0</td>\n      <td>False</td>\n      <td>409</td>\n      <td>Voorzitter! Ik zeg de staatssecretaris graag d...</td>\n      <td>NL-TweedeKamer</td>\n      <td>NLD</td>\n    </tr>\n    <tr>\n      <th>418621</th>\n      <td>2005-12-13</td>\n      <td>NaN</td>\n      <td>443</td>\n      <td>Verburg</td>\n      <td>CDA</td>\n      <td>1157.0</td>\n      <td>False</td>\n      <td>417</td>\n      <td>Hoewel mijn collega Aad Mosterd zijn bijdrage ...</td>\n      <td>NL-TweedeKamer</td>\n      <td>NLD</td>\n    </tr>\n    <tr>\n      <th>777213</th>\n      <td>2013-06-19</td>\n      <td>NaN</td>\n      <td>496</td>\n      <td>Klein</td>\n      <td>other</td>\n      <td>NaN</td>\n      <td>False</td>\n      <td>125</td>\n      <td>Dat geldt voor het laatste wel, want dat waren...</td>\n      <td>NL-TweedeKamer</td>\n      <td>NLD</td>\n    </tr>\n    <tr>\n      <th>900580</th>\n      <td>2015-11-17</td>\n      <td>NaN</td>\n      <td>295</td>\n      <td>Omtzigt</td>\n      <td>CDA</td>\n      <td>1157.0</td>\n      <td>False</td>\n      <td>144</td>\n      <td>Ik heb een vraag voor de Partij van de Arbeid....</td>\n      <td>NL-TweedeKamer</td>\n      <td>NLD</td>\n    </tr>\n    <tr>\n      <th>311539</th>\n      <td>2002-12-18</td>\n      <td>NaN</td>\n      <td>146</td>\n      <td>Meijer</td>\n      <td>CDA</td>\n      <td>1157.0</td>\n      <td>False</td>\n      <td>104</td>\n      <td>Voorzitter. Wij danken de staatssecretaris voo...</td>\n      <td>NL-TweedeKamer</td>\n      <td>NLD</td>\n    </tr>\n    <tr>\n      <th>773337</th>\n      <td>2013-05-29</td>\n      <td>NaN</td>\n      <td>464</td>\n      <td>Aukje de Vries</td>\n      <td>VVD</td>\n      <td>828.0</td>\n      <td>False</td>\n      <td>604</td>\n      <td>Voorzitter. Ik heb niets tegen het Fries, als ...</td>\n      <td>NL-TweedeKamer</td>\n      <td>NLD</td>\n    </tr>\n    <tr>\n      <th>599805</th>\n      <td>2010-01-20</td>\n      <td>NaN</td>\n      <td>500</td>\n      <td>Plasterk</td>\n      <td>PvdA</td>\n      <td>1234.0</td>\n      <td>False</td>\n      <td>82</td>\n      <td>Ja, dat is een consequentie. Ik ga ervan uit d...</td>\n      <td>NL-TweedeKamer</td>\n      <td>NLD</td>\n    </tr>\n    <tr>\n      <th>431426</th>\n      <td>2006-04-19</td>\n      <td>NaN</td>\n      <td>336</td>\n      <td>Hoogervorst</td>\n      <td>VVD</td>\n      <td>828.0</td>\n      <td>False</td>\n      <td>555</td>\n      <td>Mevrouw de voorzitter. Ik dank de Kamer voor h...</td>\n      <td>NL-TweedeKamer</td>\n      <td>NLD</td>\n    </tr>\n    <tr>\n      <th>709701</th>\n      <td>2012-03-07</td>\n      <td>NaN</td>\n      <td>443</td>\n      <td>Schippers</td>\n      <td>VVD</td>\n      <td>828.0</td>\n      <td>False</td>\n      <td>86</td>\n      <td>\"Op een bepaald moment formuleren\", dat ben ik...</td>\n      <td>NL-TweedeKamer</td>\n      <td>NLD</td>\n    </tr>\n    <tr>\n      <th>142555</th>\n      <td>1998-03-26</td>\n      <td>NaN</td>\n      <td>91</td>\n      <td>Rosenmöller</td>\n      <td>GL</td>\n      <td>1537.0</td>\n      <td>False</td>\n      <td>58</td>\n      <td>Voorzitter! Hoewel het een debat met de minist...</td>\n      <td>NL-TweedeKamer</td>\n      <td>NLD</td>\n    </tr>\n  </tbody>\n</table>\n</div>"
     },
     "metadata": {},
     "execution_count": 5
    }
   ],
   "source": [
    "tweede_kamer.sample(10)"
   ]
  },
  {
   "cell_type": "markdown",
   "metadata": {},
   "source": [
    "## Metadata analyse"
   ]
  },
  {
   "cell_type": "code",
   "execution_count": 17,
   "metadata": {},
   "outputs": [
    {
     "output_type": "execute_result",
     "data": {
      "text/plain": "VVD       168276\nPvdA      165516\nCDA       161799\nother     131339\n          111633\nD66       103579\nSP         87637\nGL         81225\nPVV        38495\nCU         34177\nSGP        23460\nPvdD       10242\nLPF         6573\nRPF         5860\nGPV         5279\n50PLUS      3221\nDENK        3021\nFvD         2034\nName: party, dtype: int64"
     },
     "metadata": {},
     "execution_count": 17
    }
   ],
   "source": [
    "tweede_kamer.party.value_counts()"
   ]
  },
  {
   "cell_type": "code",
   "execution_count": 19,
   "metadata": {},
   "outputs": [],
   "source": [
    "speakers = tweede_kamer.speaker.value_counts()"
   ]
  },
  {
   "cell_type": "code",
   "execution_count": 20,
   "metadata": {},
   "outputs": [
    {
     "output_type": "execute_result",
     "data": {
      "text/plain": "NLD    1143366\nName: iso3country, dtype: int64"
     },
     "metadata": {},
     "execution_count": 20
    }
   ],
   "source": [
    "tweede_kamer.iso3country.value_counts()"
   ]
  },
  {
   "cell_type": "code",
   "execution_count": null,
   "metadata": {},
   "outputs": [],
   "source": []
  }
 ],
 "metadata": {
  "language_info": {
   "codemirror_mode": {
    "name": "ipython",
    "version": 3
   },
   "file_extension": ".py",
   "mimetype": "text/x-python",
   "name": "python",
   "nbconvert_exporter": "python",
   "pygments_lexer": "ipython3",
   "version": "3.7.3-final"
  },
  "orig_nbformat": 2,
  "kernelspec": {
   "name": "python37364bitbaseconda237d47ed00c34faa8bb5ab0c5c219e3a",
   "display_name": "Python 3.7.3 64-bit ('base': conda)"
  }
 },
 "nbformat": 4,
 "nbformat_minor": 2
}