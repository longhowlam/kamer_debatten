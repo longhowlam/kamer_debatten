{
 "metadata": {
  "language_info": {
   "codemirror_mode": {
    "name": "ipython",
    "version": 3
   },
   "file_extension": ".py",
   "mimetype": "text/x-python",
   "name": "python",
   "nbconvert_exporter": "python",
   "pygments_lexer": "ipython3",
   "version": "3.7.3-final"
  },
  "orig_nbformat": 2,
  "kernelspec": {
   "name": "python_defaultSpec_1599725834386",
   "display_name": "Python 3.7.3 64-bit"
  }
 },
 "nbformat": 4,
 "nbformat_minor": 2,
 "cells": [
  {
   "cell_type": "markdown",
   "metadata": {},
   "source": [
    "# SentenceTransformers SBERT\n",
    "\n",
    "https://www.sbert.net/index.html\n"
   ]
  },
  {
   "cell_type": "markdown",
   "metadata": {},
   "source": [
    "## getting started"
   ]
  },
  {
   "cell_type": "code",
   "execution_count": 25,
   "metadata": {
    "tags": []
   },
   "outputs": [],
   "source": [
    "import numpy as np\n",
    "import pandas as pd\n",
    "import pickle\n",
    "\n",
    "from sentence_transformers import SentenceTransformer, util"
   ]
  },
  {
   "cell_type": "code",
   "execution_count": 2,
   "metadata": {},
   "outputs": [],
   "source": [
    "## Mult-lingual model that supports Dutch\n",
    "modelML = SentenceTransformer('xlm-r-100langs-bert-base-nli-mean-tokens')"
   ]
  },
  {
   "cell_type": "markdown",
   "metadata": {},
   "source": [
    "## import kamer speeches"
   ]
  },
  {
   "cell_type": "code",
   "execution_count": null,
   "metadata": {},
   "outputs": [],
   "source": [
    "## put data chuncks in one zip file\n",
    "!cat data/CorpusTweedeKamer* > CorpusTweedeKamer.zip"
   ]
  },
  {
   "cell_type": "code",
   "execution_count": 5,
   "metadata": {
    "tags": []
   },
   "outputs": [
    {
     "output_type": "stream",
     "name": "stdout",
     "text": "CPU times: user 12.9 s, sys: 1 s, total: 13.9 s\nWall time: 14.7 s\n"
    }
   ],
   "source": [
    "%%time\n",
    "tweede_kamer = pd.read_csv(\"CorpusTweedeKamer.zip\")\n",
    "tweede_kamer = (\n",
    "    tweede_kamer\n",
    "    .assign(datum = pd.to_datetime(tweede_kamer.date))\n",
    "    .assign(speaker = tweede_kamer.speaker.str.lower())\n",
    ")"
   ]
  },
  {
   "cell_type": "code",
   "execution_count": 6,
   "metadata": {},
   "outputs": [],
   "source": [
    "recente_speeches = (\n",
    "    tweede_kamer\n",
    "    .dropna(subset = [\"text\"])\n",
    "    .query('terms > 75')\n",
    "    .query('terms < 800')\n",
    "    .query('datum > \"2016-01-01\"')\n",
    ")"
   ]
  },
  {
   "cell_type": "code",
   "execution_count": 18,
   "metadata": {},
   "outputs": [
    {
     "output_type": "execute_result",
     "data": {
      "text/plain": "(95314, 12)"
     },
     "metadata": {},
     "execution_count": 18
    }
   ],
   "source": [
    "recente_speeches.shape"
   ]
  },
  {
   "cell_type": "code",
   "execution_count": 19,
   "metadata": {},
   "outputs": [],
   "source": [
    "speeches = recente_speeches.text.str.lower().values.tolist()"
   ]
  },
  {
   "cell_type": "code",
   "execution_count": 77,
   "metadata": {
    "tags": []
   },
   "outputs": [
    {
     "output_type": "stream",
     "name": "stdout",
     "text": "CPU times: user 2 µs, sys: 1 µs, total: 3 µs\nWall time: 5.72 µs\n"
    }
   ],
   "source": [
    "%%time \n",
    "sentence_embeddings = modelML.encode(speeches)"
   ]
  },
  {
   "cell_type": "code",
   "execution_count": 62,
   "metadata": {},
   "outputs": [
    {
     "output_type": "execute_result",
     "data": {
      "text/plain": "(95314, 768)"
     },
     "metadata": {},
     "execution_count": 62
    }
   ],
   "source": [
    "sentence_embeddings.shape"
   ]
  },
  {
   "cell_type": "code",
   "execution_count": 26,
   "metadata": {},
   "outputs": [],
   "source": [
    "#Store sentences & embeddings on disc\n",
    "with open('kamer_BERT_embeddings.pkl', \"wb\") as fOut:\n",
    "    pickle.dump({'sentences': speeches[0:5000], 'embeddings': sentence_embeddings}, fOut, protocol=pickle.HIGHEST_PROTOCOL)\n",
    "\n"
   ]
  },
  {
   "cell_type": "code",
   "execution_count": 61,
   "metadata": {},
   "outputs": [],
   "source": [
    "#Load sentences & embeddings from disc\n",
    "with open('kamer_BERT_embeddings.pkl', \"rb\") as fIn:\n",
    "    stored_data = pickle.load(fIn)\n",
    "    sentences = stored_data['sentences']\n",
    "    sentence_embeddings = stored_data['embeddings']"
   ]
  },
  {
   "cell_type": "markdown",
   "metadata": {},
   "source": [
    "### Voer een semantic search uit"
   ]
  },
  {
   "cell_type": "code",
   "execution_count": 72,
   "metadata": {},
   "outputs": [],
   "source": [
    "tt = \"doe eens normaal \""
   ]
  },
  {
   "cell_type": "code",
   "execution_count": 73,
   "metadata": {},
   "outputs": [],
   "source": [
    "query_embedding = modelML.encode(tt, convert_to_tensor=True)\n",
    "topmatches = util.semantic_search(query_embedding, sentence_embeddings)"
   ]
  },
  {
   "cell_type": "code",
   "execution_count": 74,
   "metadata": {},
   "outputs": [
    {
     "output_type": "execute_result",
     "data": {
      "text/plain": "[[{'corpus_id': 68748, 'score': 0.7371483},\n  {'corpus_id': 36305, 'score': 0.717166},\n  {'corpus_id': 77454, 'score': 0.66476923},\n  {'corpus_id': 64533, 'score': 0.6506115},\n  {'corpus_id': 34866, 'score': 0.6485617},\n  {'corpus_id': 69774, 'score': 0.64739126},\n  {'corpus_id': 22877, 'score': 0.63766456},\n  {'corpus_id': 46543, 'score': 0.635753},\n  {'corpus_id': 82126, 'score': 0.62685025},\n  {'corpus_id': 65001, 'score': 0.62231666}]]"
     },
     "metadata": {},
     "execution_count": 74
    }
   ],
   "source": [
    "topmatches"
   ]
  },
  {
   "cell_type": "code",
   "execution_count": 75,
   "metadata": {},
   "outputs": [
    {
     "output_type": "execute_result",
     "data": {
      "text/plain": "[68748, 36305, 77454, 64533, 34866, 69774, 22877, 46543, 82126, 65001]"
     },
     "metadata": {},
     "execution_count": 75
    }
   ],
   "source": [
    "top_textst = [ idx['corpus_id']  for idx in topmatches[0]]\n",
    "top_textst"
   ]
  },
  {
   "cell_type": "code",
   "execution_count": 76,
   "metadata": {},
   "outputs": [
    {
     "output_type": "execute_result",
     "data": {
      "text/plain": "['ik weet niet of dat in een demografisch onderzoek past, maar dat is wel het beleid van deze regering. het kabinet doet dat door volstrekt helder te zijn over wat onze normen en waarden zijn. wij realiseren ons ook het volgende. als een economische migrant uit afrika hiernaartoe komt, dan heeft die hier in principe helemaal niets te zoeken. wegwezen. als een vluchteling uit afrika hiernaartoe komt die hier ook als vluchteling mag zijn, dan gaan we ons best doen voor de integratie. we weten allemaal dat dit bij een vluchteling uit een meer westers georiënteerd land — noem eens een land — die wellicht ook al engels spreekt veel sneller zal gaan dan bij een vluchteling uit syrië met een lage opleiding. ik wil alleen voorkomen dat we daarbij één aspect van de identiteit van die persoon centraal stellen, namelijk het geloof. ik denk dat er zoveel meer aspecten zijn die bijdragen aan de complexiteit van de integratievraag bij het ene en het andere geval.',\n 'ik dacht dat er één meetpunt was, maar toen ik de stukken goed bestudeerde zag ik inderdaad dat het er twee zijn. dat is eigenlijk voldoende. ik ben het eens met de staatssecretaris dat je het aantal meetpunten moet overlaten aan de wetenschap. dat moeten wij niet hier in de kamer bepalen. ik heb alle complimenten gehoord die wij internationaal krijgen voor de manier waarop wij dit doen. ik denk dat wij hierin in nederland echt vooroplopen. ik heb geen enkele reden om daaraan te twijfelen. nogmaals, de wetenschap moet hierin de keuzes maken. de staatssecretaris heeft zelf in al haar wijsheid besloten om de financiering door te zetten. dat was overigens mede aanleiding voor dit artikel, zo heb ik begrepen. dat is een goede keuze van het kabinet.',\n 'dat doe ik vanuit de vraag die daaraan voorafgaat, namelijk of een lidstaat voldoet aan de 23 doelen. dat is een eerste keuze die lidstaten maken. nee, na aanname van het pact in januari zullen niet alle lidstaten de volgende dag aan de 23 doelen voldoen. maar ik stel vast dat nederland al aan die 23 doelen voldoet. ik heb een voorbeeldje gegeven van waar er nog een tandje bij kan, wat we ook doen. daarmee zitten we in de kopgroep van de wereld. we kunnen in de toekomst het beleid overigens nog steeds aanscherpen. die doelstellingen staat dat niet in de weg. lidstaten van de vn die aan tal van doelen niet voldoen en daar nog heel veel huiswerk voor te maken hebben, kunnen putten uit de vrijblijvende opties. het staat die lidstaten ook weer vrij om dat te doen of niet, of om op een andere wijze aan die doelstellingen te voldoen. ze zijn in dat opzicht niet meer en niet minder dan inspiratie voor de lidstaten.',\n 'ja, absoluut. wij hebben geen terughoudendheid om bit-toetsen te laten uitvoeren. sterker nog, wij denken dat we er uiteindelijk beter van worden. de heer omtzigt vroeg ook nog om te laten weten wanneer iets wel of niet uitvoerbaar is. later kwam er nog een vraag over, volgens mij van de heer azarkan. ook daar hebben we al vrij lang met elkaar over gesproken. we hebben het regeerakkoord. daarin hebben we in zijn algemeenheid de maatregelen gewogen. we denken dat we ongeveer weten hoe het moet. tegelijkertijd weten we dat de wereld niet stilstaat en dat deze plannen uiteindelijk in wetgeving worden omgezet. pas als de wetgeving daar is, is ook het moment dat je een uitvoeringstoets doet. daar hebben we echt een aantal weken voor nodig. de heer omtzigt heeft helemaal gelijk: ik ga die serieuzer nemen dan ooit tevoren. die nemen we ook mee bij de behandeling van het wetsvoorstel. laatst hadden wij in de kamer bijvoorbeeld al een discussie over de fiscale eenheid. er ligt een plan, maar de dienst zegt dat het heel lastig is om het zo precies te doen. vervolgens bedenken we een andere opzet die uitvoerbaar is voor de dienst, maar toch de beleidsdoelstellingen grotendeels of geheel weet waar te maken. dat is belangrijk. dat zal best vaker kunnen gebeuren. ik heb niet nu op voorhand al redenen om te zeggen dat het ergens wel mis zal gaan. het is een hoop en we gaan het allemaal toetsen. we denken dat we het aankunnen, maar ik sluit ook niet uit dat ergens toch nog een vertraging gaat optreden op het moment dat wij de uitvoerbaarheidstoets doen.',\n 'allereerst: juist over dit punt is in de boezem van het kabinet gesproken. daarbij zijn die argumenten gewogen. dit is voor mij dus niet een geheel nieuwe discussie. ook in het traject hiernaartoe is in de adviezen gezegd: moet je recht doen aan het feit dat dit in nederland twee vervlochten begrippen zijn of moet je ze los van elkaar als te waarborgen elementen opvoeren? alles afwegend hebben we uiteindelijk voor dat laatste gekozen. nogmaals, ik heb ook begrip voor de andere manier om die weging aan te brengen. is dit gericht op enig rechtsgevolg? zoals ik al aangaf in antwoord op de vraag van mevrouw bruins slot, denk ik dat dat rechtsgevolg niet verandert, omdat dit in feite beschrijft wat de grondwet waarborgt en niet beoogt om nu nieuwe elementen toe te voegen waaraan de wetgever vervolgens zijn wetten zal gaan toetsen. in de zichtbaarheid en ook in de presentatie van de grondwet kan het natuurlijk wel van belang zijn om mensen die zelfs onze sobere grondwet al een zwaar verhaal vinden, aan te geven dat het er in essentie op neerkomt dat de grondwet dit waarborgt.',\n 'ik houd niet van jij-bakken. daarom schets ik alleen hoe de sp voortdurend in dit soort debatten zit en dat respecteer ik. dat is één. het tweede punt heb ik al geschetst, namelijk: wat is de context waarin wij in 2015 het besluit hebben genomen om op advies van het kabinet over te gaan tot non-letale steun? dat hebben we overigens niet alleen gedaan. dat deden we met een aantal andere landen. dat was niet bedoeld om als nederland een regime change neer te zetten. dat deden we om de gematigde oppositie een positie te geven. dat deden we omdat we hoopten dat we veilige gebieden konden creëren om humanitaire hulp neer te zetten. dat is de context die ik schets. nogmaals, in 2015 hebben we na een heel moeilijk debat, waarin we er allemaal mee hebben zitten wikken en wegen, het besluit genomen om dat te steunen. en ja, daar sta ik dus achter.',\n 'ik heb al aangegeven dat het convenant wordt uitgevoerd. het convenant is actueel en is gesloten. de partijen komen regelmatig bij elkaar. binnen de verantwoordelijkheden die we hebben, is er ook voldoende capaciteit om het convenant uit te voeren. ik weet niet wat ik de heer sjoerdsma nog meer moet zeggen dan dat. het convenant is er. de samenwerking verloopt goed. het convenant wordt uitgevoerd en daar is capaciteit voor beschikbaar bij de entiteiten die erin genoemd zijn. ten slotte kom ik op de vraag van de heer sjoerdsma over het verdrag. er wordt heel goed overleg gevoerd met oekraïne. er spelen een aantal aspecten, waaronder de overdracht van rechtsmacht en de samenwerking in de toekomst. dat is nog niet op papier gezet, maar er is geen enkele aanleiding om te veronderstellen dat dit niet tot een positief resultaat zal leiden.',\n 'nee. wat betreft de keuze die het kabinet maakt, weet ik nog helemaal niet of dat nou zo’n goed idee is. dat zal echt van de uitwerking afhangen. terecht wordt er door verschillende mensen op gewezen dat het uitbreiden van die lijst zal betekenen dat we landen in afrika in de steek gaan laten om de opvang in de regio en deels ons eigen migratiebeleid te gaan subsidiëren. ik ben daar dus nog helemaal niet zo van overtuigd.',\n 'twee reacties. eén: het is niet zo dat dit onuitvoerbaar is. daar kom ik zo aan toe. mij werd verzocht om dat heel duidelijk te maken. uiteindelijk is er een toets gedaan, en daaruit komt naar voren: onder deze voorwaarden is het zo uitvoerbaar. ik zal daar zo iets meer over zeggen. de claim dat het onuitvoerbaar is, klopt niet. wat wij nu doen is uitvoerbaar. daarover is inderdaad wel een afweging gemaakt. nogmaals, daar zeg ik nog meer over. dat punt is, denk ik, niet terecht. het andere punt is wel terecht. ondanks dat wij het mkb meer tijd hebben gegeven om zich voor te bereiden om die ontrafelingen, als men daarvoor kiest, vorm te geven, betekent deze wetgeving voor die bedrijven inderdaad op lange termijn dat er iets moet gebeuren. dat is waar. dat kan ik niet ontkennen. dat is vervelend, maar het was helaas niet anders. we hebben die bedrijven in ieder geval zo veel mogelijk proberen te ontzien door de overgangsmaatregelen die we nu twee keer hebben aangekondigd. maar daarin had de heer van dijck natuurlijk gelijk. mevrouw lodders en de heer van weyenberg hadden vragen over het gebroken boekjaar. dit geldt misschien niet alleen voor de terugwerkende kracht over dat gebroken boekjaar 2017-2018 maar ook voor daarna. het is misschien goed om nog een keer aan te geven hoe dat zit. veruit de meeste fiscale eenheden hebben een boekjaar dat gelijk is aan het kalenderjaar. er zijn inderdaad voorbeelden te vinden van bedrijven die dat niet hebben. wij gaan in onze berekening uit van ongeveer 5% van de fiscale eenheden dat een gebroken boekjaar heeft. eén op de twintig doet het dus anders. overigens hebben vooral de grootste bedrijven een gebroken boekjaar. door de beperking van de terugwerkende kracht hebben zij meer tijd gekregen om te anticiperen op de gevolgen van het wetsvoorstel. verdere beperking van de terugwerkende kracht leidt, zo denken wij, tot uitholling van de belastinggrondslag en tot verdere budgettaire derving. wij denken dat de oplossing met betrekking tot het gebroken boekjaar niet te vinden is in het nog verder oprekken van de terugwerkende kracht tot later. de groep is veel kleiner. als het gaat om bijvoorbeeld het bijhouden van de rentebetalingen, geldt overigens dat er juist op dat terrein een vrij precieze boekhouding bij bedrijven aanwezig is. maar goed, bedrijven moeten in hun eigen boekhouding kijken. maar ik ben bang dat ik het niet mooier kan maken dan het is. als we de wet ergens per 1 januari laten ingaan, zoals we meestal doen, zal er dus ook in de toekomst voor dit soort bedrijven, die ervoor kiezen om hun boekjaar zo op te bouwen, in het boekjaar van het bedrijf een toerekening moeten zijn aan rentebetalingen die met de financiering te maken hebben. nogmaals, wij denken dat veel bedrijven op zichzelf best scherp in beeld hebben hoe die berekeningen zijn. maar het is wel werk, dat is zeker waar.',\n 'nee. ik zal verdergaan. er is gevraagd hoe het nu geregeld is. de heer van der staaij had daar een goed betoog over en de heer van weyenberg noemde het ook. hoe is dat nu geregeld? is het nu allemaal zonder politieke inmenging? is het vrij van politieke sturing? is de toepassing in alle gevallen gelijk? krijgt hetzelfde feitencomplex, onafhankelijk van wie het vraagt, dezelfde beantwoording? daar is, denk ik, één heel helder antwoord op te geven: er is geen politieke inmenging in het vaststellen van een vaststellingsovereenkomst. de inspecteur is verantwoordelijk, als enige, voor het opleggen van een aanslag en dus ook voor het vaststellen van een vaststellingsovereenkomst aan de voorkant. hiermee is dus ook gegarandeerd dat de toepassing in alle gevallen gelijk is en er geen verschil kan worden gemaakt tussen de ene en de andere aanbieder van eenzelfde feitencomplex. is er in sommige gevallen dan bijvoorbeeld sprake van illegale staatssteun? kan in dat geval de staatssteun worden teruggevorderd? is er sprake van een belastingkorting? sommigen in de kamer noemen het een cadeautje. het antwoord op al deze vragen is eigenlijk heel duidelijk: zolang rulings worden afgegeven binnen wet- en regelgeving, bestaand beleid en bestaande jurisprudentie, kan er geen sprake zijn van belastingkortingen omdat je handelt volgens de wet, en kan er eigenlijk ook geen sprake zijn van staatssteun. ik denk dat ook die punten belangrijk zijn om keer op keer te erkennen. zolang de inspecteur handelt binnen wet- en regelgeving en de wet volgt bij de bepaling van de belastingaanslag, is er dus geen cadeautje te geven, onafhankelijk van de specifieke situatie waar vandaag veel over gesproken is. de heer omtzigt vroeg: is het in algemene zin mogelijk om een ruling te vragen aan de belastingdienst, bijvoorbeeld over een specifieke casus zoals het bestaan van een dividend access mechanism? ik zie de heer azarkan vragend kijken, maar dat was de vraag van de heer omtzigt, die ik even herhaalde. het antwoord is \"ja\". iedereen met hetzelfde feitencomplex kan bij de belastingdienst vragen wat de fiscale uitkomst van dat feitencomplex is, dus ook als het gaat om een dividend access mechanism. de belastingdienst past dan de wet toe en de fiscale gevolgen zijn dan voor de aanvrager. ook daarvoor geldt dus dat er geen onderscheid is in wie het vraagt. het gaat om het feitencomplex dat de inspecteur bekijkt. maar mocht de wet nog onduidelijk zijn en mochten er nog rechtsvragen zijn die beantwoord moeten worden door de belastingdienst — dat kan ook gebeuren — dan worden de uitkomsten daarvan, op het moment dat dat helder is, gepubliceerd in beleidsbesluiten. door de publicatie van beleidsbesluiten is het beleid kenbaar geworden voor alle andere belastingplichtigen die eenzelfde vraag zouden hebben.']"
     },
     "metadata": {},
     "execution_count": 76
    }
   ],
   "source": [
    "[speeches[i] for i in top_textst]"
   ]
  },
  {
   "cell_type": "code",
   "execution_count": null,
   "metadata": {},
   "outputs": [],
   "source": []
  }
 ]
}