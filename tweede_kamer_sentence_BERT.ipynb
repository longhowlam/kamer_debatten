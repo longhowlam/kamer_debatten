{
 "metadata": {
  "language_info": {
   "codemirror_mode": {
    "name": "ipython",
    "version": 3
   },
   "file_extension": ".py",
   "mimetype": "text/x-python",
   "name": "python",
   "nbconvert_exporter": "python",
   "pygments_lexer": "ipython3",
   "version": "3.7.3-final"
  },
  "orig_nbformat": 2,
  "kernelspec": {
   "name": "python_defaultSpec_1599725834386",
   "display_name": "Python 3.7.3 64-bit"
  }
 },
 "nbformat": 4,
 "nbformat_minor": 2,
 "cells": [
  {
   "cell_type": "markdown",
   "metadata": {},
   "source": [
    "# SentenceTransformers SBERT\n",
    "\n",
    "https://www.sbert.net/index.html\n"
   ]
  },
  {
   "cell_type": "markdown",
   "metadata": {},
   "source": [
    "## getting started"
   ]
  },
  {
   "cell_type": "code",
   "execution_count": 25,
   "metadata": {
    "tags": []
   },
   "outputs": [],
   "source": [
    "import numpy as np\n",
    "import pandas as pd\n",
    "import pickle\n",
    "\n",
    "from sentence_transformers import SentenceTransformer, util"
   ]
  },
  {
   "cell_type": "code",
   "execution_count": 2,
   "metadata": {},
   "outputs": [],
   "source": [
    "## Mult-lingual model that supports Dutch\n",
    "modelML = SentenceTransformer('xlm-r-100langs-bert-base-nli-mean-tokens')"
   ]
  },
  {
   "cell_type": "markdown",
   "metadata": {},
   "source": [
    "## import kamer speeches"
   ]
  },
  {
   "cell_type": "code",
   "execution_count": 5,
   "metadata": {
    "tags": []
   },
   "outputs": [
    {
     "output_type": "stream",
     "name": "stdout",
     "text": "CPU times: user 12.9 s, sys: 1 s, total: 13.9 s\nWall time: 14.7 s\n"
    }
   ],
   "source": [
    "%%time\n",
    "tweede_kamer = pd.read_csv(\"CorpusTweedeKamer.zip\")\n",
    "tweede_kamer = (\n",
    "    tweede_kamer\n",
    "    .assign(datum = pd.to_datetime(tweede_kamer.date))\n",
    "    .assign(speaker = tweede_kamer.speaker.str.lower())\n",
    ")"
   ]
  },
  {
   "cell_type": "code",
   "execution_count": 6,
   "metadata": {},
   "outputs": [],
   "source": [
    "recente_speeches = (\n",
    "    tweede_kamer\n",
    "    .dropna(subset = [\"text\"])\n",
    "    .query('terms > 75')\n",
    "    .query('terms < 800')\n",
    "    .query('datum > \"2016-01-01\"')\n",
    ")"
   ]
  },
  {
   "cell_type": "code",
   "execution_count": 18,
   "metadata": {},
   "outputs": [
    {
     "output_type": "execute_result",
     "data": {
      "text/plain": "(95314, 12)"
     },
     "metadata": {},
     "execution_count": 18
    }
   ],
   "source": [
    "recente_speeches.shape"
   ]
  },
  {
   "cell_type": "code",
   "execution_count": 19,
   "metadata": {},
   "outputs": [],
   "source": [
    "speeches = recente_speeches.text.str.lower().values.tolist()"
   ]
  },
  {
   "cell_type": "code",
   "execution_count": 22,
   "metadata": {
    "tags": []
   },
   "outputs": [
    {
     "output_type": "stream",
     "name": "stdout",
     "text": "CPU times: user 47min 22s, sys: 1min 44s, total: 49min 6s\nWall time: 12min 51s\n"
    }
   ],
   "source": [
    "%%time \n",
    "sentence_embeddings = modelML.encode(speeches)"
   ]
  },
  {
   "cell_type": "code",
   "execution_count": 23,
   "metadata": {},
   "outputs": [
    {
     "output_type": "execute_result",
     "data": {
      "text/plain": "(5000, 768)"
     },
     "metadata": {},
     "execution_count": 23
    }
   ],
   "source": [
    "sentence_embeddings.shape"
   ]
  },
  {
   "cell_type": "code",
   "execution_count": 26,
   "metadata": {},
   "outputs": [],
   "source": [
    "#Store sentences & embeddings on disc\n",
    "with open('kamer_BERT_embeddings.pkl', \"wb\") as fOut:\n",
    "    pickle.dump({'sentences': speeches[0:5000], 'embeddings': sentence_embeddings}, fOut, protocol=pickle.HIGHEST_PROTOCOL)\n",
    "\n"
   ]
  },
  {
   "cell_type": "code",
   "execution_count": null,
   "metadata": {},
   "outputs": [],
   "source": [
    "#Load sentences & embeddings from disc\n",
    "with open('kamer_BERT_embeddings.pkl', \"rb\") as fIn:\n",
    "    stored_data = pickle.load(fIn)\n",
    "    stored_sentences = stored_data['sentences']\n",
    "    stored_embeddings = stored_data['embeddings']"
   ]
  },
  {
   "cell_type": "markdown",
   "metadata": {},
   "source": [
    "### Voer een semantic search uit"
   ]
  },
  {
   "cell_type": "code",
   "execution_count": 56,
   "metadata": {},
   "outputs": [],
   "source": [
    "query_embedding = modelML.encode(\"de belastingdienst functioneert niet goed\", convert_to_tensor=True)\n",
    "topmatches = util.semantic_search(query_embedding, sentence_embeddings)"
   ]
  },
  {
   "cell_type": "code",
   "execution_count": 57,
   "metadata": {},
   "outputs": [
    {
     "output_type": "execute_result",
     "data": {
      "text/plain": "[[{'corpus_id': 2823, 'score': 0.68560827},\n  {'corpus_id': 3316, 'score': 0.6840711},\n  {'corpus_id': 1104, 'score': 0.6724966},\n  {'corpus_id': 1511, 'score': 0.6650846},\n  {'corpus_id': 1461, 'score': 0.663343},\n  {'corpus_id': 3518, 'score': 0.65895706},\n  {'corpus_id': 4441, 'score': 0.65877104},\n  {'corpus_id': 4577, 'score': 0.65877104},\n  {'corpus_id': 4451, 'score': 0.6503725},\n  {'corpus_id': 4587, 'score': 0.6503725}]]"
     },
     "metadata": {},
     "execution_count": 57
    }
   ],
   "source": [
    "topmatches"
   ]
  },
  {
   "cell_type": "code",
   "execution_count": 58,
   "metadata": {},
   "outputs": [
    {
     "output_type": "execute_result",
     "data": {
      "text/plain": "[2823, 3316, 1104, 1511, 1461, 3518, 4441, 4577, 4451, 4587]"
     },
     "metadata": {},
     "execution_count": 58
    }
   ],
   "source": [
    "top_textst = [ idx['corpus_id']  for idx in topmatches[0]]\n",
    "top_textst"
   ]
  },
  {
   "cell_type": "code",
   "execution_count": 59,
   "metadata": {},
   "outputs": [
    {
     "output_type": "execute_result",
     "data": {
      "text/plain": "['dat is geen zinvolle vergelijking, want de kern van de situatie nu is dat we eigenlijk niet in staat zijn tot een redelijke handhaving. dan bestaat er dus ook geen wezenlijke, omvangrijke naheffing. eerlijk gezegd zou mijn idee voor de nieuwe situatie zijn dat we niet genoodzaakt zijn om uitgebreid na te heffen. het uiteindelijke doel moet immers zijn om schijnconstructies te voorkomen en niet om ze te laten voorkomen en dan te moeten beboeten. op dit moment ligt de handhaving op een zeer laag pitje omdat wij eenvoudigweg niet in staat zijn om te handhaven. in de nieuwe situatie willen wij liever voorkomen dan bekeuren; zo zou ik het willen uitdrukken.',\n 'ik stel voorop dat ik de groep wilsonbekwamen niet zou willen rangschikken onder de mensen die niet kunnen lezen en schrijven. u noemt die groepen in één adem. dat vind ik echt onbegrijpelijk. als mensen niet kunnen lezen en schrijven of als zij de taal niet eigen zijn, hebben wij in nederland allerlei manieren om te communiceren. ik heb daar niet voor niets zo veel nadruk op gelegd. ik denk dat we daar niet creatief genoeg in kunnen zijn. ik heb mevrouw dijkstra gevraagd om juist heel specifiek in te gaan op het punt van de wilsonbekwaamheid. bijvoorbeeld de vraag van mevrouw bruins slot waarom voor die groep niet dezelfde maatregel of dezelfde lijn wordt gehanteerd als bijvoorbeeld bij medicijnexperimenten, vind ik relevant. dat is precies de reden waarom deze vraag ook in mijn fractie naar voren kwam. ik vind het belangrijk om die vraag goed beantwoord te krijgen. als het antwoord onvoldoende is, kunnen we op dat punt misschien nog amenderen. dan nodig ik u van harte daartoe uit, maar dat is voor de partij van de arbeid geen reden om het hele adr-systeem van de hand te wijzen. voor ons is, zoals ik heb aangegeven, het solidariteitsprincipe immers doorslaggevend.',\n 'zeker! toch nog even over minister dijsselbloem. over hem worden stevige conclusies getrokken, namelijk dat hij de kamer niet in alle volledigheid heeft geïnformeerd. het verbaast mij dus nog steeds dat daarop niet de reactie van de heer dijsselbloem is gevraagd. ook dat had een reden kunnen zijn om hem toch uit te nodigen. mijn vraag gaat over het alternatieve aanbod. de commissie concludeert dat dat onvoldoende is. ook minister dijsselbloem is nadrukkelijk betrokken geweest bij de keuze voor het uiteindelijke alternatieve aanbod. hoe beoordeelt de commissie de invloed van financiën, en dus wederom de rol van het geld, in de keuze voor het alternatieve aanbod?',\n 'voorzitter. de uitkomsten van het onderzoek van de commissie-schouten zijn totaal onbevredigend. er komt geen openheid van zaken en één of meer fractievoorzitters die uit de commissie-stiekem hebben gelekt, gaan gewoon vrijuit. niemand in nederland begrijpt het nog. voor politici gelden blijkbaar andere regels dan voor de gewone burger. politici staan blijkbaar boven de wet. deze gang van zaken is onaanvaardbaar. is deze commissie echt van mening dat zij tot het uiterste is gegaan om de waarheid boven tafel te krijgen? of wilde de commissie, bestaande uit kamerleden van de partij van de arbeid tot de vvd en van de sp tot de pvv, vooral de eigen fractievoorzitters uit de wind houden? voor mijn fractie blijft een aantal punten erg onduidelijk. waarom wordt het onderzoek van de rijksrecherche niet openbaar gemaakt of vertrouwelijk ter inzage gelegd? waarom werd afgezien van het voeren van gesprekken met de directe medewerkers van de fractievoorzitters? waarom gaf het presidium vooraf aan dat de reikwijdte van het onderzoek zo beperkt mogelijk moest blijven, en waarom werd het gehele dossier niet alsnog overgedragen aan de procureur-generaal van de hoge raad? natuurlijk moet de stokoude wetgeving worden aangepast om een vergelijkbaar fiasco in de toekomst te voorkomen, maar er zijn in deze kamer nog steeds één of meer fractievoorzitters die wellicht een ambtsmisdrijf pleegden en gewoon aanblijven als kamerlid. tegen deze persoon of personen zeggen wij: u bent een schande voor het parlement, neem uw verantwoordelijkheid, vertrek uit de politiek en kom nooit meer terug. dank u wel.',\n 'de heer vos zegt dat het gevoel in het gebied is dat de nam niet te vertrouwen is, dat het centrum veilig wonen niet te vertrouwen is en dat het allemaal één pot nat is. ik geloof niet dat het helpt bij het vinden van oplossingen als wij die uitspraken ook voor onze rekening zouden nemen. als ik de overtuiging zou hebben dat de nam niet zou deugen of niet verantwoord zou handelen, dan zou ik moeten optreden en de nam moeten brengen tot het wel verantwoord handelen. ik heb de overtuiging dat men bij de nam wel degelijk verantwoord handelt, en dat de nam en de opstelling die men daar inneemt, vertrouwd kunnen worden. natuurlijk gaan er dingen fout en moeten er dingen worden gecorrigeerd. dat gebeurt ook bij mij en dat gebeurt overal waar wordt gewerkt. de nam is echter een betrouwbare partij. het centrum veilig wonen is een uitvoeringsinstantie die op afstand van de nam is geplaatst. naar mijn overtuiging wordt daar met de beste bedoelingen goed werk gedaan. als het beter kan, moet dat gebeuren. ik weet dat de leiding van het bedrijf dat ook wil. het draagt ook weer niet bij aan het herwinnen van vertrouwen in het gebied als wij de nam en het centrum veilig wonen weg zouden zetten als één pot nat en niet betrouwbaar.',\n 'het is nog erger. de gezamenlijke doelstelling is om lager uit te komen dan die 58.000. ik zei al vaker dat je niet ieder jaar deze hoge instroom kunt hebben. de heer klaver stelt in feite precies de goede vraag. we kunnen niet exact pinpointen waar je op uitkomt en we willen ook niet aan de discussie van een bovengrens. de heer buma vroeg of wij dan net als oostenrijk een bovengrens gaan noemen. al die discussies willen we niet op dit moment. we werken aan een europese oplossing en proberen langs een europese route dit probleem onder controle te krijgen. we hebben gezegd dat het dan het meest logische is om uit te gaan — het is een beleidsuitgangspunt, geen doelstelling; de doelstelling is lager — van de realisatie 2015 als vertrekpunt en om met elkaar vast te stellen dat we bereid zijn om zowel politiek als beleidsmatig alles te doen om die aantallen naar beneden te krijgen.',\n 'in frankrijk en duitsland zijn er stappen genomen die ertoe geleid hebben dat duidelijk is wanneer iets mag en wanneer iets niet mag. die landen hebben trouwens voor een grote mate van openheid hierin gekozen. nederland heeft dat niet gedaan. sterker nog, op die icao-website die door nederland bevorderd is over onveilig vliegen heeft nederland nog niet een keer een onveilig gebied aangeleverd. wij weten nu niet wat er besproken wordt, dat snap ik, maar de maatschappijen zijn ongerust en de passagiers mogen ook niet weten waar er gevlogen wordt. wanneer komt de nederlandse regering met een brief met precieze voorstellen hoe het geborgd is en hoe de juridische verantwoordelijkheid ligt wanneer er straks weer iets zou mogen gebeuren? weten we dan wel of niet of er wel gewaarschuwd is? dat is iets wat we na negentien maanden hebben moeten leren van de mh17.',\n 'in frankrijk en duitsland zijn er stappen genomen die ertoe geleid hebben dat duidelijk is wanneer iets mag en wanneer iets niet mag. die landen hebben trouwens voor een grote mate van openheid hierin gekozen. nederland heeft dat niet gedaan. sterker nog, op die icao-website die door nederland bevorderd is over onveilig vliegen heeft nederland nog niet een keer een onveilig gebied aangeleverd. wij weten nu niet wat er besproken wordt, dat snap ik, maar de maatschappijen zijn ongerust en de passagiers mogen ook niet weten waar er gevlogen wordt. wanneer komt de nederlandse regering met een brief met precieze voorstellen hoe het geborgd is en hoe de juridische verantwoordelijkheid ligt wanneer er straks weer iets zou mogen gebeuren? weten we dan wel of niet of er wel gewaarschuwd is? dat is iets wat we na negentien maanden hebben moeten leren van de mh17.',\n 'er zijn heel veel nieuwe feiten. de wettelijke basis was zo slecht gedefinieerd dat de ovv zich genoodzaakt voelde advies te vragen of die taak überhaupt bestond. de onderzoeksraad vroeg advies aan de toezichthouder op de geheime diensten, de ctivd, waarbij de vraagstelling was of de diensten een wettelijke taak hebben. we wísten het niet eens ten tijde van de mh17. zo duidelijk is de wet op dit moment. de regering zegt dit niet te willen wijzigen. de minister-president zegt: wij zien niet dat in andere landen de geheime diensten die lijst publiceren. nee, dat klopt. in duitsland en frankrijk doen de ministeries van infrastructuur en van buitenlandse zaken dat. het klopt dat die lijsten niet compleet zijn. een luchtvaartmaatschappij wordt daarmee niet ontslagen van de verplichting om ook zelf ernaar te kijken, net zomin als een reiziger die ergens naartoe gaat, kan zeggen: hé, deze plek staat niet op het lijstje met onveilige gebieden van het ministerie van buitenlandse zaken, dus ik hoef niet op te letten. is er niet een tussenweg te vinden waarbij de nederlandse regering aangeeft, maar niet op een vrijblijvende manier, dat bepaalde gebieden onveilig zijn, zoals duitsland en frankrijk dat doen? frankrijk is hierbij belangrijk vanwege de samenwerking tussen air france en klm. duitsland en frankrijk publiceren lijsten met onveilige gebieden. het is heel simpel: geen verzekeringsmaatschappij dekt een vliegtuig dat daar nog overheen vliegt. die lijsten fungeren dus als een vliegverbod, al zijn ze dat niet.',\n 'er zijn heel veel nieuwe feiten. de wettelijke basis was zo slecht gedefinieerd dat de ovv zich genoodzaakt voelde advies te vragen of die taak überhaupt bestond. de onderzoeksraad vroeg advies aan de toezichthouder op de geheime diensten, de ctivd, waarbij de vraagstelling was of de diensten een wettelijke taak hebben. we wísten het niet eens ten tijde van de mh17. zo duidelijk is de wet op dit moment. de regering zegt dit niet te willen wijzigen. de minister-president zegt: wij zien niet dat in andere landen de geheime diensten die lijst publiceren. nee, dat klopt. in duitsland en frankrijk doen de ministeries van infrastructuur en van buitenlandse zaken dat. het klopt dat die lijsten niet compleet zijn. een luchtvaartmaatschappij wordt daarmee niet ontslagen van de verplichting om ook zelf ernaar te kijken, net zomin als een reiziger die ergens naartoe gaat, kan zeggen: hé, deze plek staat niet op het lijstje met onveilige gebieden van het ministerie van buitenlandse zaken, dus ik hoef niet op te letten. is er niet een tussenweg te vinden waarbij de nederlandse regering aangeeft, maar niet op een vrijblijvende manier, dat bepaalde gebieden onveilig zijn, zoals duitsland en frankrijk dat doen? frankrijk is hierbij belangrijk vanwege de samenwerking tussen air france en klm. duitsland en frankrijk publiceren lijsten met onveilige gebieden. het is heel simpel: geen verzekeringsmaatschappij dekt een vliegtuig dat daar nog overheen vliegt. die lijsten fungeren dus als een vliegverbod, al zijn ze dat niet.']"
     },
     "metadata": {},
     "execution_count": 59
    }
   ],
   "source": [
    "[speeches[0:5000][i] for i in top_textst]"
   ]
  },
  {
   "cell_type": "code",
   "execution_count": null,
   "metadata": {},
   "outputs": [],
   "source": []
  }
 ]
}