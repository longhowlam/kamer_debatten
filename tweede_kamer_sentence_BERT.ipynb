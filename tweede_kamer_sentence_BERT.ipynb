{
 "metadata": {
  "language_info": {
   "codemirror_mode": {
    "name": "ipython",
    "version": 3
   },
   "file_extension": ".py",
   "mimetype": "text/x-python",
   "name": "python",
   "nbconvert_exporter": "python",
   "pygments_lexer": "ipython3",
   "version": "3.7.3-final"
  },
  "orig_nbformat": 2,
  "kernelspec": {
   "name": "python_defaultSpec_1599804278528",
   "display_name": "Python 3.7.3 64-bit"
  }
 },
 "nbformat": 4,
 "nbformat_minor": 2,
 "cells": [
  {
   "cell_type": "markdown",
   "metadata": {},
   "source": [
    "# SentenceTransformers SBERT\n",
    "\n",
    "https://www.sbert.net/index.html\n"
   ]
  },
  {
   "cell_type": "markdown",
   "metadata": {},
   "source": [
    "## getting started"
   ]
  },
  {
   "cell_type": "code",
   "execution_count": 6,
   "metadata": {
    "tags": []
   },
   "outputs": [],
   "source": [
    "import numpy as np\n",
    "import pandas as pd\n",
    "import pickle\n",
    "\n",
    "from sentence_transformers import SentenceTransformer, util"
   ]
  },
  {
   "cell_type": "code",
   "execution_count": 7,
   "metadata": {},
   "outputs": [],
   "source": [
    "## Mult-lingual model that supports Dutch\n",
    "modelML = SentenceTransformer('xlm-r-100langs-bert-base-nli-mean-tokens')"
   ]
  },
  {
   "cell_type": "markdown",
   "metadata": {},
   "source": [
    "## import kamer speeches"
   ]
  },
  {
   "cell_type": "code",
   "execution_count": null,
   "metadata": {},
   "outputs": [],
   "source": [
    "## put data chuncks in one zip file\n",
    "!cat data/CorpusTweedeKamer* > CorpusTweedeKamer.zip"
   ]
  },
  {
   "cell_type": "code",
   "execution_count": 2,
   "metadata": {
    "tags": []
   },
   "outputs": [
    {
     "output_type": "stream",
     "name": "stdout",
     "text": "CPU times: user 13.5 s, sys: 1.09 s, total: 14.6 s\nWall time: 14.9 s\n"
    }
   ],
   "source": [
    "%%time\n",
    "tweede_kamer = pd.read_csv(\"CorpusTweedeKamer.zip\")\n",
    "tweede_kamer = (\n",
    "    tweede_kamer\n",
    "    .assign(datum = pd.to_datetime(tweede_kamer.date))\n",
    "    .assign(speaker = tweede_kamer.speaker.str.lower())\n",
    ")"
   ]
  },
  {
   "cell_type": "code",
   "execution_count": 8,
   "metadata": {},
   "outputs": [
    {
     "output_type": "execute_result",
     "data": {
      "text/plain": "(1143366, 12)"
     },
     "metadata": {},
     "execution_count": 8
    }
   ],
   "source": [
    "tweede_kamer.shape"
   ]
  },
  {
   "cell_type": "code",
   "execution_count": 4,
   "metadata": {},
   "outputs": [],
   "source": [
    "recente_speeches = (\n",
    "    tweede_kamer\n",
    "    .dropna(subset = [\"text\"])\n",
    "    .query('terms > 3')\n",
    "    .query('terms < 800')\n",
    "    .query('datum > \"2016-01-01\"')\n",
    ")"
   ]
  },
  {
   "cell_type": "code",
   "execution_count": 9,
   "metadata": {},
   "outputs": [
    {
     "output_type": "execute_result",
     "data": {
      "text/plain": "(216470, 12)"
     },
     "metadata": {},
     "execution_count": 9
    }
   ],
   "source": [
    "recente_speeches.shape"
   ]
  },
  {
   "cell_type": "markdown",
   "metadata": {},
   "source": [
    "It takes hours to embed 100K texts on a comouter without GPU. you can spin up a AI VM machine on GCP to speed thing sup\n",
    "\n"
   ]
  },
  {
   "cell_type": "code",
   "execution_count": null,
   "metadata": {},
   "outputs": [],
   "source": [
    "## if you have gcloud CLI setup: here is code to spin up a machine....\n",
    "export IMAGE_FAMILY=\"pytorch-latest-gpu\"\n",
    "export ZONE=\"europe-west4-a\"\n",
    "export INSTANCE_NAME=\"lhl-gpu-instance-2\"\n",
    "export INSTANCE_TYPE=\"n1-standard-8\"\n",
    "\n",
    "gcloud compute instances create $INSTANCE_NAME \\\n",
    "        --zone=$ZONE \\\n",
    "        --image-family=$IMAGE_FAMILY \\\n",
    "        --image-project=deeplearning-platform-release \\\n",
    "        --maintenance-policy=TERMINATE \\\n",
    "        --accelerator=\"type=nvidia-tesla-v100,count=1\" \\\n",
    "        --machine-type=$INSTANCE_TYPE \\\n",
    "        --boot-disk-size=120GB \\\n",
    "        --metadata=\"install-nvidia-driver=True\" \\\n",
    "        --preemptible\n",
    "\n",
    "# Dont forget to install the right version of torch in our case with the GCP machine we need the cuda 10.1 version\n",
    "pip install torch==1.6.0+cu101 torchvision==0.7.0+cu101 -f https://download.pytorch.org/whl/torch_stable.html\n",
    "\n",
    "# and the package sentence-transformers\n",
    "pip install -U sentence-transformers\n",
    "\n",
    "# om de graphics card in actie te zien\n",
    "watch -d -n 0.5 nvidia-smi "
   ]
  },
  {
   "cell_type": "markdown",
   "metadata": {},
   "source": [
    "With a Tesla V100 card it takes around 5m:36s to embed 216470 texts, without it, it will take hours......"
   ]
  },
  {
   "cell_type": "code",
   "execution_count": 10,
   "metadata": {},
   "outputs": [],
   "source": [
    "speeches = recente_speeches.text.str.lower().values.tolist()"
   ]
  },
  {
   "cell_type": "code",
   "execution_count": 77,
   "metadata": {
    "tags": []
   },
   "outputs": [
    {
     "output_type": "stream",
     "name": "stdout",
     "text": "CPU times: user 2 µs, sys: 1 µs, total: 3 µs\nWall time: 5.72 µs\n"
    }
   ],
   "source": [
    "%%time \n",
    "sentence_embeddings = modelML.encode(speeches)"
   ]
  },
  {
   "cell_type": "code",
   "execution_count": 62,
   "metadata": {},
   "outputs": [
    {
     "output_type": "execute_result",
     "data": {
      "text/plain": "(95314, 768)"
     },
     "metadata": {},
     "execution_count": 62
    }
   ],
   "source": [
    "sentence_embeddings.shape"
   ]
  },
  {
   "cell_type": "code",
   "execution_count": 12,
   "metadata": {},
   "outputs": [],
   "source": [
    "#Store sentences & embeddings on disc\n",
    "with open('kamer_BERT_embeddings.pkl', \"wb\") as fOut:\n",
    "    pickle.dump({'sentences': speeches, 'embeddings': sentence_embeddings}, fOut, protocol=pickle.HIGHEST_PROTOCOL)\n"
   ]
  },
  {
   "cell_type": "markdown",
   "metadata": {},
   "source": [
    "## use pre computed embedings"
   ]
  },
  {
   "cell_type": "code",
   "execution_count": 11,
   "metadata": {},
   "outputs": [],
   "source": [
    "#Load sentences & embeddings from disc\n",
    "with open('kamer_BERT_embeddings_216K.pck', \"rb\") as fIn:\n",
    "    stored_data = pickle.load(fIn)\n",
    "    speeches = stored_data['sentences']\n",
    "    sentence_embeddings = stored_data['embeddings']"
   ]
  },
  {
   "cell_type": "code",
   "execution_count": 12,
   "metadata": {},
   "outputs": [
    {
     "output_type": "execute_result",
     "data": {
      "text/plain": "216470"
     },
     "metadata": {},
     "execution_count": 12
    }
   ],
   "source": [
    "len(speeches)"
   ]
  },
  {
   "cell_type": "code",
   "execution_count": 13,
   "metadata": {},
   "outputs": [
    {
     "output_type": "execute_result",
     "data": {
      "text/plain": "(216470, 768)"
     },
     "metadata": {},
     "execution_count": 13
    }
   ],
   "source": [
    "sentence_embeddings.shape"
   ]
  },
  {
   "cell_type": "markdown",
   "metadata": {},
   "source": [
    "### Voer een semantic search uit"
   ]
  },
  {
   "cell_type": "code",
   "execution_count": 14,
   "metadata": {},
   "outputs": [],
   "source": [
    "tt = \"\"\"\n",
    "We zijn een klein land van 17 miljoen mensen, dat groot is geworden door\n",
    "samenwerking in onze gezamenlijke strijd tegen het water, door onze handelsgeest\n",
    "en onze openheid naar de wereld en door onze gemeenschapszin, die mensen\n",
    "hier een veilig thuis bood. Ons land is al eeuwenlang een plek waar mensen\n",
    "met verschillende religieuze en culturele achtergronden en botsende politieke\n",
    "overtuigingen vreedzaam met elkaar samenleven. Waar democratie en recht altijd\n",
    "het laatste woord hebben.\n",
    "Het zijn precies die waarden en tradities die nu onder druk staan. De crises van\n",
    "de afgelopen jaren hebben veel Nederlanders bezorgd en onzeker gemaakt, door\n",
    "het verlies aan zekerheid, de vrees voor terreur en een toenemend gebrek aan\n",
    "respect en saamhorigheid. In de ik-samenleving van vandaag hebben we onvoldoende besef van het belang van gedeelde waarden en de onderlinge spelregels\n",
    "die nodig zijn om met elkaar samen te leven. We zijn te veel gaan geloven in een\n",
    "vrijheid zonder verantwoordelijkheid, in een wereld van rechten zonder plichten.\n",
    "De voorbeelden zien we dagelijks om ons heen. Op internet en social media is de\n",
    "vrijheid van meningsuiting voor sommigen vooral een vrijbrief voor beledigen en\n",
    "kwetsen. Op straat tarten en treiteren jongeren uit verveling toevallige passanten\n",
    "en agenten. Maar het gebrek aan waarden en normen zien we ook bij roekeloze\n",
    "bankiers, sjoemelende multinationals of graaiende bestuurders, die het eigenbelang\n",
    "boven het algemeen belang stelden. Of bij politici die bewust te grote beloftes doen\n",
    "om vier jaar later doodleuk sorry te zeggen.\n",
    "Ondertussen roept de moeizame integratie van \n",
    "\"\"\""
   ]
  },
  {
   "cell_type": "code",
   "execution_count": 28,
   "metadata": {},
   "outputs": [],
   "source": [
    "tt = \"ik ga nu naar huis\""
   ]
  },
  {
   "cell_type": "code",
   "execution_count": 29,
   "metadata": {},
   "outputs": [
    {
     "output_type": "execute_result",
     "data": {
      "text/plain": "[[{'corpus_id': 148199, 'score': 0.9213277},\n  {'corpus_id': 208131, 'score': 0.8925456},\n  {'corpus_id': 209801, 'score': 0.87854594},\n  {'corpus_id': 205894, 'score': 0.8723681},\n  {'corpus_id': 210261, 'score': 0.8723681},\n  {'corpus_id': 176207, 'score': 0.86704165},\n  {'corpus_id': 24293, 'score': 0.86661553},\n  {'corpus_id': 24962, 'score': 0.86431146},\n  {'corpus_id': 128805, 'score': 0.86112165},\n  {'corpus_id': 192826, 'score': 0.86062646}]]"
     },
     "metadata": {},
     "execution_count": 29
    }
   ],
   "source": [
    "query_embedding = modelML.encode(tt, convert_to_tensor=True)\n",
    "topmatches = util.semantic_search(query_embedding, sentence_embeddings)\n",
    "topmatches"
   ]
  },
  {
   "cell_type": "code",
   "execution_count": 30,
   "metadata": {},
   "outputs": [
    {
     "output_type": "execute_result",
     "data": {
      "text/plain": "['dan ga ik naar mijn plek.',\n 'wel even naar huis geweest!',\n 'nou, dan ga ik weer!',\n 'dan ben ik erdoorheen.',\n 'dan ben ik erdoorheen.',\n 'nee, maar ... ik ga weer.',\n 'tot slot, mevrouw gesthuizen.',\n 'dan ga ik door.',\n 'ja, dan ga ik verder en dan rond ik af.',\n 'ik ga zo meteen wel.']"
     },
     "metadata": {},
     "execution_count": 30
    }
   ],
   "source": [
    "top_textst = [ idx['corpus_id']  for idx in topmatches[0]]\n",
    "[speeches[i] for i in top_textst]"
   ]
  },
  {
   "cell_type": "code",
   "execution_count": 31,
   "metadata": {},
   "outputs": [
    {
     "output_type": "execute_result",
     "data": {
      "text/plain": "               date  agenda  speechnumber  \\\n1068912  2018-07-05     NaN          1032   \n1134233  2019-06-06     NaN           141   \n1136063  2019-06-18     NaN             3   \n1131792  2019-05-22     NaN           288   \n1136587  2019-06-18     NaN           527   \n1099595  2018-12-18     NaN             8   \n935091   2016-05-25     NaN           524   \n935806   2016-05-26     NaN           463   \n1047877  2018-04-17     NaN           473   \n1117695  2019-03-13     NaN           946   \n\n                                     speaker party  party.facts.id  chair  \\\n1068912                        de heer kwint    SP          1363.0  False   \n1134233                       minister rutte   NaN             NaN  False   \n1136063                       minister rutte   NaN             NaN  False   \n1131792  minister van nieuwenhuizen-wijbenga   NaN             NaN  False   \n1136587                      minister bruins   NaN             NaN  False   \n1099595                      de heer van dam   CDA          1157.0  False   \n935091                         de voorzitter   NaN             NaN   True   \n935806                      de heer grashoff    GL          1537.0  False   \n1047877                   minister ollongren   NaN             NaN  False   \n1117695                       de heer ronnes   CDA          1157.0  False   \n\n         terms                                     text      parliament  \\\n1068912      6                Dan ga ik naar mijn plek.  NL-TweedeKamer   \n1134233      5              Wel even naar huis geweest!  NL-TweedeKamer   \n1136063      5                     Nou, dan ga ik weer!  NL-TweedeKamer   \n1131792      4                   Dan ben ik erdoorheen.  NL-TweedeKamer   \n1136587      4                   Dan ben ik erdoorheen.  NL-TweedeKamer   \n1099595      6                Nee, maar ... ik ga weer.  NL-TweedeKamer   \n935091       4            Tot slot, mevrouw Gesthuizen.  NL-TweedeKamer   \n935806       4                          Dan ga ik door.  NL-TweedeKamer   \n1047877     10  Ja, dan ga ik verder en dan rond ik af.  NL-TweedeKamer   \n1117695      5                     Ik ga zo meteen wel.  NL-TweedeKamer   \n\n        iso3country      datum  \n1068912         NLD 2018-07-05  \n1134233         NLD 2019-06-06  \n1136063         NLD 2019-06-18  \n1131792         NLD 2019-05-22  \n1136587         NLD 2019-06-18  \n1099595         NLD 2018-12-18  \n935091          NLD 2016-05-25  \n935806          NLD 2016-05-26  \n1047877         NLD 2018-04-17  \n1117695         NLD 2019-03-13  ",
      "text/html": "<div>\n<style scoped>\n    .dataframe tbody tr th:only-of-type {\n        vertical-align: middle;\n    }\n\n    .dataframe tbody tr th {\n        vertical-align: top;\n    }\n\n    .dataframe thead th {\n        text-align: right;\n    }\n</style>\n<table border=\"1\" class=\"dataframe\">\n  <thead>\n    <tr style=\"text-align: right;\">\n      <th></th>\n      <th>date</th>\n      <th>agenda</th>\n      <th>speechnumber</th>\n      <th>speaker</th>\n      <th>party</th>\n      <th>party.facts.id</th>\n      <th>chair</th>\n      <th>terms</th>\n      <th>text</th>\n      <th>parliament</th>\n      <th>iso3country</th>\n      <th>datum</th>\n    </tr>\n  </thead>\n  <tbody>\n    <tr>\n      <th>1068912</th>\n      <td>2018-07-05</td>\n      <td>NaN</td>\n      <td>1032</td>\n      <td>de heer kwint</td>\n      <td>SP</td>\n      <td>1363.0</td>\n      <td>False</td>\n      <td>6</td>\n      <td>Dan ga ik naar mijn plek.</td>\n      <td>NL-TweedeKamer</td>\n      <td>NLD</td>\n      <td>2018-07-05</td>\n    </tr>\n    <tr>\n      <th>1134233</th>\n      <td>2019-06-06</td>\n      <td>NaN</td>\n      <td>141</td>\n      <td>minister rutte</td>\n      <td>NaN</td>\n      <td>NaN</td>\n      <td>False</td>\n      <td>5</td>\n      <td>Wel even naar huis geweest!</td>\n      <td>NL-TweedeKamer</td>\n      <td>NLD</td>\n      <td>2019-06-06</td>\n    </tr>\n    <tr>\n      <th>1136063</th>\n      <td>2019-06-18</td>\n      <td>NaN</td>\n      <td>3</td>\n      <td>minister rutte</td>\n      <td>NaN</td>\n      <td>NaN</td>\n      <td>False</td>\n      <td>5</td>\n      <td>Nou, dan ga ik weer!</td>\n      <td>NL-TweedeKamer</td>\n      <td>NLD</td>\n      <td>2019-06-18</td>\n    </tr>\n    <tr>\n      <th>1131792</th>\n      <td>2019-05-22</td>\n      <td>NaN</td>\n      <td>288</td>\n      <td>minister van nieuwenhuizen-wijbenga</td>\n      <td>NaN</td>\n      <td>NaN</td>\n      <td>False</td>\n      <td>4</td>\n      <td>Dan ben ik erdoorheen.</td>\n      <td>NL-TweedeKamer</td>\n      <td>NLD</td>\n      <td>2019-05-22</td>\n    </tr>\n    <tr>\n      <th>1136587</th>\n      <td>2019-06-18</td>\n      <td>NaN</td>\n      <td>527</td>\n      <td>minister bruins</td>\n      <td>NaN</td>\n      <td>NaN</td>\n      <td>False</td>\n      <td>4</td>\n      <td>Dan ben ik erdoorheen.</td>\n      <td>NL-TweedeKamer</td>\n      <td>NLD</td>\n      <td>2019-06-18</td>\n    </tr>\n    <tr>\n      <th>1099595</th>\n      <td>2018-12-18</td>\n      <td>NaN</td>\n      <td>8</td>\n      <td>de heer van dam</td>\n      <td>CDA</td>\n      <td>1157.0</td>\n      <td>False</td>\n      <td>6</td>\n      <td>Nee, maar ... ik ga weer.</td>\n      <td>NL-TweedeKamer</td>\n      <td>NLD</td>\n      <td>2018-12-18</td>\n    </tr>\n    <tr>\n      <th>935091</th>\n      <td>2016-05-25</td>\n      <td>NaN</td>\n      <td>524</td>\n      <td>de voorzitter</td>\n      <td>NaN</td>\n      <td>NaN</td>\n      <td>True</td>\n      <td>4</td>\n      <td>Tot slot, mevrouw Gesthuizen.</td>\n      <td>NL-TweedeKamer</td>\n      <td>NLD</td>\n      <td>2016-05-25</td>\n    </tr>\n    <tr>\n      <th>935806</th>\n      <td>2016-05-26</td>\n      <td>NaN</td>\n      <td>463</td>\n      <td>de heer grashoff</td>\n      <td>GL</td>\n      <td>1537.0</td>\n      <td>False</td>\n      <td>4</td>\n      <td>Dan ga ik door.</td>\n      <td>NL-TweedeKamer</td>\n      <td>NLD</td>\n      <td>2016-05-26</td>\n    </tr>\n    <tr>\n      <th>1047877</th>\n      <td>2018-04-17</td>\n      <td>NaN</td>\n      <td>473</td>\n      <td>minister ollongren</td>\n      <td>NaN</td>\n      <td>NaN</td>\n      <td>False</td>\n      <td>10</td>\n      <td>Ja, dan ga ik verder en dan rond ik af.</td>\n      <td>NL-TweedeKamer</td>\n      <td>NLD</td>\n      <td>2018-04-17</td>\n    </tr>\n    <tr>\n      <th>1117695</th>\n      <td>2019-03-13</td>\n      <td>NaN</td>\n      <td>946</td>\n      <td>de heer ronnes</td>\n      <td>CDA</td>\n      <td>1157.0</td>\n      <td>False</td>\n      <td>5</td>\n      <td>Ik ga zo meteen wel.</td>\n      <td>NL-TweedeKamer</td>\n      <td>NLD</td>\n      <td>2019-03-13</td>\n    </tr>\n  </tbody>\n</table>\n</div>"
     },
     "metadata": {},
     "execution_count": 31
    }
   ],
   "source": [
    "recente_speeches.iloc[top_textst]"
   ]
  },
  {
   "cell_type": "code",
   "execution_count": null,
   "metadata": {},
   "outputs": [],
   "source": []
  }
 ]
}