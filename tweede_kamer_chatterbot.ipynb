{
 "metadata": {
  "language_info": {
   "codemirror_mode": {
    "name": "ipython",
    "version": 3
   },
   "file_extension": ".py",
   "mimetype": "text/x-python",
   "name": "python",
   "nbconvert_exporter": "python",
   "pygments_lexer": "ipython3",
   "version": "3.7.3-final"
  },
  "orig_nbformat": 2,
  "kernelspec": {
   "name": "python_defaultSpec_1600264993117",
   "display_name": "Python 3.7.3 64-bit"
  }
 },
 "nbformat": 4,
 "nbformat_minor": 2,
 "cells": [
  {
   "cell_type": "markdown",
   "metadata": {},
   "source": [
    "# Chatterbot "
   ]
  },
  {
   "cell_type": "markdown",
   "metadata": {},
   "source": [
    "## getting started"
   ]
  },
  {
   "cell_type": "code",
   "execution_count": 9,
   "metadata": {
    "tags": []
   },
   "outputs": [],
   "source": [
    "import numpy as np\n",
    "import pandas as pd\n",
    "\n",
    "from chatterbot import ChatBot\n",
    "from chatterbot.trainers import ListTrainer"
   ]
  },
  {
   "cell_type": "markdown",
   "metadata": {},
   "source": [
    "## import kamer speeches"
   ]
  },
  {
   "cell_type": "code",
   "execution_count": null,
   "metadata": {},
   "outputs": [],
   "source": [
    "## put data chuncks in one zip file\n",
    "!cat data/CorpusTweedeKamer* > CorpusTweedeKamer.zip"
   ]
  },
  {
   "cell_type": "code",
   "execution_count": 2,
   "metadata": {
    "tags": []
   },
   "outputs": [
    {
     "output_type": "stream",
     "name": "stdout",
     "text": "CPU times: user 13 s, sys: 974 ms, total: 14 s\nWall time: 14.3 s\n"
    }
   ],
   "source": [
    "%%time\n",
    "tweede_kamer = pd.read_csv(\"CorpusTweedeKamer.zip\")\n",
    "tweede_kamer = (\n",
    "    tweede_kamer\n",
    "    .assign(datum = pd.to_datetime(tweede_kamer.date))\n",
    "    .assign(speaker = tweede_kamer.speaker.str.lower())\n",
    ")"
   ]
  },
  {
   "cell_type": "code",
   "execution_count": 3,
   "metadata": {},
   "outputs": [
    {
     "output_type": "execute_result",
     "data": {
      "text/plain": "(1143366, 12)"
     },
     "metadata": {},
     "execution_count": 3
    }
   ],
   "source": [
    "tweede_kamer.shape"
   ]
  },
  {
   "cell_type": "code",
   "execution_count": 19,
   "metadata": {},
   "outputs": [],
   "source": [
    "recente_speeches = (\n",
    "    tweede_kamer\n",
    "    .dropna(subset = [\"text\"])\n",
    "    .query('terms < 600')\n",
    "    .query('datum >= \"2019-05-01\"')\n",
    ")"
   ]
  },
  {
   "cell_type": "code",
   "execution_count": 20,
   "metadata": {},
   "outputs": [
    {
     "output_type": "execute_result",
     "data": {
      "text/plain": "(13731, 12)"
     },
     "metadata": {},
     "execution_count": 20
    }
   ],
   "source": [
    "recente_speeches.shape"
   ]
  },
  {
   "cell_type": "code",
   "execution_count": 21,
   "metadata": {},
   "outputs": [
    {
     "output_type": "execute_result",
     "data": {
      "text/plain": "               date  agenda  speechnumber                         speaker  \\\n1129244  2019-05-14     NaN             1                   de voorzitter   \n1129245  2019-05-14     NaN             2             de heer markuszower   \n1129246  2019-05-14     NaN             3                   de voorzitter   \n1129247  2019-05-14     NaN             4            minister grapperhaus   \n1129248  2019-05-14     NaN             5                   de voorzitter   \n...             ...     ...           ...                             ...   \n1143361  2019-07-04     NaN           965  staatssecretaris broekers-knol   \n1143362  2019-07-04     NaN           966                   de voorzitter   \n1143363  2019-07-04     NaN           967                   de voorzitter   \n1143364  2019-07-04     NaN           968          mevrouw van toorenburg   \n1143365  2019-07-04     NaN           969                   de voorzitter   \n\n        party  party.facts.id  chair  terms  \\\n1129244   NaN             NaN   True     44   \n1129245   PVV           298.0  False    374   \n1129246   NaN             NaN   True      9   \n1129247   NaN             NaN  False    466   \n1129248   NaN             NaN   True     14   \n...       ...             ...    ...    ...   \n1143361   NaN             NaN  False    142   \n1143362   NaN             NaN   True      3   \n1143363   NaN             NaN   True     62   \n1143364   CDA          1157.0  False     21   \n1143365   NaN             NaN   True     75   \n\n                                                      text      parliament  \\\n1129244  Deze keer beginnen we met de vraag van de heer...  NL-TweedeKamer   \n1129245  Dank u wel, voorzitter. Bijna alle Nederlander...  NL-TweedeKamer   \n1129246          Dan geef ik nu het woord aan de minister.  NL-TweedeKamer   \n1129247  Voorzitter. Het is goed dat deze mondelinge vr...  NL-TweedeKamer   \n1129248  Dank u wel. Ook voor de minister geldt twee mi...  NL-TweedeKamer   \n...                                                    ...             ...   \n1143361  Dan de motie op stuk nr. 2519 van de heer Hidd...  NL-TweedeKamer   \n1143362                                        Dank u wel.  NL-TweedeKamer   \n1143363  Over exact 60 minuten gaan wij stemmen over de...  NL-TweedeKamer   \n1143364  Toch nog even — misschien is het allemaal afge...  NL-TweedeKamer   \n1143365  Ja, wat mij betreft zou ik 60 seconden willen ...  NL-TweedeKamer   \n\n        iso3country      datum  \n1129244         NLD 2019-05-14  \n1129245         NLD 2019-05-14  \n1129246         NLD 2019-05-14  \n1129247         NLD 2019-05-14  \n1129248         NLD 2019-05-14  \n...             ...        ...  \n1143361         NLD 2019-07-04  \n1143362         NLD 2019-07-04  \n1143363         NLD 2019-07-04  \n1143364         NLD 2019-07-04  \n1143365         NLD 2019-07-04  \n\n[13731 rows x 12 columns]",
      "text/html": "<div>\n<style scoped>\n    .dataframe tbody tr th:only-of-type {\n        vertical-align: middle;\n    }\n\n    .dataframe tbody tr th {\n        vertical-align: top;\n    }\n\n    .dataframe thead th {\n        text-align: right;\n    }\n</style>\n<table border=\"1\" class=\"dataframe\">\n  <thead>\n    <tr style=\"text-align: right;\">\n      <th></th>\n      <th>date</th>\n      <th>agenda</th>\n      <th>speechnumber</th>\n      <th>speaker</th>\n      <th>party</th>\n      <th>party.facts.id</th>\n      <th>chair</th>\n      <th>terms</th>\n      <th>text</th>\n      <th>parliament</th>\n      <th>iso3country</th>\n      <th>datum</th>\n    </tr>\n  </thead>\n  <tbody>\n    <tr>\n      <th>1129244</th>\n      <td>2019-05-14</td>\n      <td>NaN</td>\n      <td>1</td>\n      <td>de voorzitter</td>\n      <td>NaN</td>\n      <td>NaN</td>\n      <td>True</td>\n      <td>44</td>\n      <td>Deze keer beginnen we met de vraag van de heer...</td>\n      <td>NL-TweedeKamer</td>\n      <td>NLD</td>\n      <td>2019-05-14</td>\n    </tr>\n    <tr>\n      <th>1129245</th>\n      <td>2019-05-14</td>\n      <td>NaN</td>\n      <td>2</td>\n      <td>de heer markuszower</td>\n      <td>PVV</td>\n      <td>298.0</td>\n      <td>False</td>\n      <td>374</td>\n      <td>Dank u wel, voorzitter. Bijna alle Nederlander...</td>\n      <td>NL-TweedeKamer</td>\n      <td>NLD</td>\n      <td>2019-05-14</td>\n    </tr>\n    <tr>\n      <th>1129246</th>\n      <td>2019-05-14</td>\n      <td>NaN</td>\n      <td>3</td>\n      <td>de voorzitter</td>\n      <td>NaN</td>\n      <td>NaN</td>\n      <td>True</td>\n      <td>9</td>\n      <td>Dan geef ik nu het woord aan de minister.</td>\n      <td>NL-TweedeKamer</td>\n      <td>NLD</td>\n      <td>2019-05-14</td>\n    </tr>\n    <tr>\n      <th>1129247</th>\n      <td>2019-05-14</td>\n      <td>NaN</td>\n      <td>4</td>\n      <td>minister grapperhaus</td>\n      <td>NaN</td>\n      <td>NaN</td>\n      <td>False</td>\n      <td>466</td>\n      <td>Voorzitter. Het is goed dat deze mondelinge vr...</td>\n      <td>NL-TweedeKamer</td>\n      <td>NLD</td>\n      <td>2019-05-14</td>\n    </tr>\n    <tr>\n      <th>1129248</th>\n      <td>2019-05-14</td>\n      <td>NaN</td>\n      <td>5</td>\n      <td>de voorzitter</td>\n      <td>NaN</td>\n      <td>NaN</td>\n      <td>True</td>\n      <td>14</td>\n      <td>Dank u wel. Ook voor de minister geldt twee mi...</td>\n      <td>NL-TweedeKamer</td>\n      <td>NLD</td>\n      <td>2019-05-14</td>\n    </tr>\n    <tr>\n      <th>...</th>\n      <td>...</td>\n      <td>...</td>\n      <td>...</td>\n      <td>...</td>\n      <td>...</td>\n      <td>...</td>\n      <td>...</td>\n      <td>...</td>\n      <td>...</td>\n      <td>...</td>\n      <td>...</td>\n      <td>...</td>\n    </tr>\n    <tr>\n      <th>1143361</th>\n      <td>2019-07-04</td>\n      <td>NaN</td>\n      <td>965</td>\n      <td>staatssecretaris broekers-knol</td>\n      <td>NaN</td>\n      <td>NaN</td>\n      <td>False</td>\n      <td>142</td>\n      <td>Dan de motie op stuk nr. 2519 van de heer Hidd...</td>\n      <td>NL-TweedeKamer</td>\n      <td>NLD</td>\n      <td>2019-07-04</td>\n    </tr>\n    <tr>\n      <th>1143362</th>\n      <td>2019-07-04</td>\n      <td>NaN</td>\n      <td>966</td>\n      <td>de voorzitter</td>\n      <td>NaN</td>\n      <td>NaN</td>\n      <td>True</td>\n      <td>3</td>\n      <td>Dank u wel.</td>\n      <td>NL-TweedeKamer</td>\n      <td>NLD</td>\n      <td>2019-07-04</td>\n    </tr>\n    <tr>\n      <th>1143363</th>\n      <td>2019-07-04</td>\n      <td>NaN</td>\n      <td>967</td>\n      <td>de voorzitter</td>\n      <td>NaN</td>\n      <td>NaN</td>\n      <td>True</td>\n      <td>62</td>\n      <td>Over exact 60 minuten gaan wij stemmen over de...</td>\n      <td>NL-TweedeKamer</td>\n      <td>NLD</td>\n      <td>2019-07-04</td>\n    </tr>\n    <tr>\n      <th>1143364</th>\n      <td>2019-07-04</td>\n      <td>NaN</td>\n      <td>968</td>\n      <td>mevrouw van toorenburg</td>\n      <td>CDA</td>\n      <td>1157.0</td>\n      <td>False</td>\n      <td>21</td>\n      <td>Toch nog even — misschien is het allemaal afge...</td>\n      <td>NL-TweedeKamer</td>\n      <td>NLD</td>\n      <td>2019-07-04</td>\n    </tr>\n    <tr>\n      <th>1143365</th>\n      <td>2019-07-04</td>\n      <td>NaN</td>\n      <td>969</td>\n      <td>de voorzitter</td>\n      <td>NaN</td>\n      <td>NaN</td>\n      <td>True</td>\n      <td>75</td>\n      <td>Ja, wat mij betreft zou ik 60 seconden willen ...</td>\n      <td>NL-TweedeKamer</td>\n      <td>NLD</td>\n      <td>2019-07-04</td>\n    </tr>\n  </tbody>\n</table>\n<p>13731 rows × 12 columns</p>\n</div>"
     },
     "metadata": {},
     "execution_count": 21
    }
   ],
   "source": [
    "recente_speeches"
   ]
  },
  {
   "cell_type": "code",
   "execution_count": 22,
   "metadata": {},
   "outputs": [],
   "source": [
    "speeches = recente_speeches.text.str.lower().values.tolist()"
   ]
  },
  {
   "cell_type": "code",
   "execution_count": 24,
   "metadata": {},
   "outputs": [],
   "source": [
    "chatbot = ChatBot(\"Tweede kamer\")"
   ]
  },
  {
   "cell_type": "code",
   "execution_count": 25,
   "metadata": {},
   "outputs": [
    {
     "output_type": "execute_result",
     "data": {
      "text/plain": "<chatterbot.chatterbot.ChatBot at 0x12964cc18>"
     },
     "metadata": {},
     "execution_count": 25
    }
   ],
   "source": [
    "chatbot"
   ]
  },
  {
   "cell_type": "code",
   "execution_count": 26,
   "metadata": {
    "tags": []
   },
   "outputs": [
    {
     "output_type": "stream",
     "name": "stdout",
     "text": "List Trainer: [####################] 100%\nCPU times: user 3min 59s, sys: 21.7 s, total: 4min 20s\nWall time: 4min 18s\n"
    }
   ],
   "source": [
    "%%time\n",
    "\n",
    "trainer = ListTrainer(chatbot)\n",
    "trainer.train(speeches)"
   ]
  },
  {
   "cell_type": "code",
   "execution_count": 33,
   "metadata": {
    "tags": []
   },
   "outputs": [
    {
     "output_type": "stream",
     "name": "stdout",
     "text": "dank u wel. dan kijk ik naar mevrouw mulder van het cda. zij is de laatste spreker van de zijde van de kamer.\n"
    }
   ],
   "source": [
    "response = chatbot.get_response('er moeten nu maatregelen genomen worden om dit tegen te gaan')\n",
    "\n",
    "print(response)"
   ]
  },
  {
   "cell_type": "code",
   "execution_count": null,
   "metadata": {},
   "outputs": [],
   "source": []
  }
 ]
}