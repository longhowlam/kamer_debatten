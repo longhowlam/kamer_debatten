{
 "metadata": {
  "language_info": {
   "codemirror_mode": {
    "name": "ipython",
    "version": 3
   },
   "file_extension": ".py",
   "mimetype": "text/x-python",
   "name": "python",
   "nbconvert_exporter": "python",
   "pygments_lexer": "ipython3",
   "version": 3
  },
  "orig_nbformat": 2,
  "kernelspec": {
   "name": "python_defaultSpec_1597164835964",
   "display_name": "Python 3.7.3 64-bit ('base': conda)"
  }
 },
 "nbformat": 4,
 "nbformat_minor": 2,
 "cells": [
  {
   "cell_type": "markdown",
   "metadata": {},
   "source": [
    "## TEST with parlement speech embeddings"
   ]
  },
  {
   "cell_type": "code",
   "execution_count": 1,
   "metadata": {},
   "outputs": [],
   "source": [
    "from annoy import AnnoyIndex\n",
    "import random\n",
    "import pickle\n",
    "from sklearn.metrics.pairwise import cosine_similarity"
   ]
  },
  {
   "cell_type": "code",
   "execution_count": 2,
   "metadata": {},
   "outputs": [],
   "source": [
    "embeddings = pickle.load(open(\"kamer_debatten_recente_speeches_met_emb.pck\", \"rb\"))"
   ]
  },
  {
   "cell_type": "code",
   "execution_count": 3,
   "metadata": {},
   "outputs": [
    {
     "output_type": "execute_result",
     "data": {
      "text/plain": "              date  agenda  speechnumber                         speaker  \\\n0       2010-01-12     NaN             1                         weekers   \n1       2010-01-12     NaN             2                             bos   \n2       2010-01-12     NaN             3                         weekers   \n3       2010-01-12     NaN             4                             bos   \n4       2010-01-12     NaN             5                  tony van dijck   \n...            ...     ...           ...                             ...   \n468192  2019-07-04     NaN           963  staatssecretaris broekers-knol   \n468193  2019-07-04     NaN           965  staatssecretaris broekers-knol   \n468194  2019-07-04     NaN           967                   de voorzitter   \n468195  2019-07-04     NaN           968          mevrouw van toorenburg   \n468196  2019-07-04     NaN           969                   de voorzitter   \n\n       party  party.facts.id  chair  terms  \\\n0        VVD           828.0  False    376   \n1       PvdA          1234.0  False    260   \n2        VVD           828.0  False    204   \n3       PvdA          1234.0  False    226   \n4        PVV           298.0  False    107   \n...      ...             ...    ...    ...   \n468192   NaN             NaN  False    290   \n468193   NaN             NaN  False    142   \n468194   NaN             NaN   True     62   \n468195   CDA          1157.0  False     21   \n468196   NaN             NaN   True     75   \n\n                                                     text      parliament  \\\n0       Voorzitter. In de week van de val van DSB heef...  NL-TweedeKamer   \n1       Voorzitter. De laatste conclusie van de heer W...  NL-TweedeKamer   \n2       Het gaat ons er niet om dat de minister zich b...  NL-TweedeKamer   \n3       Ik zal die zorgen overbrengen aan de heer Sche...  NL-TweedeKamer   \n4       Ook de fractie van de Partij voor de Vrijheid ...  NL-TweedeKamer   \n...                                                   ...             ...   \n468192  Ik ga uit van de gegevens die wij hebben gekre...  NL-TweedeKamer   \n468193  Dan de motie op stuk nr. 2519 van de heer Hidd...  NL-TweedeKamer   \n468194  Over exact 60 minuten gaan wij stemmen over de...  NL-TweedeKamer   \n468195  Toch nog even — misschien is het allemaal afge...  NL-TweedeKamer   \n468196  Ja, wat mij betreft zou ik 60 seconden willen ...  NL-TweedeKamer   \n\n        ...       502       503       504       505       506       507  \\\n0       ...  0.053838 -0.041742 -0.032260 -0.067037 -0.022552 -0.023394   \n1       ...  0.053762 -0.070165 -0.014723 -0.067824 -0.056783 -0.006215   \n2       ...  0.069975 -0.066717 -0.014065 -0.068072 -0.066792  0.006887   \n3       ...  0.082787 -0.077583  0.064040 -0.065484 -0.048932 -0.053128   \n4       ... -0.019395 -0.025600 -0.051116 -0.067381 -0.071851 -0.021703   \n...     ...       ...       ...       ...       ...       ...       ...   \n468192  ...  0.051056 -0.042262 -0.051334 -0.051260 -0.016387 -0.056653   \n468193  ...  0.059314 -0.056630 -0.031098 -0.041214 -0.001191  0.002085   \n468194  ...  0.008260 -0.023593  0.078514 -0.011184 -0.030405 -0.023197   \n468195  ... -0.073596  0.022221 -0.085983 -0.041239  0.000995 -0.014434   \n468196  ...  0.071359 -0.035882  0.060225 -0.043524 -0.069432  0.006534   \n\n             508       509       510       511  \n0      -0.065473 -0.069716  0.012569  0.062962  \n1      -0.072602 -0.071131 -0.018375  0.080761  \n2      -0.068825 -0.071827  0.018592  0.074508  \n3      -0.070319 -0.073950  0.039685  0.095769  \n4      -0.082825 -0.032184 -0.049826  0.088014  \n...          ...       ...       ...       ...  \n468192 -0.002518 -0.075303 -0.005929  0.087212  \n468193  0.038942 -0.011882  0.044419  0.059911  \n468194  0.012507 -0.052127  0.023723  0.062293  \n468195 -0.021121 -0.051808  0.041230  0.124054  \n468196 -0.043787 -0.033551  0.088078  0.090445  \n\n[468197 rows x 524 columns]",
      "text/html": "<div>\n<style scoped>\n    .dataframe tbody tr th:only-of-type {\n        vertical-align: middle;\n    }\n\n    .dataframe tbody tr th {\n        vertical-align: top;\n    }\n\n    .dataframe thead th {\n        text-align: right;\n    }\n</style>\n<table border=\"1\" class=\"dataframe\">\n  <thead>\n    <tr style=\"text-align: right;\">\n      <th></th>\n      <th>date</th>\n      <th>agenda</th>\n      <th>speechnumber</th>\n      <th>speaker</th>\n      <th>party</th>\n      <th>party.facts.id</th>\n      <th>chair</th>\n      <th>terms</th>\n      <th>text</th>\n      <th>parliament</th>\n      <th>...</th>\n      <th>502</th>\n      <th>503</th>\n      <th>504</th>\n      <th>505</th>\n      <th>506</th>\n      <th>507</th>\n      <th>508</th>\n      <th>509</th>\n      <th>510</th>\n      <th>511</th>\n    </tr>\n  </thead>\n  <tbody>\n    <tr>\n      <th>0</th>\n      <td>2010-01-12</td>\n      <td>NaN</td>\n      <td>1</td>\n      <td>weekers</td>\n      <td>VVD</td>\n      <td>828.0</td>\n      <td>False</td>\n      <td>376</td>\n      <td>Voorzitter. In de week van de val van DSB heef...</td>\n      <td>NL-TweedeKamer</td>\n      <td>...</td>\n      <td>0.053838</td>\n      <td>-0.041742</td>\n      <td>-0.032260</td>\n      <td>-0.067037</td>\n      <td>-0.022552</td>\n      <td>-0.023394</td>\n      <td>-0.065473</td>\n      <td>-0.069716</td>\n      <td>0.012569</td>\n      <td>0.062962</td>\n    </tr>\n    <tr>\n      <th>1</th>\n      <td>2010-01-12</td>\n      <td>NaN</td>\n      <td>2</td>\n      <td>bos</td>\n      <td>PvdA</td>\n      <td>1234.0</td>\n      <td>False</td>\n      <td>260</td>\n      <td>Voorzitter. De laatste conclusie van de heer W...</td>\n      <td>NL-TweedeKamer</td>\n      <td>...</td>\n      <td>0.053762</td>\n      <td>-0.070165</td>\n      <td>-0.014723</td>\n      <td>-0.067824</td>\n      <td>-0.056783</td>\n      <td>-0.006215</td>\n      <td>-0.072602</td>\n      <td>-0.071131</td>\n      <td>-0.018375</td>\n      <td>0.080761</td>\n    </tr>\n    <tr>\n      <th>2</th>\n      <td>2010-01-12</td>\n      <td>NaN</td>\n      <td>3</td>\n      <td>weekers</td>\n      <td>VVD</td>\n      <td>828.0</td>\n      <td>False</td>\n      <td>204</td>\n      <td>Het gaat ons er niet om dat de minister zich b...</td>\n      <td>NL-TweedeKamer</td>\n      <td>...</td>\n      <td>0.069975</td>\n      <td>-0.066717</td>\n      <td>-0.014065</td>\n      <td>-0.068072</td>\n      <td>-0.066792</td>\n      <td>0.006887</td>\n      <td>-0.068825</td>\n      <td>-0.071827</td>\n      <td>0.018592</td>\n      <td>0.074508</td>\n    </tr>\n    <tr>\n      <th>3</th>\n      <td>2010-01-12</td>\n      <td>NaN</td>\n      <td>4</td>\n      <td>bos</td>\n      <td>PvdA</td>\n      <td>1234.0</td>\n      <td>False</td>\n      <td>226</td>\n      <td>Ik zal die zorgen overbrengen aan de heer Sche...</td>\n      <td>NL-TweedeKamer</td>\n      <td>...</td>\n      <td>0.082787</td>\n      <td>-0.077583</td>\n      <td>0.064040</td>\n      <td>-0.065484</td>\n      <td>-0.048932</td>\n      <td>-0.053128</td>\n      <td>-0.070319</td>\n      <td>-0.073950</td>\n      <td>0.039685</td>\n      <td>0.095769</td>\n    </tr>\n    <tr>\n      <th>4</th>\n      <td>2010-01-12</td>\n      <td>NaN</td>\n      <td>5</td>\n      <td>tony van dijck</td>\n      <td>PVV</td>\n      <td>298.0</td>\n      <td>False</td>\n      <td>107</td>\n      <td>Ook de fractie van de Partij voor de Vrijheid ...</td>\n      <td>NL-TweedeKamer</td>\n      <td>...</td>\n      <td>-0.019395</td>\n      <td>-0.025600</td>\n      <td>-0.051116</td>\n      <td>-0.067381</td>\n      <td>-0.071851</td>\n      <td>-0.021703</td>\n      <td>-0.082825</td>\n      <td>-0.032184</td>\n      <td>-0.049826</td>\n      <td>0.088014</td>\n    </tr>\n    <tr>\n      <th>...</th>\n      <td>...</td>\n      <td>...</td>\n      <td>...</td>\n      <td>...</td>\n      <td>...</td>\n      <td>...</td>\n      <td>...</td>\n      <td>...</td>\n      <td>...</td>\n      <td>...</td>\n      <td>...</td>\n      <td>...</td>\n      <td>...</td>\n      <td>...</td>\n      <td>...</td>\n      <td>...</td>\n      <td>...</td>\n      <td>...</td>\n      <td>...</td>\n      <td>...</td>\n      <td>...</td>\n    </tr>\n    <tr>\n      <th>468192</th>\n      <td>2019-07-04</td>\n      <td>NaN</td>\n      <td>963</td>\n      <td>staatssecretaris broekers-knol</td>\n      <td>NaN</td>\n      <td>NaN</td>\n      <td>False</td>\n      <td>290</td>\n      <td>Ik ga uit van de gegevens die wij hebben gekre...</td>\n      <td>NL-TweedeKamer</td>\n      <td>...</td>\n      <td>0.051056</td>\n      <td>-0.042262</td>\n      <td>-0.051334</td>\n      <td>-0.051260</td>\n      <td>-0.016387</td>\n      <td>-0.056653</td>\n      <td>-0.002518</td>\n      <td>-0.075303</td>\n      <td>-0.005929</td>\n      <td>0.087212</td>\n    </tr>\n    <tr>\n      <th>468193</th>\n      <td>2019-07-04</td>\n      <td>NaN</td>\n      <td>965</td>\n      <td>staatssecretaris broekers-knol</td>\n      <td>NaN</td>\n      <td>NaN</td>\n      <td>False</td>\n      <td>142</td>\n      <td>Dan de motie op stuk nr. 2519 van de heer Hidd...</td>\n      <td>NL-TweedeKamer</td>\n      <td>...</td>\n      <td>0.059314</td>\n      <td>-0.056630</td>\n      <td>-0.031098</td>\n      <td>-0.041214</td>\n      <td>-0.001191</td>\n      <td>0.002085</td>\n      <td>0.038942</td>\n      <td>-0.011882</td>\n      <td>0.044419</td>\n      <td>0.059911</td>\n    </tr>\n    <tr>\n      <th>468194</th>\n      <td>2019-07-04</td>\n      <td>NaN</td>\n      <td>967</td>\n      <td>de voorzitter</td>\n      <td>NaN</td>\n      <td>NaN</td>\n      <td>True</td>\n      <td>62</td>\n      <td>Over exact 60 minuten gaan wij stemmen over de...</td>\n      <td>NL-TweedeKamer</td>\n      <td>...</td>\n      <td>0.008260</td>\n      <td>-0.023593</td>\n      <td>0.078514</td>\n      <td>-0.011184</td>\n      <td>-0.030405</td>\n      <td>-0.023197</td>\n      <td>0.012507</td>\n      <td>-0.052127</td>\n      <td>0.023723</td>\n      <td>0.062293</td>\n    </tr>\n    <tr>\n      <th>468195</th>\n      <td>2019-07-04</td>\n      <td>NaN</td>\n      <td>968</td>\n      <td>mevrouw van toorenburg</td>\n      <td>CDA</td>\n      <td>1157.0</td>\n      <td>False</td>\n      <td>21</td>\n      <td>Toch nog even — misschien is het allemaal afge...</td>\n      <td>NL-TweedeKamer</td>\n      <td>...</td>\n      <td>-0.073596</td>\n      <td>0.022221</td>\n      <td>-0.085983</td>\n      <td>-0.041239</td>\n      <td>0.000995</td>\n      <td>-0.014434</td>\n      <td>-0.021121</td>\n      <td>-0.051808</td>\n      <td>0.041230</td>\n      <td>0.124054</td>\n    </tr>\n    <tr>\n      <th>468196</th>\n      <td>2019-07-04</td>\n      <td>NaN</td>\n      <td>969</td>\n      <td>de voorzitter</td>\n      <td>NaN</td>\n      <td>NaN</td>\n      <td>True</td>\n      <td>75</td>\n      <td>Ja, wat mij betreft zou ik 60 seconden willen ...</td>\n      <td>NL-TweedeKamer</td>\n      <td>...</td>\n      <td>0.071359</td>\n      <td>-0.035882</td>\n      <td>0.060225</td>\n      <td>-0.043524</td>\n      <td>-0.069432</td>\n      <td>0.006534</td>\n      <td>-0.043787</td>\n      <td>-0.033551</td>\n      <td>0.088078</td>\n      <td>0.090445</td>\n    </tr>\n  </tbody>\n</table>\n<p>468197 rows × 524 columns</p>\n</div>"
     },
     "metadata": {},
     "execution_count": 3
    }
   ],
   "source": [
    "embeddings"
   ]
  },
  {
   "cell_type": "markdown",
   "metadata": {},
   "source": [
    "## afstanden tussen rijen met scikit learn"
   ]
  },
  {
   "cell_type": "code",
   "execution_count": 4,
   "metadata": {},
   "outputs": [],
   "source": [
    "def find_speeches(i:int, historic_speeches, K:int = 10) :\n",
    "    \n",
    "    testquery = historic_speeches.iloc[i:(i+1),12:524]\n",
    "   \n",
    "    #### look for the closest article embeddings, that we just created above\n",
    "    #### the results object is an array with nart cosine similarities\n",
    "    results = cosine_similarity(historic_speeches.iloc[:,12:524], testquery)\n",
    "\n",
    "    indices = results.argsort(axis = 0).ravel()\n",
    "    best_K = indices[-K:]\n",
    "\n",
    "    ### take corresponding articles\n",
    "    out = historic_speeches.iloc[best_K,:]\n",
    "    out = (\n",
    "        out\n",
    "        .assign(similarity = results[best_K].flatten())\n",
    "        .sort_values(by = \"similarity\", ascending = False)\n",
    "    )\n",
    "    return out[[\"datum\", \"speaker\", \"party\", \"text\", \"similarity\"]]\n",
    "    "
   ]
  },
  {
   "cell_type": "code",
   "execution_count": 5,
   "metadata": {
    "tags": []
   },
   "outputs": [
    {
     "output_type": "stream",
     "name": "stdout",
     "text": "CPU times: user 1.7 s, sys: 618 ms, total: 2.32 s\nWall time: 1.89 s\n"
    },
    {
     "output_type": "execute_result",
     "data": {
      "text/plain": "            datum                   speaker party  \\\n11     2010-01-12                       bos  PvdA   \n1      2010-01-12                       bos  PvdA   \n445203 2019-02-12      minister grapperhaus   NaN   \n105887 2012-03-07                 schippers   VVD   \n117142 2012-05-15                   aptroot   VVD   \n300100 2015-12-16    minister van der steur   NaN   \n456505 2019-04-17  staatssecretaris keijzer   NaN   \n99128  2012-01-31                 opstelten   CDA   \n302296 2016-01-20    minister van der steur   NaN   \n184499 2013-10-30                 schippers   VVD   \n\n                                                     text  similarity  \n11      Mevrouw de voorzitter. Mevrouw Verdonk is een ...    1.000000  \n1       Voorzitter. De laatste conclusie van de heer W...    0.764701  \n445203  Het is misschien goed om daar toch nog het vol...    0.702756  \n105887  Nee, ik heb de Kamer een onderzoek voorgesteld...    0.701216  \n117142  Ja, ik rond af. Ik heb een laatste punt over d...    0.698580  \n300100  Ik stel vast dat de commissie-Oosting dat ook ...    0.695527  \n456505  Ik zal mijn uiterste best voor u doen. In de m...    0.684091  \n99128   Op verzoek van de Kamer en in goed overleg met...    0.680848  \n302296  Ik vind dat de Kamer geïnformeerd moet worden....    0.679452  \n184499  Over de discussie, de debatten en de agenderin...    0.678469  ",
      "text/html": "<div>\n<style scoped>\n    .dataframe tbody tr th:only-of-type {\n        vertical-align: middle;\n    }\n\n    .dataframe tbody tr th {\n        vertical-align: top;\n    }\n\n    .dataframe thead th {\n        text-align: right;\n    }\n</style>\n<table border=\"1\" class=\"dataframe\">\n  <thead>\n    <tr style=\"text-align: right;\">\n      <th></th>\n      <th>datum</th>\n      <th>speaker</th>\n      <th>party</th>\n      <th>text</th>\n      <th>similarity</th>\n    </tr>\n  </thead>\n  <tbody>\n    <tr>\n      <th>11</th>\n      <td>2010-01-12</td>\n      <td>bos</td>\n      <td>PvdA</td>\n      <td>Mevrouw de voorzitter. Mevrouw Verdonk is een ...</td>\n      <td>1.000000</td>\n    </tr>\n    <tr>\n      <th>1</th>\n      <td>2010-01-12</td>\n      <td>bos</td>\n      <td>PvdA</td>\n      <td>Voorzitter. De laatste conclusie van de heer W...</td>\n      <td>0.764701</td>\n    </tr>\n    <tr>\n      <th>445203</th>\n      <td>2019-02-12</td>\n      <td>minister grapperhaus</td>\n      <td>NaN</td>\n      <td>Het is misschien goed om daar toch nog het vol...</td>\n      <td>0.702756</td>\n    </tr>\n    <tr>\n      <th>105887</th>\n      <td>2012-03-07</td>\n      <td>schippers</td>\n      <td>VVD</td>\n      <td>Nee, ik heb de Kamer een onderzoek voorgesteld...</td>\n      <td>0.701216</td>\n    </tr>\n    <tr>\n      <th>117142</th>\n      <td>2012-05-15</td>\n      <td>aptroot</td>\n      <td>VVD</td>\n      <td>Ja, ik rond af. Ik heb een laatste punt over d...</td>\n      <td>0.698580</td>\n    </tr>\n    <tr>\n      <th>300100</th>\n      <td>2015-12-16</td>\n      <td>minister van der steur</td>\n      <td>NaN</td>\n      <td>Ik stel vast dat de commissie-Oosting dat ook ...</td>\n      <td>0.695527</td>\n    </tr>\n    <tr>\n      <th>456505</th>\n      <td>2019-04-17</td>\n      <td>staatssecretaris keijzer</td>\n      <td>NaN</td>\n      <td>Ik zal mijn uiterste best voor u doen. In de m...</td>\n      <td>0.684091</td>\n    </tr>\n    <tr>\n      <th>99128</th>\n      <td>2012-01-31</td>\n      <td>opstelten</td>\n      <td>CDA</td>\n      <td>Op verzoek van de Kamer en in goed overleg met...</td>\n      <td>0.680848</td>\n    </tr>\n    <tr>\n      <th>302296</th>\n      <td>2016-01-20</td>\n      <td>minister van der steur</td>\n      <td>NaN</td>\n      <td>Ik vind dat de Kamer geïnformeerd moet worden....</td>\n      <td>0.679452</td>\n    </tr>\n    <tr>\n      <th>184499</th>\n      <td>2013-10-30</td>\n      <td>schippers</td>\n      <td>VVD</td>\n      <td>Over de discussie, de debatten en de agenderin...</td>\n      <td>0.678469</td>\n    </tr>\n  </tbody>\n</table>\n</div>"
     },
     "metadata": {},
     "execution_count": 5
    }
   ],
   "source": [
    "%%time \n",
    "find_speeches(11, embeddings)"
   ]
  },
  {
   "cell_type": "markdown",
   "metadata": {},
   "source": [
    "## Now lets try annoy"
   ]
  },
  {
   "cell_type": "code",
   "execution_count": 6,
   "metadata": {},
   "outputs": [],
   "source": [
    "f = 512\n",
    "t = AnnoyIndex(f, 'angular')  # Length of item vector that will be indexed"
   ]
  },
  {
   "cell_type": "code",
   "execution_count": 7,
   "metadata": {},
   "outputs": [
    {
     "output_type": "execute_result",
     "data": {
      "text/plain": "(512,)"
     },
     "metadata": {},
     "execution_count": 7
    }
   ],
   "source": [
    "embeddings.iloc[1:2,12:524].values.flatten().shape"
   ]
  },
  {
   "cell_type": "code",
   "execution_count": 8,
   "metadata": {},
   "outputs": [
    {
     "output_type": "execute_result",
     "data": {
      "text/plain": "468197"
     },
     "metadata": {},
     "execution_count": 8
    }
   ],
   "source": [
    "N = embeddings.shape[0]\n",
    "N"
   ]
  },
  {
   "cell_type": "code",
   "execution_count": 9,
   "metadata": {
    "tags": []
   },
   "outputs": [
    {
     "output_type": "stream",
     "name": "stdout",
     "text": "CPU times: user 3min 10s, sys: 1.36 s, total: 3min 11s\nWall time: 3min 12s\n"
    }
   ],
   "source": [
    "%%time \n",
    "for i in range(N):\n",
    "    v = embeddings.iloc[i:(i+1),12:524].values.flatten()\n",
    "    t.add_item(i, v)"
   ]
  },
  {
   "cell_type": "code",
   "execution_count": 10,
   "metadata": {
    "tags": []
   },
   "outputs": [
    {
     "output_type": "stream",
     "name": "stdout",
     "text": "CPU times: user 3min 6s, sys: 5.02 s, total: 3min 11s\nWall time: 3min 12s\n"
    },
    {
     "output_type": "execute_result",
     "data": {
      "text/plain": "True"
     },
     "metadata": {},
     "execution_count": 10
    }
   ],
   "source": [
    "%%time\n",
    "t.build(200)\n",
    "t.save('test.ann')\n"
   ]
  },
  {
   "cell_type": "code",
   "execution_count": 11,
   "metadata": {
    "tags": []
   },
   "outputs": [
    {
     "output_type": "stream",
     "name": "stdout",
     "text": "CPU times: user 81 µs, sys: 128 µs, total: 209 µs\nWall time: 372 µs\n"
    },
    {
     "output_type": "execute_result",
     "data": {
      "text/plain": "True"
     },
     "metadata": {},
     "execution_count": 11
    }
   ],
   "source": [
    "%%time \n",
    "f = 512\n",
    "u = AnnoyIndex(f, 'angular')\n",
    "u.load('test.ann') # super fast, will just mmap the file\n"
   ]
  },
  {
   "cell_type": "code",
   "execution_count": 17,
   "metadata": {
    "tags": []
   },
   "outputs": [
    {
     "output_type": "stream",
     "name": "stdout",
     "text": "CPU times: user 5.21 ms, sys: 2.22 ms, total: 7.43 ms\nWall time: 6.1 ms\n"
    },
    {
     "output_type": "execute_result",
     "data": {
      "text/plain": "            datum                    speaker party  \\\n15     2010-01-12         bijleveld-schouten   CDA   \n374701 2017-11-02             minister rutte   NaN   \n319610 2016-05-19     de heer otwin van dijk  PvdA   \n181536 2013-10-09                    leijten    SP   \n282267 2015-09-23                      rutte   VVD   \n104973 2012-03-06                van der ham   D66   \n104975 2012-03-06                van der ham   D66   \n462834 2019-06-12             de heer hijink    SP   \n43775  2011-02-08                     teeven   VVD   \n336375 2016-10-06           de heer de lange   VVD   \n165    2010-01-12                    dijksma  PvdA   \n262970 2015-04-14                  schippers   VVD   \n48307  2011-03-10                  schippers   VVD   \n290752 2015-11-05                  schippers   VVD   \n262543 2015-04-09                   de lange   VVD   \n125919 2012-07-03                     klaver    GL   \n330983 2016-09-07           minister asscher   NaN   \n276003 2015-07-01                    leijten    SP   \n311574 2016-03-17  staatssecretaris van rijn   NaN   \n460928 2019-06-04          minister de jonge   NaN   \n\n                                                     text  \n15      Dit is bijna een herhaling van het debat dat g...  \n374701  Wat wij hier willen doen, is het volgende. Ik ...  \n319610  De PvdA heeft altijd gezegd dat als de wet moe...  \n181536  Samen bekijken hoe we van twee voorstellen een...  \n282267  Voorzitter. Ik zal herhalen wat ik al in eerst...  \n104973  Dat klopt. Ik ga zo meteen nog even in op de m...  \n104975  Ik vind dat nogal naïef van de heer Dijkgraaf,...  \n462834  Ja, want ik ga hier drie kwartier staan. Voorz...  \n43775   De regering is bereid om de Kamer tegemoet te ...  \n336375  Voorzitter. Ik dank de minister en de onderste...  \n165     Ik denk dat dit voor de zomer kan. Wij werken ...  \n262970  Ik ben mij van geen een-tweetje bewust. Ik wor...  \n48307   In de zorg is het cruciaal dat iedereen samenw...  \n290752  Het is heel moeilijk om dit soort wetten in el...  \n262543  Met amendementen wil je vooral iets bereiken. ...  \n125919  We hebben het eerder gehad over de anticumulat...  \n330983  Die is er volgens mij in gelegen dat het over ...  \n276003  Ik heb dat ook gezien, maar ook over dat advie...  \n311574  Voorzitter. Voordat ik op de moties inga, bean...  \n460928  Kinderen die niet weten hoe het zit, kunnen ge...  ",
      "text/html": "<div>\n<style scoped>\n    .dataframe tbody tr th:only-of-type {\n        vertical-align: middle;\n    }\n\n    .dataframe tbody tr th {\n        vertical-align: top;\n    }\n\n    .dataframe thead th {\n        text-align: right;\n    }\n</style>\n<table border=\"1\" class=\"dataframe\">\n  <thead>\n    <tr style=\"text-align: right;\">\n      <th></th>\n      <th>datum</th>\n      <th>speaker</th>\n      <th>party</th>\n      <th>text</th>\n    </tr>\n  </thead>\n  <tbody>\n    <tr>\n      <th>15</th>\n      <td>2010-01-12</td>\n      <td>bijleveld-schouten</td>\n      <td>CDA</td>\n      <td>Dit is bijna een herhaling van het debat dat g...</td>\n    </tr>\n    <tr>\n      <th>374701</th>\n      <td>2017-11-02</td>\n      <td>minister rutte</td>\n      <td>NaN</td>\n      <td>Wat wij hier willen doen, is het volgende. Ik ...</td>\n    </tr>\n    <tr>\n      <th>319610</th>\n      <td>2016-05-19</td>\n      <td>de heer otwin van dijk</td>\n      <td>PvdA</td>\n      <td>De PvdA heeft altijd gezegd dat als de wet moe...</td>\n    </tr>\n    <tr>\n      <th>181536</th>\n      <td>2013-10-09</td>\n      <td>leijten</td>\n      <td>SP</td>\n      <td>Samen bekijken hoe we van twee voorstellen een...</td>\n    </tr>\n    <tr>\n      <th>282267</th>\n      <td>2015-09-23</td>\n      <td>rutte</td>\n      <td>VVD</td>\n      <td>Voorzitter. Ik zal herhalen wat ik al in eerst...</td>\n    </tr>\n    <tr>\n      <th>104973</th>\n      <td>2012-03-06</td>\n      <td>van der ham</td>\n      <td>D66</td>\n      <td>Dat klopt. Ik ga zo meteen nog even in op de m...</td>\n    </tr>\n    <tr>\n      <th>104975</th>\n      <td>2012-03-06</td>\n      <td>van der ham</td>\n      <td>D66</td>\n      <td>Ik vind dat nogal naïef van de heer Dijkgraaf,...</td>\n    </tr>\n    <tr>\n      <th>462834</th>\n      <td>2019-06-12</td>\n      <td>de heer hijink</td>\n      <td>SP</td>\n      <td>Ja, want ik ga hier drie kwartier staan. Voorz...</td>\n    </tr>\n    <tr>\n      <th>43775</th>\n      <td>2011-02-08</td>\n      <td>teeven</td>\n      <td>VVD</td>\n      <td>De regering is bereid om de Kamer tegemoet te ...</td>\n    </tr>\n    <tr>\n      <th>336375</th>\n      <td>2016-10-06</td>\n      <td>de heer de lange</td>\n      <td>VVD</td>\n      <td>Voorzitter. Ik dank de minister en de onderste...</td>\n    </tr>\n    <tr>\n      <th>165</th>\n      <td>2010-01-12</td>\n      <td>dijksma</td>\n      <td>PvdA</td>\n      <td>Ik denk dat dit voor de zomer kan. Wij werken ...</td>\n    </tr>\n    <tr>\n      <th>262970</th>\n      <td>2015-04-14</td>\n      <td>schippers</td>\n      <td>VVD</td>\n      <td>Ik ben mij van geen een-tweetje bewust. Ik wor...</td>\n    </tr>\n    <tr>\n      <th>48307</th>\n      <td>2011-03-10</td>\n      <td>schippers</td>\n      <td>VVD</td>\n      <td>In de zorg is het cruciaal dat iedereen samenw...</td>\n    </tr>\n    <tr>\n      <th>290752</th>\n      <td>2015-11-05</td>\n      <td>schippers</td>\n      <td>VVD</td>\n      <td>Het is heel moeilijk om dit soort wetten in el...</td>\n    </tr>\n    <tr>\n      <th>262543</th>\n      <td>2015-04-09</td>\n      <td>de lange</td>\n      <td>VVD</td>\n      <td>Met amendementen wil je vooral iets bereiken. ...</td>\n    </tr>\n    <tr>\n      <th>125919</th>\n      <td>2012-07-03</td>\n      <td>klaver</td>\n      <td>GL</td>\n      <td>We hebben het eerder gehad over de anticumulat...</td>\n    </tr>\n    <tr>\n      <th>330983</th>\n      <td>2016-09-07</td>\n      <td>minister asscher</td>\n      <td>NaN</td>\n      <td>Die is er volgens mij in gelegen dat het over ...</td>\n    </tr>\n    <tr>\n      <th>276003</th>\n      <td>2015-07-01</td>\n      <td>leijten</td>\n      <td>SP</td>\n      <td>Ik heb dat ook gezien, maar ook over dat advie...</td>\n    </tr>\n    <tr>\n      <th>311574</th>\n      <td>2016-03-17</td>\n      <td>staatssecretaris van rijn</td>\n      <td>NaN</td>\n      <td>Voorzitter. Voordat ik op de moties inga, bean...</td>\n    </tr>\n    <tr>\n      <th>460928</th>\n      <td>2019-06-04</td>\n      <td>minister de jonge</td>\n      <td>NaN</td>\n      <td>Kinderen die niet weten hoe het zit, kunnen ge...</td>\n    </tr>\n  </tbody>\n</table>\n</div>"
     },
     "metadata": {},
     "execution_count": 17
    }
   ],
   "source": [
    "%%time \n",
    "\n",
    "best_K = u.get_nns_by_item(15, 20)\n",
    "out = embeddings.iloc[best_K,:]\n",
    "out[[\"datum\", \"speaker\", \"party\", \"text\"]]\n",
    "    "
   ]
  },
  {
   "cell_type": "code",
   "execution_count": 13,
   "metadata": {},
   "outputs": [
    {
     "output_type": "execute_result",
     "data": {
      "text/plain": "[11, 1, 105887, 300100, 456505, 99128, 448200, 247433, 7720, 6276]"
     },
     "metadata": {},
     "execution_count": 13
    }
   ],
   "source": [
    "best_K"
   ]
  },
  {
   "cell_type": "code",
   "execution_count": 16,
   "metadata": {
    "tags": []
   },
   "outputs": [
    {
     "output_type": "stream",
     "name": "stdout",
     "text": "CPU times: user 1.59 s, sys: 622 ms, total: 2.21 s\nWall time: 1.82 s\n"
    },
    {
     "output_type": "execute_result",
     "data": {
      "text/plain": "            datum                 speaker party  \\\n15     2010-01-12      bijleveld-schouten   CDA   \n13     2010-01-12      bijleveld-schouten   CDA   \n456094 2019-04-16          de heer hijink    SP   \n14     2010-01-12                    arib  PvdA   \n214507 2014-04-23                van rijn  PvdA   \n462716 2019-06-12  de heer van der staaij   SGP   \n354158 2017-02-02        de heer de lange   VVD   \n156721 2013-03-20                bergkamp   D66   \n15192  2010-04-20                   klink   CDA   \n8139   2010-03-04      bijleveld-schouten   CDA   \n\n                                                     text  similarity  \n15      Dit is bijna een herhaling van het debat dat g...    1.000000  \n13      Voorzitter. Inderdaad is het zo dat de wijzigi...    0.721209  \n456094  Dank u wel, voorzitter. Ik sluit me wel aan bi...    0.697340  \n14      Ik begrijp de staatssecretaris niet. Zij geeft...    0.667847  \n214507  Mevrouw Baay heeft nog haar zorgen over de bez...    0.667418  \n462716  Meneer de voorzitter. Toen ik zes jaar geleden...    0.666305  \n354158  Voorzitter. Ik wil graag de minister, beide an...    0.662548  \n156721  Voorzitter. Ik vervang vandaag mijn collega Pi...    0.662402  \n15192   Voorzitter. Voorafgaande aan de moties heb ik ...    0.652007  \n8139    Ik ben het met u eens dat wat er in het rappor...    0.649772  ",
      "text/html": "<div>\n<style scoped>\n    .dataframe tbody tr th:only-of-type {\n        vertical-align: middle;\n    }\n\n    .dataframe tbody tr th {\n        vertical-align: top;\n    }\n\n    .dataframe thead th {\n        text-align: right;\n    }\n</style>\n<table border=\"1\" class=\"dataframe\">\n  <thead>\n    <tr style=\"text-align: right;\">\n      <th></th>\n      <th>datum</th>\n      <th>speaker</th>\n      <th>party</th>\n      <th>text</th>\n      <th>similarity</th>\n    </tr>\n  </thead>\n  <tbody>\n    <tr>\n      <th>15</th>\n      <td>2010-01-12</td>\n      <td>bijleveld-schouten</td>\n      <td>CDA</td>\n      <td>Dit is bijna een herhaling van het debat dat g...</td>\n      <td>1.000000</td>\n    </tr>\n    <tr>\n      <th>13</th>\n      <td>2010-01-12</td>\n      <td>bijleveld-schouten</td>\n      <td>CDA</td>\n      <td>Voorzitter. Inderdaad is het zo dat de wijzigi...</td>\n      <td>0.721209</td>\n    </tr>\n    <tr>\n      <th>456094</th>\n      <td>2019-04-16</td>\n      <td>de heer hijink</td>\n      <td>SP</td>\n      <td>Dank u wel, voorzitter. Ik sluit me wel aan bi...</td>\n      <td>0.697340</td>\n    </tr>\n    <tr>\n      <th>14</th>\n      <td>2010-01-12</td>\n      <td>arib</td>\n      <td>PvdA</td>\n      <td>Ik begrijp de staatssecretaris niet. Zij geeft...</td>\n      <td>0.667847</td>\n    </tr>\n    <tr>\n      <th>214507</th>\n      <td>2014-04-23</td>\n      <td>van rijn</td>\n      <td>PvdA</td>\n      <td>Mevrouw Baay heeft nog haar zorgen over de bez...</td>\n      <td>0.667418</td>\n    </tr>\n    <tr>\n      <th>462716</th>\n      <td>2019-06-12</td>\n      <td>de heer van der staaij</td>\n      <td>SGP</td>\n      <td>Meneer de voorzitter. Toen ik zes jaar geleden...</td>\n      <td>0.666305</td>\n    </tr>\n    <tr>\n      <th>354158</th>\n      <td>2017-02-02</td>\n      <td>de heer de lange</td>\n      <td>VVD</td>\n      <td>Voorzitter. Ik wil graag de minister, beide an...</td>\n      <td>0.662548</td>\n    </tr>\n    <tr>\n      <th>156721</th>\n      <td>2013-03-20</td>\n      <td>bergkamp</td>\n      <td>D66</td>\n      <td>Voorzitter. Ik vervang vandaag mijn collega Pi...</td>\n      <td>0.662402</td>\n    </tr>\n    <tr>\n      <th>15192</th>\n      <td>2010-04-20</td>\n      <td>klink</td>\n      <td>CDA</td>\n      <td>Voorzitter. Voorafgaande aan de moties heb ik ...</td>\n      <td>0.652007</td>\n    </tr>\n    <tr>\n      <th>8139</th>\n      <td>2010-03-04</td>\n      <td>bijleveld-schouten</td>\n      <td>CDA</td>\n      <td>Ik ben het met u eens dat wat er in het rappor...</td>\n      <td>0.649772</td>\n    </tr>\n  </tbody>\n</table>\n</div>"
     },
     "metadata": {},
     "execution_count": 16
    }
   ],
   "source": [
    "%%time \n",
    "find_speeches(15, embeddings)"
   ]
  },
  {
   "cell_type": "code",
   "execution_count": null,
   "metadata": {},
   "outputs": [],
   "source": []
  }
 ]
}