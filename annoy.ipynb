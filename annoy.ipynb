{
 "metadata": {
  "language_info": {
   "codemirror_mode": {
    "name": "ipython",
    "version": 3
   },
   "file_extension": ".py",
   "mimetype": "text/x-python",
   "name": "python",
   "nbconvert_exporter": "python",
   "pygments_lexer": "ipython3",
   "version": 3
  },
  "orig_nbformat": 2,
  "kernelspec": {
   "name": "python_defaultSpec_1597164835964",
   "display_name": "Python 3.7.3 64-bit ('base': conda)"
  }
 },
 "nbformat": 4,
 "nbformat_minor": 2,
 "cells": [
  {
   "cell_type": "markdown",
   "metadata": {},
   "source": [
    "## TEST ANNOY with parlement speech embeddings\n",
    "see [here](https://github.com/spotify/annoy)"
   ]
  },
  {
   "cell_type": "code",
   "execution_count": 1,
   "metadata": {},
   "outputs": [],
   "source": [
    "from annoy import AnnoyIndex\n",
    "import random\n",
    "import pickle\n",
    "from sklearn.metrics.pairwise import cosine_similarity"
   ]
  },
  {
   "cell_type": "code",
   "execution_count": 2,
   "metadata": {},
   "outputs": [],
   "source": [
    "embeddings = pickle.load(open(\"kamer_debatten_recente_speeches_met_emb.pck\", \"rb\"))"
   ]
  },
  {
   "cell_type": "code",
   "execution_count": 3,
   "metadata": {},
   "outputs": [
    {
     "output_type": "execute_result",
     "data": {
      "text/plain": "              date  agenda  speechnumber                         speaker  \\\n0       2010-01-12     NaN             1                         weekers   \n1       2010-01-12     NaN             2                             bos   \n2       2010-01-12     NaN             3                         weekers   \n3       2010-01-12     NaN             4                             bos   \n4       2010-01-12     NaN             5                  tony van dijck   \n...            ...     ...           ...                             ...   \n468192  2019-07-04     NaN           963  staatssecretaris broekers-knol   \n468193  2019-07-04     NaN           965  staatssecretaris broekers-knol   \n468194  2019-07-04     NaN           967                   de voorzitter   \n468195  2019-07-04     NaN           968          mevrouw van toorenburg   \n468196  2019-07-04     NaN           969                   de voorzitter   \n\n       party  party.facts.id  chair  terms  \\\n0        VVD           828.0  False    376   \n1       PvdA          1234.0  False    260   \n2        VVD           828.0  False    204   \n3       PvdA          1234.0  False    226   \n4        PVV           298.0  False    107   \n...      ...             ...    ...    ...   \n468192   NaN             NaN  False    290   \n468193   NaN             NaN  False    142   \n468194   NaN             NaN   True     62   \n468195   CDA          1157.0  False     21   \n468196   NaN             NaN   True     75   \n\n                                                     text      parliament  \\\n0       Voorzitter. In de week van de val van DSB heef...  NL-TweedeKamer   \n1       Voorzitter. De laatste conclusie van de heer W...  NL-TweedeKamer   \n2       Het gaat ons er niet om dat de minister zich b...  NL-TweedeKamer   \n3       Ik zal die zorgen overbrengen aan de heer Sche...  NL-TweedeKamer   \n4       Ook de fractie van de Partij voor de Vrijheid ...  NL-TweedeKamer   \n...                                                   ...             ...   \n468192  Ik ga uit van de gegevens die wij hebben gekre...  NL-TweedeKamer   \n468193  Dan de motie op stuk nr. 2519 van de heer Hidd...  NL-TweedeKamer   \n468194  Over exact 60 minuten gaan wij stemmen over de...  NL-TweedeKamer   \n468195  Toch nog even — misschien is het allemaal afge...  NL-TweedeKamer   \n468196  Ja, wat mij betreft zou ik 60 seconden willen ...  NL-TweedeKamer   \n\n        ...       502       503       504       505       506       507  \\\n0       ...  0.053838 -0.041742 -0.032260 -0.067037 -0.022552 -0.023394   \n1       ...  0.053762 -0.070165 -0.014723 -0.067824 -0.056783 -0.006215   \n2       ...  0.069975 -0.066717 -0.014065 -0.068072 -0.066792  0.006887   \n3       ...  0.082787 -0.077583  0.064040 -0.065484 -0.048932 -0.053128   \n4       ... -0.019395 -0.025600 -0.051116 -0.067381 -0.071851 -0.021703   \n...     ...       ...       ...       ...       ...       ...       ...   \n468192  ...  0.051056 -0.042262 -0.051334 -0.051260 -0.016387 -0.056653   \n468193  ...  0.059314 -0.056630 -0.031098 -0.041214 -0.001191  0.002085   \n468194  ...  0.008260 -0.023593  0.078514 -0.011184 -0.030405 -0.023197   \n468195  ... -0.073596  0.022221 -0.085983 -0.041239  0.000995 -0.014434   \n468196  ...  0.071359 -0.035882  0.060225 -0.043524 -0.069432  0.006534   \n\n             508       509       510       511  \n0      -0.065473 -0.069716  0.012569  0.062962  \n1      -0.072602 -0.071131 -0.018375  0.080761  \n2      -0.068825 -0.071827  0.018592  0.074508  \n3      -0.070319 -0.073950  0.039685  0.095769  \n4      -0.082825 -0.032184 -0.049826  0.088014  \n...          ...       ...       ...       ...  \n468192 -0.002518 -0.075303 -0.005929  0.087212  \n468193  0.038942 -0.011882  0.044419  0.059911  \n468194  0.012507 -0.052127  0.023723  0.062293  \n468195 -0.021121 -0.051808  0.041230  0.124054  \n468196 -0.043787 -0.033551  0.088078  0.090445  \n\n[468197 rows x 524 columns]",
      "text/html": "<div>\n<style scoped>\n    .dataframe tbody tr th:only-of-type {\n        vertical-align: middle;\n    }\n\n    .dataframe tbody tr th {\n        vertical-align: top;\n    }\n\n    .dataframe thead th {\n        text-align: right;\n    }\n</style>\n<table border=\"1\" class=\"dataframe\">\n  <thead>\n    <tr style=\"text-align: right;\">\n      <th></th>\n      <th>date</th>\n      <th>agenda</th>\n      <th>speechnumber</th>\n      <th>speaker</th>\n      <th>party</th>\n      <th>party.facts.id</th>\n      <th>chair</th>\n      <th>terms</th>\n      <th>text</th>\n      <th>parliament</th>\n      <th>...</th>\n      <th>502</th>\n      <th>503</th>\n      <th>504</th>\n      <th>505</th>\n      <th>506</th>\n      <th>507</th>\n      <th>508</th>\n      <th>509</th>\n      <th>510</th>\n      <th>511</th>\n    </tr>\n  </thead>\n  <tbody>\n    <tr>\n      <th>0</th>\n      <td>2010-01-12</td>\n      <td>NaN</td>\n      <td>1</td>\n      <td>weekers</td>\n      <td>VVD</td>\n      <td>828.0</td>\n      <td>False</td>\n      <td>376</td>\n      <td>Voorzitter. In de week van de val van DSB heef...</td>\n      <td>NL-TweedeKamer</td>\n      <td>...</td>\n      <td>0.053838</td>\n      <td>-0.041742</td>\n      <td>-0.032260</td>\n      <td>-0.067037</td>\n      <td>-0.022552</td>\n      <td>-0.023394</td>\n      <td>-0.065473</td>\n      <td>-0.069716</td>\n      <td>0.012569</td>\n      <td>0.062962</td>\n    </tr>\n    <tr>\n      <th>1</th>\n      <td>2010-01-12</td>\n      <td>NaN</td>\n      <td>2</td>\n      <td>bos</td>\n      <td>PvdA</td>\n      <td>1234.0</td>\n      <td>False</td>\n      <td>260</td>\n      <td>Voorzitter. De laatste conclusie van de heer W...</td>\n      <td>NL-TweedeKamer</td>\n      <td>...</td>\n      <td>0.053762</td>\n      <td>-0.070165</td>\n      <td>-0.014723</td>\n      <td>-0.067824</td>\n      <td>-0.056783</td>\n      <td>-0.006215</td>\n      <td>-0.072602</td>\n      <td>-0.071131</td>\n      <td>-0.018375</td>\n      <td>0.080761</td>\n    </tr>\n    <tr>\n      <th>2</th>\n      <td>2010-01-12</td>\n      <td>NaN</td>\n      <td>3</td>\n      <td>weekers</td>\n      <td>VVD</td>\n      <td>828.0</td>\n      <td>False</td>\n      <td>204</td>\n      <td>Het gaat ons er niet om dat de minister zich b...</td>\n      <td>NL-TweedeKamer</td>\n      <td>...</td>\n      <td>0.069975</td>\n      <td>-0.066717</td>\n      <td>-0.014065</td>\n      <td>-0.068072</td>\n      <td>-0.066792</td>\n      <td>0.006887</td>\n      <td>-0.068825</td>\n      <td>-0.071827</td>\n      <td>0.018592</td>\n      <td>0.074508</td>\n    </tr>\n    <tr>\n      <th>3</th>\n      <td>2010-01-12</td>\n      <td>NaN</td>\n      <td>4</td>\n      <td>bos</td>\n      <td>PvdA</td>\n      <td>1234.0</td>\n      <td>False</td>\n      <td>226</td>\n      <td>Ik zal die zorgen overbrengen aan de heer Sche...</td>\n      <td>NL-TweedeKamer</td>\n      <td>...</td>\n      <td>0.082787</td>\n      <td>-0.077583</td>\n      <td>0.064040</td>\n      <td>-0.065484</td>\n      <td>-0.048932</td>\n      <td>-0.053128</td>\n      <td>-0.070319</td>\n      <td>-0.073950</td>\n      <td>0.039685</td>\n      <td>0.095769</td>\n    </tr>\n    <tr>\n      <th>4</th>\n      <td>2010-01-12</td>\n      <td>NaN</td>\n      <td>5</td>\n      <td>tony van dijck</td>\n      <td>PVV</td>\n      <td>298.0</td>\n      <td>False</td>\n      <td>107</td>\n      <td>Ook de fractie van de Partij voor de Vrijheid ...</td>\n      <td>NL-TweedeKamer</td>\n      <td>...</td>\n      <td>-0.019395</td>\n      <td>-0.025600</td>\n      <td>-0.051116</td>\n      <td>-0.067381</td>\n      <td>-0.071851</td>\n      <td>-0.021703</td>\n      <td>-0.082825</td>\n      <td>-0.032184</td>\n      <td>-0.049826</td>\n      <td>0.088014</td>\n    </tr>\n    <tr>\n      <th>...</th>\n      <td>...</td>\n      <td>...</td>\n      <td>...</td>\n      <td>...</td>\n      <td>...</td>\n      <td>...</td>\n      <td>...</td>\n      <td>...</td>\n      <td>...</td>\n      <td>...</td>\n      <td>...</td>\n      <td>...</td>\n      <td>...</td>\n      <td>...</td>\n      <td>...</td>\n      <td>...</td>\n      <td>...</td>\n      <td>...</td>\n      <td>...</td>\n      <td>...</td>\n      <td>...</td>\n    </tr>\n    <tr>\n      <th>468192</th>\n      <td>2019-07-04</td>\n      <td>NaN</td>\n      <td>963</td>\n      <td>staatssecretaris broekers-knol</td>\n      <td>NaN</td>\n      <td>NaN</td>\n      <td>False</td>\n      <td>290</td>\n      <td>Ik ga uit van de gegevens die wij hebben gekre...</td>\n      <td>NL-TweedeKamer</td>\n      <td>...</td>\n      <td>0.051056</td>\n      <td>-0.042262</td>\n      <td>-0.051334</td>\n      <td>-0.051260</td>\n      <td>-0.016387</td>\n      <td>-0.056653</td>\n      <td>-0.002518</td>\n      <td>-0.075303</td>\n      <td>-0.005929</td>\n      <td>0.087212</td>\n    </tr>\n    <tr>\n      <th>468193</th>\n      <td>2019-07-04</td>\n      <td>NaN</td>\n      <td>965</td>\n      <td>staatssecretaris broekers-knol</td>\n      <td>NaN</td>\n      <td>NaN</td>\n      <td>False</td>\n      <td>142</td>\n      <td>Dan de motie op stuk nr. 2519 van de heer Hidd...</td>\n      <td>NL-TweedeKamer</td>\n      <td>...</td>\n      <td>0.059314</td>\n      <td>-0.056630</td>\n      <td>-0.031098</td>\n      <td>-0.041214</td>\n      <td>-0.001191</td>\n      <td>0.002085</td>\n      <td>0.038942</td>\n      <td>-0.011882</td>\n      <td>0.044419</td>\n      <td>0.059911</td>\n    </tr>\n    <tr>\n      <th>468194</th>\n      <td>2019-07-04</td>\n      <td>NaN</td>\n      <td>967</td>\n      <td>de voorzitter</td>\n      <td>NaN</td>\n      <td>NaN</td>\n      <td>True</td>\n      <td>62</td>\n      <td>Over exact 60 minuten gaan wij stemmen over de...</td>\n      <td>NL-TweedeKamer</td>\n      <td>...</td>\n      <td>0.008260</td>\n      <td>-0.023593</td>\n      <td>0.078514</td>\n      <td>-0.011184</td>\n      <td>-0.030405</td>\n      <td>-0.023197</td>\n      <td>0.012507</td>\n      <td>-0.052127</td>\n      <td>0.023723</td>\n      <td>0.062293</td>\n    </tr>\n    <tr>\n      <th>468195</th>\n      <td>2019-07-04</td>\n      <td>NaN</td>\n      <td>968</td>\n      <td>mevrouw van toorenburg</td>\n      <td>CDA</td>\n      <td>1157.0</td>\n      <td>False</td>\n      <td>21</td>\n      <td>Toch nog even — misschien is het allemaal afge...</td>\n      <td>NL-TweedeKamer</td>\n      <td>...</td>\n      <td>-0.073596</td>\n      <td>0.022221</td>\n      <td>-0.085983</td>\n      <td>-0.041239</td>\n      <td>0.000995</td>\n      <td>-0.014434</td>\n      <td>-0.021121</td>\n      <td>-0.051808</td>\n      <td>0.041230</td>\n      <td>0.124054</td>\n    </tr>\n    <tr>\n      <th>468196</th>\n      <td>2019-07-04</td>\n      <td>NaN</td>\n      <td>969</td>\n      <td>de voorzitter</td>\n      <td>NaN</td>\n      <td>NaN</td>\n      <td>True</td>\n      <td>75</td>\n      <td>Ja, wat mij betreft zou ik 60 seconden willen ...</td>\n      <td>NL-TweedeKamer</td>\n      <td>...</td>\n      <td>0.071359</td>\n      <td>-0.035882</td>\n      <td>0.060225</td>\n      <td>-0.043524</td>\n      <td>-0.069432</td>\n      <td>0.006534</td>\n      <td>-0.043787</td>\n      <td>-0.033551</td>\n      <td>0.088078</td>\n      <td>0.090445</td>\n    </tr>\n  </tbody>\n</table>\n<p>468197 rows × 524 columns</p>\n</div>"
     },
     "metadata": {},
     "execution_count": 3
    }
   ],
   "source": [
    "embeddings"
   ]
  },
  {
   "cell_type": "markdown",
   "metadata": {},
   "source": [
    "## afstanden tussen rijen met scikit learn"
   ]
  },
  {
   "cell_type": "code",
   "execution_count": 4,
   "metadata": {},
   "outputs": [],
   "source": [
    "def find_speeches(i:int, historic_speeches, K:int = 10) :\n",
    "    \n",
    "    testquery = historic_speeches.iloc[i:(i+1),12:524]\n",
    "   \n",
    "    #### look for the closest article embeddings, that we just created above\n",
    "    #### the results object is an array with nart cosine similarities\n",
    "    results = cosine_similarity(historic_speeches.iloc[:,12:524], testquery)\n",
    "\n",
    "    indices = results.argsort(axis = 0).ravel()\n",
    "    best_K = indices[-K:]\n",
    "\n",
    "    ### take corresponding articles\n",
    "    out = historic_speeches.iloc[best_K,:]\n",
    "    out = (\n",
    "        out\n",
    "        .assign(similarity = results[best_K].flatten())\n",
    "        .sort_values(by = \"similarity\", ascending = False)\n",
    "    )\n",
    "    return out[[\"datum\", \"speaker\", \"party\", \"text\", \"similarity\"]]\n",
    "    "
   ]
  },
  {
   "cell_type": "code",
   "execution_count": 5,
   "metadata": {
    "tags": []
   },
   "outputs": [
    {
     "output_type": "stream",
     "name": "stdout",
     "text": "CPU times: user 1.7 s, sys: 618 ms, total: 2.32 s\nWall time: 1.89 s\n"
    },
    {
     "output_type": "execute_result",
     "data": {
      "text/plain": "            datum                   speaker party  \\\n11     2010-01-12                       bos  PvdA   \n1      2010-01-12                       bos  PvdA   \n445203 2019-02-12      minister grapperhaus   NaN   \n105887 2012-03-07                 schippers   VVD   \n117142 2012-05-15                   aptroot   VVD   \n300100 2015-12-16    minister van der steur   NaN   \n456505 2019-04-17  staatssecretaris keijzer   NaN   \n99128  2012-01-31                 opstelten   CDA   \n302296 2016-01-20    minister van der steur   NaN   \n184499 2013-10-30                 schippers   VVD   \n\n                                                     text  similarity  \n11      Mevrouw de voorzitter. Mevrouw Verdonk is een ...    1.000000  \n1       Voorzitter. De laatste conclusie van de heer W...    0.764701  \n445203  Het is misschien goed om daar toch nog het vol...    0.702756  \n105887  Nee, ik heb de Kamer een onderzoek voorgesteld...    0.701216  \n117142  Ja, ik rond af. Ik heb een laatste punt over d...    0.698580  \n300100  Ik stel vast dat de commissie-Oosting dat ook ...    0.695527  \n456505  Ik zal mijn uiterste best voor u doen. In de m...    0.684091  \n99128   Op verzoek van de Kamer en in goed overleg met...    0.680848  \n302296  Ik vind dat de Kamer geïnformeerd moet worden....    0.679452  \n184499  Over de discussie, de debatten en de agenderin...    0.678469  ",
      "text/html": "<div>\n<style scoped>\n    .dataframe tbody tr th:only-of-type {\n        vertical-align: middle;\n    }\n\n    .dataframe tbody tr th {\n        vertical-align: top;\n    }\n\n    .dataframe thead th {\n        text-align: right;\n    }\n</style>\n<table border=\"1\" class=\"dataframe\">\n  <thead>\n    <tr style=\"text-align: right;\">\n      <th></th>\n      <th>datum</th>\n      <th>speaker</th>\n      <th>party</th>\n      <th>text</th>\n      <th>similarity</th>\n    </tr>\n  </thead>\n  <tbody>\n    <tr>\n      <th>11</th>\n      <td>2010-01-12</td>\n      <td>bos</td>\n      <td>PvdA</td>\n      <td>Mevrouw de voorzitter. Mevrouw Verdonk is een ...</td>\n      <td>1.000000</td>\n    </tr>\n    <tr>\n      <th>1</th>\n      <td>2010-01-12</td>\n      <td>bos</td>\n      <td>PvdA</td>\n      <td>Voorzitter. De laatste conclusie van de heer W...</td>\n      <td>0.764701</td>\n    </tr>\n    <tr>\n      <th>445203</th>\n      <td>2019-02-12</td>\n      <td>minister grapperhaus</td>\n      <td>NaN</td>\n      <td>Het is misschien goed om daar toch nog het vol...</td>\n      <td>0.702756</td>\n    </tr>\n    <tr>\n      <th>105887</th>\n      <td>2012-03-07</td>\n      <td>schippers</td>\n      <td>VVD</td>\n      <td>Nee, ik heb de Kamer een onderzoek voorgesteld...</td>\n      <td>0.701216</td>\n    </tr>\n    <tr>\n      <th>117142</th>\n      <td>2012-05-15</td>\n      <td>aptroot</td>\n      <td>VVD</td>\n      <td>Ja, ik rond af. Ik heb een laatste punt over d...</td>\n      <td>0.698580</td>\n    </tr>\n    <tr>\n      <th>300100</th>\n      <td>2015-12-16</td>\n      <td>minister van der steur</td>\n      <td>NaN</td>\n      <td>Ik stel vast dat de commissie-Oosting dat ook ...</td>\n      <td>0.695527</td>\n    </tr>\n    <tr>\n      <th>456505</th>\n      <td>2019-04-17</td>\n      <td>staatssecretaris keijzer</td>\n      <td>NaN</td>\n      <td>Ik zal mijn uiterste best voor u doen. In de m...</td>\n      <td>0.684091</td>\n    </tr>\n    <tr>\n      <th>99128</th>\n      <td>2012-01-31</td>\n      <td>opstelten</td>\n      <td>CDA</td>\n      <td>Op verzoek van de Kamer en in goed overleg met...</td>\n      <td>0.680848</td>\n    </tr>\n    <tr>\n      <th>302296</th>\n      <td>2016-01-20</td>\n      <td>minister van der steur</td>\n      <td>NaN</td>\n      <td>Ik vind dat de Kamer geïnformeerd moet worden....</td>\n      <td>0.679452</td>\n    </tr>\n    <tr>\n      <th>184499</th>\n      <td>2013-10-30</td>\n      <td>schippers</td>\n      <td>VVD</td>\n      <td>Over de discussie, de debatten en de agenderin...</td>\n      <td>0.678469</td>\n    </tr>\n  </tbody>\n</table>\n</div>"
     },
     "metadata": {},
     "execution_count": 5
    }
   ],
   "source": [
    "%%time \n",
    "find_speeches(11, embeddings)"
   ]
  },
  {
   "cell_type": "markdown",
   "metadata": {},
   "source": [
    "## Now lets try annoy"
   ]
  },
  {
   "cell_type": "code",
   "execution_count": 6,
   "metadata": {},
   "outputs": [],
   "source": [
    "f = 512\n",
    "t = AnnoyIndex(f, 'angular')  # Length of item vector that will be indexed"
   ]
  },
  {
   "cell_type": "code",
   "execution_count": 7,
   "metadata": {},
   "outputs": [
    {
     "output_type": "execute_result",
     "data": {
      "text/plain": "(512,)"
     },
     "metadata": {},
     "execution_count": 7
    }
   ],
   "source": [
    "embeddings.iloc[1:2,12:524].values.flatten().shape"
   ]
  },
  {
   "cell_type": "code",
   "execution_count": 8,
   "metadata": {},
   "outputs": [
    {
     "output_type": "execute_result",
     "data": {
      "text/plain": "468197"
     },
     "metadata": {},
     "execution_count": 8
    }
   ],
   "source": [
    "N = embeddings.shape[0]\n",
    "N"
   ]
  },
  {
   "cell_type": "code",
   "execution_count": 9,
   "metadata": {
    "tags": []
   },
   "outputs": [
    {
     "output_type": "stream",
     "name": "stdout",
     "text": "CPU times: user 3min 10s, sys: 1.39 s, total: 3min 12s\nWall time: 3min 12s\n"
    }
   ],
   "source": [
    "%%time \n",
    "for i in range(N):\n",
    "    v = embeddings.iloc[i:(i+1),12:524].values.flatten()\n",
    "    t.add_item(i, v)"
   ]
  },
  {
   "cell_type": "code",
   "execution_count": 10,
   "metadata": {
    "tags": []
   },
   "outputs": [
    {
     "output_type": "stream",
     "name": "stdout",
     "text": "CPU times: user 5min 29s, sys: 7.53 s, total: 5min 37s\nWall time: 5min 38s\n"
    },
    {
     "output_type": "execute_result",
     "data": {
      "text/plain": "True"
     },
     "metadata": {},
     "execution_count": 10
    }
   ],
   "source": [
    "%%time\n",
    "t.build(200)\n",
    "t.save('test.ann')\n"
   ]
  },
  {
   "cell_type": "code",
   "execution_count": 11,
   "metadata": {
    "tags": []
   },
   "outputs": [
    {
     "output_type": "stream",
     "name": "stdout",
     "text": "CPU times: user 136 µs, sys: 188 µs, total: 324 µs\nWall time: 465 µs\n"
    },
    {
     "output_type": "execute_result",
     "data": {
      "text/plain": "True"
     },
     "metadata": {},
     "execution_count": 11
    }
   ],
   "source": [
    "%%time \n",
    "f = 512\n",
    "u = AnnoyIndex(f, 'angular')\n",
    "u.load('test.ann') # super fast, will just mmap the file\n"
   ]
  },
  {
   "cell_type": "code",
   "execution_count": 19,
   "metadata": {},
   "outputs": [],
   "source": [
    " pp = u.get_nns_by_item(15, 25, include_distances=True)"
   ]
  },
  {
   "cell_type": "code",
   "execution_count": 23,
   "metadata": {
    "tags": []
   },
   "outputs": [
    {
     "output_type": "stream",
     "name": "stdout",
     "text": "CPU times: user 5.85 ms, sys: 489 µs, total: 6.34 ms\nWall time: 5.53 ms\n"
    },
    {
     "output_type": "execute_result",
     "data": {
      "text/plain": "            datum                 speaker party  \\\n15     2010-01-12      bijleveld-schouten   CDA   \n13     2010-01-12      bijleveld-schouten   CDA   \n456094 2019-04-16          de heer hijink    SP   \n8139   2010-03-04      bijleveld-schouten   CDA   \n374701 2017-11-02          minister rutte   NaN   \n98092  2012-01-25          van toorenburg   CDA   \n319610 2016-05-19  de heer otwin van dijk  PvdA   \n313336 2016-03-30    mevrouw pia dijkstra   D66   \n181536 2013-10-09                 leijten    SP   \n282267 2015-09-23                   rutte   VVD   \n104973 2012-03-06             van der ham   D66   \n104975 2012-03-06             van der ham   D66   \n462834 2019-06-12          de heer hijink    SP   \n175552 2013-09-04                van rijn  PvdA   \n43775  2011-02-08                  teeven   VVD   \n249625 2015-01-15                 leijten    SP   \n336375 2016-10-06        de heer de lange   VVD   \n165    2010-01-12                 dijksma  PvdA   \n131005 2012-10-25               schippers   VVD   \n262970 2015-04-14               schippers   VVD   \n455494 2019-04-11      de heer arno rutte   VVD   \n74067  2011-09-29               schippers   VVD   \n48307  2011-03-10               schippers   VVD   \n290752 2015-11-05               schippers   VVD   \n44322  2011-02-09              van gerven    SP   \n\n                                                     text  similarity  \n15      Dit is bijna een herhaling van het debat dat g...    0.000345  \n13      Voorzitter. Inderdaad is het zo dat de wijzigi...    0.746714  \n456094  Dank u wel, voorzitter. Ik sluit me wel aan bi...    0.778024  \n8139    Ik ben het met u eens dat wat er in het rappor...    0.836932  \n374701  Wat wij hier willen doen, is het volgende. Ik ...    0.843060  \n98092   Voorzitter. Vorige sprekers hebben al uiteenge...    0.843815  \n319610  De PvdA heeft altijd gezegd dat als de wet moe...    0.844131  \n313336  Dat zal niet anders zijn dan het nu is. Elke a...    0.844673  \n181536  Samen bekijken hoe we van twee voorstellen een...    0.846629  \n282267  Voorzitter. Ik zal herhalen wat ik al in eerst...    0.850845  \n104973  Dat klopt. Ik ga zo meteen nog even in op de m...    0.853715  \n104975  Ik vind dat nogal naïef van de heer Dijkgraaf,...    0.855010  \n462834  Ja, want ik ga hier drie kwartier staan. Voorz...    0.858398  \n175552  Volgens mij gaan wij de discussie herhalen. Ik...    0.862172  \n43775   De regering is bereid om de Kamer tegemoet te ...    0.863391  \n249625  Volgens mij doen de huidige wet en ook de nieu...    0.867346  \n336375  Voorzitter. Ik dank de minister en de onderste...    0.867525  \n165     Ik denk dat dit voor de zomer kan. Wij werken ...    0.868613  \n131005  Voorzitter. De afgelopen twee jaar zijn Kamer ...    0.868726  \n262970  Ik ben mij van geen een-tweetje bewust. Ik wor...    0.871992  \n455494  Voordat we er hier een heel uitgebreid juridis...    0.873785  \n74067   Voorzitter. Afgelopen dinsdagavond, tijdens he...    0.874542  \n48307   In de zorg is het cruciaal dat iedereen samenw...    0.874898  \n290752  Het is heel moeilijk om dit soort wetten in el...    0.874922  \n44322   Dit amendement heeft, net als andere amendemen...    0.875757  ",
      "text/html": "<div>\n<style scoped>\n    .dataframe tbody tr th:only-of-type {\n        vertical-align: middle;\n    }\n\n    .dataframe tbody tr th {\n        vertical-align: top;\n    }\n\n    .dataframe thead th {\n        text-align: right;\n    }\n</style>\n<table border=\"1\" class=\"dataframe\">\n  <thead>\n    <tr style=\"text-align: right;\">\n      <th></th>\n      <th>datum</th>\n      <th>speaker</th>\n      <th>party</th>\n      <th>text</th>\n      <th>similarity</th>\n    </tr>\n  </thead>\n  <tbody>\n    <tr>\n      <th>15</th>\n      <td>2010-01-12</td>\n      <td>bijleveld-schouten</td>\n      <td>CDA</td>\n      <td>Dit is bijna een herhaling van het debat dat g...</td>\n      <td>0.000345</td>\n    </tr>\n    <tr>\n      <th>13</th>\n      <td>2010-01-12</td>\n      <td>bijleveld-schouten</td>\n      <td>CDA</td>\n      <td>Voorzitter. Inderdaad is het zo dat de wijzigi...</td>\n      <td>0.746714</td>\n    </tr>\n    <tr>\n      <th>456094</th>\n      <td>2019-04-16</td>\n      <td>de heer hijink</td>\n      <td>SP</td>\n      <td>Dank u wel, voorzitter. Ik sluit me wel aan bi...</td>\n      <td>0.778024</td>\n    </tr>\n    <tr>\n      <th>8139</th>\n      <td>2010-03-04</td>\n      <td>bijleveld-schouten</td>\n      <td>CDA</td>\n      <td>Ik ben het met u eens dat wat er in het rappor...</td>\n      <td>0.836932</td>\n    </tr>\n    <tr>\n      <th>374701</th>\n      <td>2017-11-02</td>\n      <td>minister rutte</td>\n      <td>NaN</td>\n      <td>Wat wij hier willen doen, is het volgende. Ik ...</td>\n      <td>0.843060</td>\n    </tr>\n    <tr>\n      <th>98092</th>\n      <td>2012-01-25</td>\n      <td>van toorenburg</td>\n      <td>CDA</td>\n      <td>Voorzitter. Vorige sprekers hebben al uiteenge...</td>\n      <td>0.843815</td>\n    </tr>\n    <tr>\n      <th>319610</th>\n      <td>2016-05-19</td>\n      <td>de heer otwin van dijk</td>\n      <td>PvdA</td>\n      <td>De PvdA heeft altijd gezegd dat als de wet moe...</td>\n      <td>0.844131</td>\n    </tr>\n    <tr>\n      <th>313336</th>\n      <td>2016-03-30</td>\n      <td>mevrouw pia dijkstra</td>\n      <td>D66</td>\n      <td>Dat zal niet anders zijn dan het nu is. Elke a...</td>\n      <td>0.844673</td>\n    </tr>\n    <tr>\n      <th>181536</th>\n      <td>2013-10-09</td>\n      <td>leijten</td>\n      <td>SP</td>\n      <td>Samen bekijken hoe we van twee voorstellen een...</td>\n      <td>0.846629</td>\n    </tr>\n    <tr>\n      <th>282267</th>\n      <td>2015-09-23</td>\n      <td>rutte</td>\n      <td>VVD</td>\n      <td>Voorzitter. Ik zal herhalen wat ik al in eerst...</td>\n      <td>0.850845</td>\n    </tr>\n    <tr>\n      <th>104973</th>\n      <td>2012-03-06</td>\n      <td>van der ham</td>\n      <td>D66</td>\n      <td>Dat klopt. Ik ga zo meteen nog even in op de m...</td>\n      <td>0.853715</td>\n    </tr>\n    <tr>\n      <th>104975</th>\n      <td>2012-03-06</td>\n      <td>van der ham</td>\n      <td>D66</td>\n      <td>Ik vind dat nogal naïef van de heer Dijkgraaf,...</td>\n      <td>0.855010</td>\n    </tr>\n    <tr>\n      <th>462834</th>\n      <td>2019-06-12</td>\n      <td>de heer hijink</td>\n      <td>SP</td>\n      <td>Ja, want ik ga hier drie kwartier staan. Voorz...</td>\n      <td>0.858398</td>\n    </tr>\n    <tr>\n      <th>175552</th>\n      <td>2013-09-04</td>\n      <td>van rijn</td>\n      <td>PvdA</td>\n      <td>Volgens mij gaan wij de discussie herhalen. Ik...</td>\n      <td>0.862172</td>\n    </tr>\n    <tr>\n      <th>43775</th>\n      <td>2011-02-08</td>\n      <td>teeven</td>\n      <td>VVD</td>\n      <td>De regering is bereid om de Kamer tegemoet te ...</td>\n      <td>0.863391</td>\n    </tr>\n    <tr>\n      <th>249625</th>\n      <td>2015-01-15</td>\n      <td>leijten</td>\n      <td>SP</td>\n      <td>Volgens mij doen de huidige wet en ook de nieu...</td>\n      <td>0.867346</td>\n    </tr>\n    <tr>\n      <th>336375</th>\n      <td>2016-10-06</td>\n      <td>de heer de lange</td>\n      <td>VVD</td>\n      <td>Voorzitter. Ik dank de minister en de onderste...</td>\n      <td>0.867525</td>\n    </tr>\n    <tr>\n      <th>165</th>\n      <td>2010-01-12</td>\n      <td>dijksma</td>\n      <td>PvdA</td>\n      <td>Ik denk dat dit voor de zomer kan. Wij werken ...</td>\n      <td>0.868613</td>\n    </tr>\n    <tr>\n      <th>131005</th>\n      <td>2012-10-25</td>\n      <td>schippers</td>\n      <td>VVD</td>\n      <td>Voorzitter. De afgelopen twee jaar zijn Kamer ...</td>\n      <td>0.868726</td>\n    </tr>\n    <tr>\n      <th>262970</th>\n      <td>2015-04-14</td>\n      <td>schippers</td>\n      <td>VVD</td>\n      <td>Ik ben mij van geen een-tweetje bewust. Ik wor...</td>\n      <td>0.871992</td>\n    </tr>\n    <tr>\n      <th>455494</th>\n      <td>2019-04-11</td>\n      <td>de heer arno rutte</td>\n      <td>VVD</td>\n      <td>Voordat we er hier een heel uitgebreid juridis...</td>\n      <td>0.873785</td>\n    </tr>\n    <tr>\n      <th>74067</th>\n      <td>2011-09-29</td>\n      <td>schippers</td>\n      <td>VVD</td>\n      <td>Voorzitter. Afgelopen dinsdagavond, tijdens he...</td>\n      <td>0.874542</td>\n    </tr>\n    <tr>\n      <th>48307</th>\n      <td>2011-03-10</td>\n      <td>schippers</td>\n      <td>VVD</td>\n      <td>In de zorg is het cruciaal dat iedereen samenw...</td>\n      <td>0.874898</td>\n    </tr>\n    <tr>\n      <th>290752</th>\n      <td>2015-11-05</td>\n      <td>schippers</td>\n      <td>VVD</td>\n      <td>Het is heel moeilijk om dit soort wetten in el...</td>\n      <td>0.874922</td>\n    </tr>\n    <tr>\n      <th>44322</th>\n      <td>2011-02-09</td>\n      <td>van gerven</td>\n      <td>SP</td>\n      <td>Dit amendement heeft, net als andere amendemen...</td>\n      <td>0.875757</td>\n    </tr>\n  </tbody>\n</table>\n</div>"
     },
     "metadata": {},
     "execution_count": 23
    }
   ],
   "source": [
    "%%time \n",
    "\n",
    "best_K = u.get_nns_by_item(15, 25, include_distances = True)\n",
    "out = embeddings.iloc[best_K[0],:]\n",
    "out[\"similarity\"] = best_K[1]\n",
    "out[[\"datum\", \"speaker\", \"party\", \"text\", \"similarity\"]]\n",
    "    "
   ]
  },
  {
   "cell_type": "code",
   "execution_count": 14,
   "metadata": {},
   "outputs": [
    {
     "output_type": "execute_result",
     "data": {
      "text/plain": "[15,\n 13,\n 456094,\n 8139,\n 374701,\n 98092,\n 319610,\n 313336,\n 181536,\n 282267,\n 104973,\n 104975,\n 462834,\n 175552,\n 43775,\n 249625,\n 336375,\n 165,\n 131005,\n 262970,\n 455494,\n 74067,\n 48307,\n 290752,\n 44322]"
     },
     "metadata": {},
     "execution_count": 14
    }
   ],
   "source": [
    "best_K"
   ]
  },
  {
   "cell_type": "code",
   "execution_count": 17,
   "metadata": {
    "tags": []
   },
   "outputs": [
    {
     "output_type": "stream",
     "name": "stdout",
     "text": "CPU times: user 1.64 s, sys: 667 ms, total: 2.31 s\nWall time: 1.88 s\n"
    },
    {
     "output_type": "execute_result",
     "data": {
      "text/plain": "            datum                 speaker party  \\\n25     2010-01-12               ter horst  PvdA   \n381835 2017-11-30         de heer van dam   CDA   \n175157 2013-09-03                marcouch  PvdA   \n369861 2017-09-13         de heer van dam   CDA   \n61166  2011-05-31               opstelten   CDA   \n8840   2010-03-11                  laaper  PvdA   \n20729  2010-09-15           hirsch ballin   CDA   \n369863 2017-09-13        de heer van raak    SP   \n369869 2017-09-13           minister blok   NaN   \n369866 2017-09-13   de heer gijs van dijk  PvdA   \n72059  2011-09-22                    slob    CU   \n7909   2010-03-02           hirsch ballin   CDA   \n119103 2012-05-24                   rutte   VVD   \n20677  2010-09-15                brinkman   PVV   \n295968 2015-11-26  minister van der steur   NaN   \n456943 2019-04-18     de heer groothuizen   D66   \n20761  2010-09-15           hirsch ballin   CDA   \n18563  2010-06-23                  teeven   VVD   \n309165 2016-03-08  mevrouw van toorenburg   CDA   \n8867   2010-03-11                   anker    CU   \n433529 2018-11-22       mevrouw buitenweg    GL   \n370955 2017-09-21        de heer van raak    SP   \n135766 2012-11-28                  bontes   PVV   \n44918  2011-02-10               opstelten   CDA   \n370964 2017-09-21          mevrouw kuiken  PvdA   \n\n                                                     text  similarity  \n25      De voorbeeldkorpsen die staan in het rapportje...    1.000000  \n381835  Voorzitter, dank u wel. Allereerst een woord v...    0.753841  \n175157  Mevrouw Helder heeft een soft en een hard cita...    0.753738  \n369861  Dank u wel, voorzitter. Het overgrote deel van...    0.721770  \n61166   Voorzitter. Dank aan de heer Çörüz voor de doo...    0.713361  \n8840    De minister is primair in de positie om antwoo...    0.711036  \n20729   Mijnheer de voorzitter. Ik wil graag beginnen ...    0.706071  \n369863  Laatst was ik op een vrijdag op een plein in A...    0.702382  \n369869  Voorzitter. De meeste sprekers besteden in hun...    0.698894  \n369866  Voorzitter, dank u wel. Door meerdere woordvoe...    0.695503  \n72059   Ik heb hier gisteren inderdaad ook een paar vr...    0.692800  \n7909    Mevrouw de voorzitter. Evenals mijn zeer gewaa...    0.692407  \n119103  Ze zijn er echt niet, maar het jaarverslag van...    0.691304  \n20677   Ja. Ik ben ervan overtuigd dat de nieuwe plann...    0.690969  \n295968  Ik heb gezegd dat we met alle stappen die we z...    0.690832  \n456943  Ik ga mijn best doen, voorzitter. Voorzitter. ...    0.688970  \n20761   Voorzitter. Ik reageer graag op de motie van d...    0.688028  \n18563   We zijn het eens met de opmerkingen van mevrou...    0.685581  \n309165  Voorzitter. Criminelen zijn aan het verhuizen ...    0.685497  \n8867    Voorzitter. Wij spreken in de Kamer regelmatig...    0.685340  \n433529  Dan kom ik nog te spreken over de politie en d...    0.684766  \n370955  De voorzitter merkt het ook. Je voelt het ook ...    0.684016  \n135766  Ook dat zeg ik niet. Mevrouw Berndsen blijft m...    0.683277  \n44918   Ik moet dan toch iets rechtzetten over de rol ...    0.682897  \n370964  Voorzitter. Dit is een ongemakkelijk debat. De...    0.681347  ",
      "text/html": "<div>\n<style scoped>\n    .dataframe tbody tr th:only-of-type {\n        vertical-align: middle;\n    }\n\n    .dataframe tbody tr th {\n        vertical-align: top;\n    }\n\n    .dataframe thead th {\n        text-align: right;\n    }\n</style>\n<table border=\"1\" class=\"dataframe\">\n  <thead>\n    <tr style=\"text-align: right;\">\n      <th></th>\n      <th>datum</th>\n      <th>speaker</th>\n      <th>party</th>\n      <th>text</th>\n      <th>similarity</th>\n    </tr>\n  </thead>\n  <tbody>\n    <tr>\n      <th>25</th>\n      <td>2010-01-12</td>\n      <td>ter horst</td>\n      <td>PvdA</td>\n      <td>De voorbeeldkorpsen die staan in het rapportje...</td>\n      <td>1.000000</td>\n    </tr>\n    <tr>\n      <th>381835</th>\n      <td>2017-11-30</td>\n      <td>de heer van dam</td>\n      <td>CDA</td>\n      <td>Voorzitter, dank u wel. Allereerst een woord v...</td>\n      <td>0.753841</td>\n    </tr>\n    <tr>\n      <th>175157</th>\n      <td>2013-09-03</td>\n      <td>marcouch</td>\n      <td>PvdA</td>\n      <td>Mevrouw Helder heeft een soft en een hard cita...</td>\n      <td>0.753738</td>\n    </tr>\n    <tr>\n      <th>369861</th>\n      <td>2017-09-13</td>\n      <td>de heer van dam</td>\n      <td>CDA</td>\n      <td>Dank u wel, voorzitter. Het overgrote deel van...</td>\n      <td>0.721770</td>\n    </tr>\n    <tr>\n      <th>61166</th>\n      <td>2011-05-31</td>\n      <td>opstelten</td>\n      <td>CDA</td>\n      <td>Voorzitter. Dank aan de heer Çörüz voor de doo...</td>\n      <td>0.713361</td>\n    </tr>\n    <tr>\n      <th>8840</th>\n      <td>2010-03-11</td>\n      <td>laaper</td>\n      <td>PvdA</td>\n      <td>De minister is primair in de positie om antwoo...</td>\n      <td>0.711036</td>\n    </tr>\n    <tr>\n      <th>20729</th>\n      <td>2010-09-15</td>\n      <td>hirsch ballin</td>\n      <td>CDA</td>\n      <td>Mijnheer de voorzitter. Ik wil graag beginnen ...</td>\n      <td>0.706071</td>\n    </tr>\n    <tr>\n      <th>369863</th>\n      <td>2017-09-13</td>\n      <td>de heer van raak</td>\n      <td>SP</td>\n      <td>Laatst was ik op een vrijdag op een plein in A...</td>\n      <td>0.702382</td>\n    </tr>\n    <tr>\n      <th>369869</th>\n      <td>2017-09-13</td>\n      <td>minister blok</td>\n      <td>NaN</td>\n      <td>Voorzitter. De meeste sprekers besteden in hun...</td>\n      <td>0.698894</td>\n    </tr>\n    <tr>\n      <th>369866</th>\n      <td>2017-09-13</td>\n      <td>de heer gijs van dijk</td>\n      <td>PvdA</td>\n      <td>Voorzitter, dank u wel. Door meerdere woordvoe...</td>\n      <td>0.695503</td>\n    </tr>\n    <tr>\n      <th>72059</th>\n      <td>2011-09-22</td>\n      <td>slob</td>\n      <td>CU</td>\n      <td>Ik heb hier gisteren inderdaad ook een paar vr...</td>\n      <td>0.692800</td>\n    </tr>\n    <tr>\n      <th>7909</th>\n      <td>2010-03-02</td>\n      <td>hirsch ballin</td>\n      <td>CDA</td>\n      <td>Mevrouw de voorzitter. Evenals mijn zeer gewaa...</td>\n      <td>0.692407</td>\n    </tr>\n    <tr>\n      <th>119103</th>\n      <td>2012-05-24</td>\n      <td>rutte</td>\n      <td>VVD</td>\n      <td>Ze zijn er echt niet, maar het jaarverslag van...</td>\n      <td>0.691304</td>\n    </tr>\n    <tr>\n      <th>20677</th>\n      <td>2010-09-15</td>\n      <td>brinkman</td>\n      <td>PVV</td>\n      <td>Ja. Ik ben ervan overtuigd dat de nieuwe plann...</td>\n      <td>0.690969</td>\n    </tr>\n    <tr>\n      <th>295968</th>\n      <td>2015-11-26</td>\n      <td>minister van der steur</td>\n      <td>NaN</td>\n      <td>Ik heb gezegd dat we met alle stappen die we z...</td>\n      <td>0.690832</td>\n    </tr>\n    <tr>\n      <th>456943</th>\n      <td>2019-04-18</td>\n      <td>de heer groothuizen</td>\n      <td>D66</td>\n      <td>Ik ga mijn best doen, voorzitter. Voorzitter. ...</td>\n      <td>0.688970</td>\n    </tr>\n    <tr>\n      <th>20761</th>\n      <td>2010-09-15</td>\n      <td>hirsch ballin</td>\n      <td>CDA</td>\n      <td>Voorzitter. Ik reageer graag op de motie van d...</td>\n      <td>0.688028</td>\n    </tr>\n    <tr>\n      <th>18563</th>\n      <td>2010-06-23</td>\n      <td>teeven</td>\n      <td>VVD</td>\n      <td>We zijn het eens met de opmerkingen van mevrou...</td>\n      <td>0.685581</td>\n    </tr>\n    <tr>\n      <th>309165</th>\n      <td>2016-03-08</td>\n      <td>mevrouw van toorenburg</td>\n      <td>CDA</td>\n      <td>Voorzitter. Criminelen zijn aan het verhuizen ...</td>\n      <td>0.685497</td>\n    </tr>\n    <tr>\n      <th>8867</th>\n      <td>2010-03-11</td>\n      <td>anker</td>\n      <td>CU</td>\n      <td>Voorzitter. Wij spreken in de Kamer regelmatig...</td>\n      <td>0.685340</td>\n    </tr>\n    <tr>\n      <th>433529</th>\n      <td>2018-11-22</td>\n      <td>mevrouw buitenweg</td>\n      <td>GL</td>\n      <td>Dan kom ik nog te spreken over de politie en d...</td>\n      <td>0.684766</td>\n    </tr>\n    <tr>\n      <th>370955</th>\n      <td>2017-09-21</td>\n      <td>de heer van raak</td>\n      <td>SP</td>\n      <td>De voorzitter merkt het ook. Je voelt het ook ...</td>\n      <td>0.684016</td>\n    </tr>\n    <tr>\n      <th>135766</th>\n      <td>2012-11-28</td>\n      <td>bontes</td>\n      <td>PVV</td>\n      <td>Ook dat zeg ik niet. Mevrouw Berndsen blijft m...</td>\n      <td>0.683277</td>\n    </tr>\n    <tr>\n      <th>44918</th>\n      <td>2011-02-10</td>\n      <td>opstelten</td>\n      <td>CDA</td>\n      <td>Ik moet dan toch iets rechtzetten over de rol ...</td>\n      <td>0.682897</td>\n    </tr>\n    <tr>\n      <th>370964</th>\n      <td>2017-09-21</td>\n      <td>mevrouw kuiken</td>\n      <td>PvdA</td>\n      <td>Voorzitter. Dit is een ongemakkelijk debat. De...</td>\n      <td>0.681347</td>\n    </tr>\n  </tbody>\n</table>\n</div>"
     },
     "metadata": {},
     "execution_count": 17
    }
   ],
   "source": [
    "%%time \n",
    "find_speeches(25, embeddings, K =25)"
   ]
  },
  {
   "cell_type": "code",
   "execution_count": null,
   "metadata": {},
   "outputs": [],
   "source": []
  }
 ]
}